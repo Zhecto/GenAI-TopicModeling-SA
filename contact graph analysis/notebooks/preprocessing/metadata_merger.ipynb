{
  "nbformat": 4,
  "nbformat_minor": 0,
  "metadata": {
    "colab": {
      "provenance": []
    },
    "kernelspec": {
      "name": "python3",
      "display_name": "Python 3"
    },
    "language_info": {
      "name": "python"
    }
  },
  "cells": [
    {
      "cell_type": "code",
      "source": [
        "from google.colab import files\n",
        "uploaded = files.upload()"
      ],
      "metadata": {
        "id": "7rUFvJBOYlv9"
      },
      "execution_count": null,
      "outputs": []
    },
    {
      "cell_type": "code",
      "source": [
        "import pandas as pd\n",
        "import re\n",
        "\n",
        "contacts = pd.read_csv('tij_LH10.dat', sep=' ', header=None, names=['timestamp', 'person_A', 'person_B'])\n",
        "\n",
        "# Adjust the name if your metadata file is called something else (e.g., metadata_Thiers13.dat)\n",
        "meta = pd.read_csv('metadata_LH10.dat', header=None, names=['raw'])\n",
        "\n",
        "# Extract person IDs and group labels\n",
        "meta['person_id'] = meta['raw'].apply(lambda x: int(re.findall(r'\\d+', str(x))[0]))  # Extract number\n",
        "meta['group'] = meta['raw'].apply(lambda x: re.findall(r'[A-Za-z]+', str(x))[0] if re.findall(r'[A-Za-z]+', str(x)) else None)\n",
        "\n",
        "# Merge group labels for both persons\n",
        "contacts = contacts.merge(meta[['person_id', 'group']], left_on='person_A', right_on='person_id', how='left') \\\n",
        "                   .rename(columns={'group': 'group_A'}).drop(columns=['person_id'])\n",
        "\n",
        "contacts = contacts.merge(meta[['person_id', 'group']], left_on='person_B', right_on='person_id', how='left') \\\n",
        "                   .rename(columns={'group': 'group_B'}).drop(columns=['person_id'])\n",
        "\n",
        "# Standardize timestamps (SocioPatterns use 20s intervals)\n",
        "contacts['time_seconds'] = contacts['timestamp'] * 20\n",
        "contacts['time_minutes'] = contacts['time_seconds'] / 60\n",
        "contacts['time_hours'] = contacts['time_seconds'] / 3600\n",
        "\n",
        "# Save final cleaned dataset\n",
        "output_csv = \"tij__merged.csv\"\n",
        "contacts.to_csv(output_csv, index=False)\n",
        "print(f\"Cleaned and merged data saved as: {output_csv}\")\n",
        "\n",
        "# Download the result\n",
        "files.download(output_csv)\n"
      ],
      "metadata": {
        "id": "FEvtKaJ3V_Gc"
      },
      "execution_count": null,
      "outputs": []
    }
  ]
}