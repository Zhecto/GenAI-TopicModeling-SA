{
 "cells": [
  {
   "cell_type": "markdown",
   "id": "d05c2221",
   "metadata": {},
   "source": [
    "Compilation of notebooks\n"
   ]
  }
 ],
 "metadata": {
  "language_info": {
   "name": "python"
  }
 },
 "nbformat": 4,
 "nbformat_minor": 5
}
