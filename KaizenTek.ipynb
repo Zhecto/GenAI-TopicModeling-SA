{
 "cells": [
  {
   "cell_type": "code",
   "execution_count": null,
   "id": "d2de6d41",
   "metadata": {},
   "outputs": [],
   "source": []
  },
  {
   "cell_type": "code",
   "execution_count": null,
   "id": "28daad95",
   "metadata": {},
   "outputs": [],
   "source": []
  },
  {
   "cell_type": "code",
   "execution_count": null,
   "id": "4a811656",
   "metadata": {},
   "outputs": [],
   "source": []
  },
  {
   "cell_type": "markdown",
   "id": "db62021a",
   "metadata": {},
   "source": [
    "LSA"
   ]
  },
  {
   "cell_type": "code",
   "execution_count": 5,
   "id": "be22b837",
   "metadata": {},
   "outputs": [],
   "source": [
    "from sklearn.feature_extraction.text import TfidfVectorizer\n",
    "from sklearn.decomposition import TruncatedSVD\n",
    "import pandas as pd\n",
    "import numpy as np\n",
    "import matplotlib.pyplot as plt\n",
    "import seaborn as sns\n",
    "\n",
    "import warnings\n",
    "warnings.filterwarnings('ignore')"
   ]
  },
  {
   "cell_type": "code",
   "execution_count": null,
   "id": "b5d468a6",
   "metadata": {},
   "outputs": [
    {
     "name": "stdout",
     "output_type": "stream",
     "text": [
      "       source_name                 date_clean  \\\n",
      "count          206                        206   \n",
      "unique          33                         65   \n",
      "top         Zenodo  2025-02-01 00:00:00+00:00   \n",
      "freq            58                         57   \n",
      "\n",
      "                                               text_clean        link  \n",
      "count                                                 206         205  \n",
      "unique                                                205          89  \n",
      "top     Advancements in generative #AI have had a sign...  Zenodo.org  \n",
      "freq                                                    2          58  \n"
     ]
    }
   ],
   "source": [
    "plt.style.use('default')\n",
    "sns.set_palette(\"husl\")\n",
    "plt.rcParams['figure.figsize'] = (12, 8)\n",
    "\n",
    "df = pd.read_csv('data/clean_genai-education_2023-2025.csv') \n",
    "print(df.describe())\n",
    "\n",
    "documents = df['text_clean'].tolist()\n",
    "texts = [doc.split() for doc in documents]  # tokenized for coherence"
   ]
  },
  {
   "cell_type": "code",
   "execution_count": null,
   "id": "61df22fe",
   "metadata": {},
   "outputs": [
    {
     "ename": "NameError",
     "evalue": "name 'X' is not defined",
     "output_type": "error",
     "traceback": [
      "\u001b[31m---------------------------------------------------------------------------\u001b[39m",
      "\u001b[31mNameError\u001b[39m                                 Traceback (most recent call last)",
      "\u001b[36mCell\u001b[39m\u001b[36m \u001b[39m\u001b[32mIn[7]\u001b[39m\u001b[32m, line 13\u001b[39m\n\u001b[32m     10\u001b[39m explained_variances = []\n\u001b[32m     12\u001b[39m \u001b[38;5;28;01mfor\u001b[39;00m n \u001b[38;5;129;01min\u001b[39;00m topic_range:\n\u001b[32m---> \u001b[39m\u001b[32m13\u001b[39m     explained_var, lsa_model = compute_lsa_metrics(\u001b[43mX\u001b[49m, terms, n)\n\u001b[32m     14\u001b[39m     explained_variances.append(explained_var)\n\u001b[32m     16\u001b[39m \u001b[38;5;66;03m# Plot only explained variance\u001b[39;00m\n",
      "\u001b[31mNameError\u001b[39m: name 'X' is not defined"
     ]
    }
   ],
   "source": [
    "vectorizer = TfidfVectorizer(max_df=0.95, min_df=2, stop_words='english')\n",
    "X = vectorizer.fit_transform(documents)\n",
    "terms = vectorizer.get_feature_names_out()"
   ]
  },
  {
   "cell_type": "code",
   "execution_count": null,
   "id": "61c17be6",
   "metadata": {},
   "outputs": [],
   "source": [
    "def compute_lsa_metrics(X, terms, n_topics, num_words=10):\n",
    "    lsa = TruncatedSVD(n_components=n_topics, random_state=42)\n",
    "    lsa.fit(X)\n",
    "    explained_var = lsa.explained_variance_ratio_.sum()\n",
    "    return explained_var, lsa\n",
    "\n",
    "# Plot explained variance for different numbers of topics\n",
    "topic_range = range(3, 11)\n",
    "explained_variances = []\n",
    "\n",
    "for n in topic_range:\n",
    "    explained_var, lsa_model = compute_lsa_metrics(X, terms, n)\n",
    "    explained_variances.append(explained_var)\n",
    "\n",
    "# Plot only explained variance (without coherence)\n",
    "plt.figure(figsize=(10, 6))\n",
    "plt.plot(topic_range, explained_variances, marker='s', color='blue', label=\"Explained Variance\")\n",
    "plt.xlabel(\"Number of Topics\")\n",
    "plt.ylabel(\"Explained Variance Ratio\")\n",
    "plt.title(\"LSA: Explained Variance by Number of Topics\")\n",
    "plt.legend()\n",
    "plt.grid(alpha=0.3)\n",
    "plt.show()"
   ]
  },
  {
   "cell_type": "code",
   "execution_count": null,
   "id": "53b582d8",
   "metadata": {},
   "outputs": [],
   "source": []
  },
  {
   "cell_type": "code",
   "execution_count": null,
   "id": "422f0190",
   "metadata": {},
   "outputs": [],
   "source": [
    "summary_data = []\n",
    "for i in range(lsa_final.n_components):\n",
    "    top_words = [terms[idx] for idx in lsa_final.components_[i].argsort()[-num_words:]][::-1]\n",
    "    summary_data.append({\n",
    "        'Topic': f'Topic {i+1}',\n",
    "        'Explained Variance': f'{lsa_final.explained_variance_ratio_[i]:.1%}',\n",
    "        'Top 10 Words': ', '.join(top_words),\n",
    "        'Avg Document Score': f'{X_lsa[:, i].mean():.3f}',\n",
    "        'Score Std Dev': f'{X_lsa[:, i].std():.3f}'\n",
    "    })\n",
    "\n",
    "summary_df = pd.DataFrame(summary_data)\n",
    "print(\"\\nLSA TOPIC SUMMARY:\")\n",
    "print(\"=\"*170)\n",
    "print(summary_df.to_string(index=False))\n",
    "\n",
    "print(\"\\n\" + \"=\"*60)\n",
    "print(f\"Generated {n_topics} topics explaining {lsa_final.explained_variance_ratio_.sum():.1%} of total variance\")\n",
    "print(\"=\"*60)"
   ]
  },
  {
   "cell_type": "markdown",
   "id": "a33b6570",
   "metadata": {},
   "source": []
  },
  {
   "cell_type": "code",
   "execution_count": null,
   "id": "bdbd3e22",
   "metadata": {},
   "outputs": [],
   "source": []
  }
 ],
 "metadata": {
  "kernelspec": {
   "display_name": "Python 3",
   "language": "python",
   "name": "python3"
  },
  "language_info": {
   "codemirror_mode": {
    "name": "ipython",
    "version": 3
   },
   "file_extension": ".py",
   "mimetype": "text/x-python",
   "name": "python",
   "nbconvert_exporter": "python",
   "pygments_lexer": "ipython3",
   "version": "3.13.3"
  }
 },
 "nbformat": 4,
 "nbformat_minor": 5
}
