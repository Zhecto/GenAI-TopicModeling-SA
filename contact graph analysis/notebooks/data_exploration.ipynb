{
  "nbformat": 4,
  "nbformat_minor": 0,
  "metadata": {
    "colab": {
      "provenance": [],
      "gpuType": "T4",
      "include_colab_link": true
    },
    "kernelspec": {
      "name": "python3",
      "display_name": "Python 3"
    },
    "language_info": {
      "name": "python"
    },
    "accelerator": "GPU"
  },
  "cells": [
    {
      "cell_type": "markdown",
      "metadata": {
        "id": "view-in-github",
        "colab_type": "text"
      },
      "source": [
        "<a href=\"https://colab.research.google.com/github/Zhecto/KaizenTek-Data-Mining/blob/main/data_exploration.ipynb\" target=\"_parent\"><img src=\"https://colab.research.google.com/assets/colab-badge.svg\" alt=\"Open In Colab\"/></a>"
      ]
    },
    {
      "cell_type": "markdown",
      "source": [
        "#**📍 Data Exploration**"
      ],
      "metadata": {
        "id": "nWY9n0RjABgt"
      }
    },
    {
      "cell_type": "markdown",
      "source": [
        "**IMPORTS**"
      ],
      "metadata": {
        "id": "sKWZVzY6HQq6"
      }
    },
    {
      "cell_type": "code",
      "execution_count": null,
      "metadata": {
        "id": "GdtkUoM7-Hvf"
      },
      "outputs": [],
      "source": [
        "import pandas as pd\n",
        "\n",
        "import warnings\n",
        "warnings.filterwarnings('ignore')"
      ]
    },
    {
      "cell_type": "code",
      "source": [
        "# url = \"https://drive.google.com/uc?export=download&id=10AnjPf_5nOMU1Gwg7SQKZP6cWFxhxdMY\"\n",
        "# df = pd.read_csv(url)\n",
        "\n",
        "# print(df.head)"
      ],
      "metadata": {
        "id": "VI6SKHCtBJpM"
      },
      "execution_count": null,
      "outputs": []
    }
  ]
}