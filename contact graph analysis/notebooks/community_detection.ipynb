{
 "cells": [
  {
   "cell_type": "code",
   "execution_count": null,
   "id": "d62a6507",
   "metadata": {},
   "outputs": [],
   "source": [
    "import networkx as nx\n",
    "import pandas as pd\n",
    "import matplotlib.pyplot as plt\n",
    "import seaborn as sns\n",
    "import community.community_louvain as community_louvain\n",
    "from networkx.algorithms.community import girvan_newman\n",
    "from networkx.algorithms.community.quality import modularity"
   ]
  },
  {
   "cell_type": "code",
   "execution_count": null,
   "id": "fdf4d22f",
   "metadata": {},
   "outputs": [],
   "source": [
    "# Load cleaned dataset\n",
    "df = pd.read_csv('cleaned_dataset.csv')\n",
    "df = df[df['person_A'] != df['person_B']]\n",
    "\n",
    "# Aggregate contacts as weights\n",
    "edge_df = df.groupby(['person_A', 'person_B']).size().reset_index(name='weight')\n",
    "\n",
    "G = nx.Graph()\n",
    "for _, row in edge_df.iterrows():\n",
    "    G.add_edge(row['person_A'], row['person_B'], weight=row['weight'])\n",
    "\n",
    "print(\"Nodes:\", G.number_of_nodes(), \"| Edges:\", G.number_of_edges())"
   ]
  },
  {
   "cell_type": "code",
   "execution_count": null,
   "id": "a32cc31b",
   "metadata": {},
   "outputs": [],
   "source": [
    "# Run Louvain community detection\n",
    "partition = community_louvain.best_partition(G, weight='weight')\n",
    "\n",
    "# Add community info to node attributes\n",
    "nx.set_node_attributes(G, partition, 'community')\n",
    "\n",
    "# Convert to DataFrame\n",
    "community_df = pd.DataFrame(list(partition.items()), columns=['Person', 'Community'])\n",
    "print(community_df.head())"
   ]
  },
  {
   "cell_type": "code",
   "execution_count": null,
   "id": "967e9aab",
   "metadata": {},
   "outputs": [],
   "source": [
    "# Compute first few communities\n",
    "comp = girvan_newman(G)\n",
    "limited = tuple(sorted(c) for c in next(comp))\n",
    "print(f\"Detected {len(limited)} communities using Girvan-Newman.\")"
   ]
  },
  {
   "cell_type": "code",
   "execution_count": null,
   "id": "7de7bf0e",
   "metadata": {},
   "outputs": [],
   "source": [
    "# Extract community sets\n",
    "communities = {}\n",
    "for node, comm_id in partition.items():\n",
    "    communities.setdefault(comm_id, set()).add(node)\n",
    "\n",
    "mod_score = modularity(G, communities.values())\n",
    "print(f\"Modularity Score: {mod_score:.3f}\")\n"
   ]
  },
  {
   "cell_type": "code",
   "execution_count": null,
   "id": "22459827",
   "metadata": {},
   "outputs": [],
   "source": [
    "plt.figure(figsize=(10, 8))\n",
    "pos = nx.spring_layout(G, seed=42)\n",
    "\n",
    "# Color nodes by community\n",
    "communities_colors = [partition[node] for node in G.nodes()]\n",
    "nx.draw_networkx(\n",
    "    G, pos,\n",
    "    node_color=communities_colors,\n",
    "    cmap='tab10',\n",
    "    with_labels=False,\n",
    "    node_size=50,\n",
    "    edge_color='gray',\n",
    "    alpha=0.6\n",
    ")\n",
    "\n",
    "plt.title(\"Community Detection (Louvain Method)\", fontsize=13)\n",
    "plt.show()\n"
   ]
  },
  {
   "cell_type": "code",
   "execution_count": null,
   "id": "6eb898dd",
   "metadata": {},
   "outputs": [],
   "source": [
    "community_sizes = community_df['Community'].value_counts().reset_index()\n",
    "community_sizes.columns = ['Community', 'Size']\n",
    "print(community_sizes)\n",
    "\n",
    "plt.figure(figsize=(6,4))\n",
    "sns.barplot(x='Community', y='Size', data=community_sizes, palette='tab10')\n",
    "plt.title(\"Community Size Distribution\")\n",
    "plt.show()\n"
   ]
  }
 ],
 "metadata": {
  "language_info": {
   "name": "python"
  }
 },
 "nbformat": 4,
 "nbformat_minor": 5
}
