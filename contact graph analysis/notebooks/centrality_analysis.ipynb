{
 "cells": [
  {
   "cell_type": "code",
   "execution_count": null,
   "id": "fe4af738",
   "metadata": {},
   "outputs": [],
   "source": [
    "import pandas as pd\n",
    "import networkx as nx\n",
    "import matplotlib.pyplot as plt"
   ]
  },
  {
   "cell_type": "code",
   "execution_count": null,
   "id": "ec246044",
   "metadata": {},
   "outputs": [],
   "source": [
    "# Loading data\n",
    "df = pd.read_csv('cleaned_data.csv')\n",
    "\n",
    "# Just in case: remove self-links\n",
    "df = df[df['person_A'] != df['person_B']]\n",
    "\n",
    "# Count frequency of contact (proxy for edge weight)\n",
    "edge_df = df.groupby(['person_A', 'person_B']).size().reset_index(name='weight')\n",
    "\n",
    "# Build weighted graph\n",
    "G = nx.Graph()\n",
    "for _, row in edge_df.iterrows():\n",
    "    G.add_edge(row['person_A'], row['person_B'], weight=row['weight'])\n",
    "\n",
    "print(f\"Nodes: {G.number_of_nodes()}\\nEdges: {G.number_of_edges()}\")"
   ]
  },
  {
   "cell_type": "code",
   "execution_count": null,
   "id": "c17c3882",
   "metadata": {},
   "outputs": [],
   "source": [
    "# Compute centrality metrics\n",
    "degree_centrality = nx.degree_centrality(G)\n",
    "betweenness_centrality = nx.betweenness_centrality(G, weight='weight')\n",
    "closeness_centrality = nx.closeness_centrality(G)\n",
    "eigenvector_centrality = nx.eigenvector_centrality(G, max_iter=500, weight='weight')\n",
    "\n",
    "# Combine into a single DataFrame\n",
    "centrality_df = pd.DataFrame({\n",
    "    'Degree': degree_centrality,\n",
    "    'Betweenness': betweenness_centrality,\n",
    "    'Closeness': closeness_centrality,\n",
    "    'Eigenvector': eigenvector_centrality\n",
    "}).reset_index().rename(columns={'index': 'Person'})\n",
    "\n",
    "# Rank each metric\n",
    "centrality_df = centrality_df.sort_values(by='Degree', ascending=False)\n",
    "print(centrality_df.head(10))"
   ]
  },
  {
   "cell_type": "code",
   "execution_count": null,
   "id": "29544614",
   "metadata": {},
   "outputs": [
    {
     "ename": "NameError",
     "evalue": "name 'centrality_df' is not defined",
     "output_type": "error",
     "traceback": [
      "\u001b[31m---------------------------------------------------------------------------\u001b[39m",
      "\u001b[31mNameError\u001b[39m                                 Traceback (most recent call last)",
      "\u001b[36mCell\u001b[39m\u001b[36m \u001b[39m\u001b[32mIn[1]\u001b[39m\u001b[32m, line 4\u001b[39m\n\u001b[32m      1\u001b[39m metrics = [\u001b[33m'\u001b[39m\u001b[33mDegree\u001b[39m\u001b[33m'\u001b[39m, \u001b[33m'\u001b[39m\u001b[33mBetweenness\u001b[39m\u001b[33m'\u001b[39m, \u001b[33m'\u001b[39m\u001b[33mCloseness\u001b[39m\u001b[33m'\u001b[39m, \u001b[33m'\u001b[39m\u001b[33mEigenvector\u001b[39m\u001b[33m'\u001b[39m]\n\u001b[32m      3\u001b[39m \u001b[38;5;28;01mfor\u001b[39;00m metric \u001b[38;5;129;01min\u001b[39;00m metrics:\n\u001b[32m----> \u001b[39m\u001b[32m4\u001b[39m     top_nodes = \u001b[43mcentrality_df\u001b[49m.nlargest(\u001b[32m10\u001b[39m, metric)\n\u001b[32m      5\u001b[39m     plt.figure(figsize=(\u001b[32m8\u001b[39m, \u001b[32m4\u001b[39m))\n\u001b[32m      6\u001b[39m     plt.bar(top_nodes[\u001b[33m'\u001b[39m\u001b[33mPerson\u001b[39m\u001b[33m'\u001b[39m].astype(\u001b[38;5;28mstr\u001b[39m), top_nodes[metric], color=\u001b[33m'\u001b[39m\u001b[33mskyblue\u001b[39m\u001b[33m'\u001b[39m)\n",
      "\u001b[31mNameError\u001b[39m: name 'centrality_df' is not defined"
     ]
    }
   ],
   "source": [
    "# Visualize results\n",
    "metrics = ['Degree', 'Betweenness', 'Closeness', 'Eigenvector']\n",
    "\n",
    "for metric in metrics:\n",
    "    top_nodes = centrality_df.nlargest(10, metric)\n",
    "    plt.figure(figsize=(8, 4))\n",
    "    plt.bar(top_nodes['Person'].astype(str), top_nodes[metric], color='skyblue')\n",
    "    plt.title(f\"Top 10 Nodes by {metric} Centrality\")\n",
    "    plt.xticks(rotation=45)\n",
    "    plt.ylabel(metric)\n",
    "    plt.grid(alpha=0.3)\n",
    "    plt.show()\n"
   ]
  },
  {
   "cell_type": "code",
   "execution_count": null,
   "id": "1e7434de",
   "metadata": {},
   "outputs": [],
   "source": [
    "# Normalize metrics and compute average influence\n",
    "# This is to identify consistent super-spreaders\n",
    "centrality_df['Mean Influence'] = centrality_df[['Degree','Betweenness','Closeness','Eigenvector']].mean(axis=1)\n",
    "\n",
    "top_influencers = centrality_df.nlargest(10, 'Mean Influence')\n",
    "print(top_influencers)\n"
   ]
  }
 ],
 "metadata": {
  "kernelspec": {
   "display_name": "Python 3",
   "language": "python",
   "name": "python3"
  },
  "language_info": {
   "codemirror_mode": {
    "name": "ipython",
    "version": 3
   },
   "file_extension": ".py",
   "mimetype": "text/x-python",
   "name": "python",
   "nbconvert_exporter": "python",
   "pygments_lexer": "ipython3",
   "version": "3.13.3"
  }
 },
 "nbformat": 4,
 "nbformat_minor": 5
}
