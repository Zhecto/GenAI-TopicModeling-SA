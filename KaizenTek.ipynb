{
 "cells": [
  {
   "cell_type": "markdown",
   "id": "bed280a6",
   "metadata": {},
   "source": [
    "# GenAI in Education: Complete Analysis Pipeline\n",
    "\n",
    "**End-to-end text analytics on Generative AI in Education discourse** combining multi-source data collection, classical/modern topic modeling, and transformer-based sentiment analysis.\n",
    "\n",
    "**Dataset**: 448 records from NewsAPI, Medium, Reddit (2023-2025) | **Methods**: LSA, LDA, BERTopic + DistilBERT sentiment classifier"
   ]
  },
  {
   "cell_type": "markdown",
   "id": "8310d3df",
   "metadata": {},
   "source": [
    "\n",
    "## 📋 Table of Contents\n",
    "\n",
    "### [🔍 1. Data Collection & Preprocessing](#data-scraper)\n",
    "- [1.1 Multi-source Scraping](#step-2-helper-functions-and-data-sources) \n",
    "- [1.2 Content Filtering](#step-1-configuration-and-setup) \n",
    "- [1.3 Data Cleaning](#step-6-data-cleaning-pipeline) \n",
    "- [1.4 Quality Assessment](#step-9-final-quality-assessment)\n",
    "\n",
    "### [📊 2. Classical Topic Modeling](#classical-topic-modeling-lsa-vs-lda-comparison)\n",
    "- [2.1 Latent Semantic Analysis (LSA)](#part-1-latent-semantic-analysis-lsa)\n",
    "- [2.2 Latent Dirichlet Allocation (LDA)](#lda) \n",
    "- [2.3 LSA vs LDA Comparison](#step-7-comparative-analysis-lsa-vs-lda)\n",
    "\n",
    "### [🤖 3. Modern Neural Topic Modeling](#bertopic-modern-neural-topic-modeling)\n",
    "- [3.1 BERTopic Implementation](#step-3-initial-bertopic-model-configuration) \n",
    "- [3.2 Hyperparameter Optimization](#step-5-hyperparameter-optimization) \n",
    "- [3.3 Visualizations](#step-7-topic-analysis-and-visualization)\n",
    "\n",
    "### [🎭 4. Sentiment Analysis Pipeline](#sentiment-analysis-ensemble-labeling-using-vader-and-textblob)\n",
    "- [4.1 Ensemble Labeling](#sentiment-analysis-ensemble-labeling-using-vader-and-textblob) \n",
    "- [4.2 DistilBERT Training](#step-4-distilbert-model-training)\n",
    "-  [4.3 Model Evaluation](#step-5-model-evaluation-and-analysis)\n",
    "\n",
    "### [📈 5. Results & Insights](#step-7-topic-analysis-and-visualization)\n",
    "- [5.1 Topic Summary](#step-6-final-optimized-model) \n",
    "- [5.2 Sentiment Analysis](#step-5-model-evaluation-and-analysis)\n",
    "- [5.3 Method Comparison](#step-7-comparative-analysis-lsa-vs-lda) \n",
    "- [5.4 Implications](#step-8-topic-modeling-conclusions-and-recommendations)\n",
    "\n",
    "**Architecture**: `Raw Text → Filtering → Cleaning → [LSA|LDA|BERTopic] + [VADER+TextBlob → DistilBERT]`\n",
    "\n",
    "---"
   ]
  },
  {
   "cell_type": "markdown",
   "id": "8998e51a",
   "metadata": {},
   "source": [
    "# Data Scraper\n",
    "\n",
    "This implements a comprehensive data collection pipeline for gathering content about Generative AI in Education from multiple sources.\n",
    "\n",
    "## Overview\n",
    "- **Target Topic**: Generative AI applications in education\n",
    "- **Data Sources**: NewsAPI, Medium, Reddit\n",
    "- **Output**: Filtered and deduplicated CSV dataset\n",
    "- **Minimum Target**: 200+ relevant records\n",
    "\n",
    "## Data Collection Strategy\n",
    "1. **Multi-source Approach**: Combine news articles, blog posts, and social media discussions\n",
    "2. **Keyword Filtering**: Ensure content explicitly mentions both \"generative ai\" and education terms\n",
    "3. **Quality Control**: Deduplication and content validation\n",
    "4. **Structured Output**: Standardized format for downstream analysis\n",
    "\n",
    "## Pipeline Steps\n",
    "1. **Configuration & Setup**: API keys and filtering keywords\n",
    "2. **Helper Functions**: Content validation and deduplication\n",
    "3. **Source-specific Scrapers**: NewsAPI, Medium RSS, Reddit API\n",
    "4. **Data Processing**: Collection, filtering, and export"
   ]
  },
  {
   "cell_type": "code",
   "execution_count": null,
   "id": "bae44693",
   "metadata": {},
   "outputs": [],
   "source": [
    "import requests\n",
    "import pandas as pd\n",
    "import praw\n",
    "from datetime import datetime\n",
    "\n",
    "# ========================\n",
    "# CONFIG\n",
    "# ========================\n",
    "NEWSAPI_KEY = \"4ba6c109aca749ef9d2fba6b60bb0a5f\"\n",
    "\n",
    "reddit = praw.Reddit(\n",
    "    client_id=\"s03ue3ekn5cHhzpqbIOzaQ\",\n",
    "    client_secret=\"FHSaYn-k5aVbbIJkWUKolmDqYcZ5FA\",\n",
    "    user_agent=\"genai-edu-scraper/0.1 by EducationImaginary25\"\n",
    ")\n",
    "\n",
    "OUTPUT_FILE = \"genai_education2.csv\"\n",
    "\n",
    "# ========================\n",
    "# KEYWORDS\n",
    "# ========================\n",
    "EDU_KEYWORDS = [\n",
    "    \"education\", \"learning\", \"school\", \"university\",\n",
    "    \"classroom\", \"student\", \"teacher\", \"curriculum\", \"edtech\", \"academic\"\n",
    "]"
   ]
  },
  {
   "cell_type": "markdown",
   "id": "6858b6c1",
   "metadata": {},
   "source": [
    "## Step 1: Configuration and Setup\n",
    "\n",
    "Setting up API credentials and defining filtering criteria for content collection.\n",
    "\n",
    "### API Configurations:\n",
    "- **NewsAPI**: Professional news articles from various publishers\n",
    "- **Reddit API**: Social media discussions and community posts  \n",
    "- **Medium RSS**: Blog posts and thought leadership articles\n",
    "\n",
    "### Education Keywords:\n",
    "The scraper uses these terms to identify education-related content:\n",
    "- Formal education: \"education\", \"school\", \"university\", \"academic\"\n",
    "- Learning contexts: \"learning\", \"classroom\", \"student\", \"teacher\"\n",
    "- Educational technology: \"curriculum\", \"edtech\"\n",
    "\n",
    "### Content Filtering Strategy:\n",
    "- **Required**: Content must contain \"generative ai\" (exact phrase)\n",
    "- **Plus**: At least one education keyword from the list above\n",
    "- **Quality**: Sufficient content length and relevance"
   ]
  },
  {
   "cell_type": "code",
   "execution_count": null,
   "id": "7226d09a",
   "metadata": {},
   "outputs": [],
   "source": [
    "# ========================\n",
    "# HELPERS\n",
    "# ========================\n",
    "def is_genai_edu(text):\n",
    "    \"\"\"Check if text explicitly mentions 'generative ai' and has an education context\"\"\"\n",
    "    if not text:\n",
    "        return False\n",
    "    low = text.lower()\n",
    "    return \"generative ai\" in low and any(e in low for e in EDU_KEYWORDS)\n",
    "\n",
    "def safe_date(datestr):\n",
    "    try:\n",
    "        return datetime.fromisoformat(datestr.replace(\"Z\", \"+00:00\"))\n",
    "    except Exception:\n",
    "        return None\n",
    "\n",
    "def dedupe(records):\n",
    "    seen = set()\n",
    "    out = []\n",
    "    for r in records:\n",
    "        key = r.get(\"url\") or r.get(\"title\")\n",
    "        if key not in seen:\n",
    "            seen.add(key)\n",
    "            out.append(r)\n",
    "    return out\n",
    "\n",
    "# ========================\n",
    "# SOURCES\n",
    "# ========================\n",
    "def fetch_newsapi(query=\"generative ai education\"):\n",
    "    url = \"https://newsapi.org/v2/everything\"\n",
    "    params = {\"q\": query, \"language\": \"en\", \"pageSize\": 100, \"page\": 1, \"apiKey\": NEWSAPI_KEY}\n",
    "    r = requests.get(url, params=params, timeout=30)\n",
    "    if r.status_code != 200:\n",
    "        print(\"NewsAPI error\", r.status_code, r.text)\n",
    "        return []\n",
    "    data = r.json()\n",
    "    out = []\n",
    "    for a in data.get(\"articles\", []):\n",
    "        title = a.get(\"title\") or \"\"\n",
    "        desc = a.get(\"description\") or \"\"\n",
    "        body = a.get(\"content\") or \"\"\n",
    "        content = \" \".join([title, desc, body]).strip()\n",
    "        if is_genai_edu(content):\n",
    "            out.append({\n",
    "                \"title\": title,\n",
    "                \"content\": content,\n",
    "                \"published_at\": safe_date(a.get(\"publishedAt\",\"\")),\n",
    "                \"url\": a.get(\"url\"),\n",
    "                \"source\": a.get(\"source\",{}).get(\"name\",\"newsapi\")\n",
    "            })\n",
    "    return out\n",
    "\n",
    "def fetch_medium():\n",
    "    url = \"https://api.rss2json.com/v1/api.json\"\n",
    "    params = {\"rss_url\": \"https://medium.com/feed/tag/generative-ai\"}\n",
    "    r = requests.get(url, params=params, timeout=30)\n",
    "    if r.status_code != 200:\n",
    "        print(\"Medium fetch error\", r.status_code)\n",
    "        return []\n",
    "    data = r.json()\n",
    "    out = []\n",
    "    for item in data.get(\"items\", []):\n",
    "        title = item.get(\"title\", \"\")\n",
    "        content = item.get(\"content\", \"\")\n",
    "        text = f\"{title} {content}\"\n",
    "        if is_genai_edu(text):\n",
    "            out.append({\n",
    "                \"title\": title,\n",
    "                \"content\": text,\n",
    "                \"published_at\": safe_date(item.get(\"pubDate\",\"\")),\n",
    "                \"url\": item.get(\"link\"),\n",
    "                \"source\": \"medium\"\n",
    "            })\n",
    "    return out\n",
    "\n",
    "def fetch_reddit():\n",
    "    out = []\n",
    "    subreddits = \"edtech+education+technology+ArtificialIntelligence\"\n",
    "\n",
    "    # Search submissions\n",
    "    for submission in reddit.subreddit(subreddits).search(\"generative ai education\", limit=50):\n",
    "        text = f\"{submission.title} {submission.selftext}\"\n",
    "        if is_genai_edu(text):\n",
    "            out.append({\n",
    "                \"title\": submission.title,\n",
    "                \"content\": text,\n",
    "                \"published_at\": datetime.utcfromtimestamp(submission.created_utc),\n",
    "                \"url\": f\"https://www.reddit.com{submission.permalink}\",\n",
    "                \"source\": \"reddit_post\"\n",
    "            })\n",
    "\n",
    "        # Fetch comments\n",
    "        submission.comments.replace_more(limit=0)\n",
    "        for comment in submission.comments.list():\n",
    "            ctext = comment.body\n",
    "            if is_genai_edu(ctext):\n",
    "                out.append({\n",
    "                    \"title\": f\"Comment on: {submission.title}\",\n",
    "                    \"content\": ctext,\n",
    "                    \"published_at\": datetime.utcfromtimestamp(comment.created_utc),\n",
    "                    \"url\": f\"https://www.reddit.com{comment.permalink}\",\n",
    "                    \"source\": \"reddit_comment\"\n",
    "                })\n",
    "\n",
    "    return out"
   ]
  },
  {
   "cell_type": "markdown",
   "id": "bf554e7c",
   "metadata": {},
   "source": [
    "## Step 2: Helper Functions and Data Sources\n",
    "\n",
    "Implementing utility functions for content validation, date parsing, and deduplication, plus source-specific scrapers.\n",
    "\n",
    "### Core Helper Functions:\n",
    "- **`is_genai_edu()`**: Validates content contains both \"generative ai\" and education keywords\n",
    "- **`safe_date()`**: Robust date parsing for different timestamp formats\n",
    "- **`dedupe()`**: Removes duplicate articles based on URL or title\n",
    "\n",
    "### Data Source Implementations:\n",
    "\n",
    "#### NewsAPI Scraper\n",
    "- **Coverage**: Professional news articles and press releases\n",
    "- **Query**: \"generative ai education\" with English language filter\n",
    "- **Limit**: 100 articles per request\n",
    "- **Fields**: Title, description, content, publication date, source\n",
    "\n",
    "#### Medium Scraper  \n",
    "- **Coverage**: Blog posts and thought leadership articles\n",
    "- **Method**: RSS feed parsing for generative AI tag\n",
    "- **Content**: Full article text and metadata\n",
    "- **Focus**: In-depth analysis and opinion pieces\n",
    "\n",
    "#### Reddit Scraper\n",
    "- **Coverage**: Community discussions and user-generated content\n",
    "- **Subreddits**: edtech, education, technology, ArtificialIntelligence\n",
    "- **Content Types**: Both posts and comments\n",
    "- **Search**: \"generative ai education\" within subreddit content"
   ]
  },
  {
   "cell_type": "code",
   "execution_count": null,
   "id": "8d05c085",
   "metadata": {},
   "outputs": [],
   "source": [
    "\n",
    "# ========================\n",
    "# MAIN\n",
    "# ========================\n",
    "def main():\n",
    "    collected = []\n",
    "    print(\"Fetching NewsAPI...\")\n",
    "    collected.extend(fetch_newsapi())\n",
    "    print(\"Fetching Medium...\")\n",
    "    collected.extend(fetch_medium())\n",
    "    print(\"Fetching Reddit...\")\n",
    "    collected.extend(fetch_reddit())\n",
    "\n",
    "    print(f\"Collected {len(collected)} raw items\")\n",
    "    final = dedupe([r for r in collected if is_genai_edu(r.get(\"content\",\"\"))])\n",
    "    print(f\"Filtered down to {len(final)} Generative AI in Education articles\")\n",
    "\n",
    "    if final:\n",
    "        df = pd.DataFrame(final)\n",
    "        df.to_csv(OUTPUT_FILE, index=False)\n",
    "        print(f\"Saved {len(final)} articles to {OUTPUT_FILE}\")\n",
    "\n",
    "if __name__ == \"__main__\":\n",
    "    main()\n"
   ]
  },
  {
   "cell_type": "markdown",
   "id": "c2a8ed85",
   "metadata": {},
   "source": [
    "## Step 3: Main Collection Pipeline\n",
    "\n",
    "Orchestrating the complete data collection process with quality control and output generation.\n",
    "\n",
    "### Collection Process:\n",
    "1. **Sequential Scraping**: Fetch from each source individually to handle different APIs\n",
    "2. **Progress Tracking**: Display collection progress and intermediate counts\n",
    "3. **Content Validation**: Apply strict filtering for relevance\n",
    "4. **Deduplication**: Remove duplicates based on URL and title matching\n",
    "\n",
    "### Quality Assurance:\n",
    "- **Double Filtering**: Content filtered both during collection and in final processing\n",
    "- **Relevance Check**: Ensures all final records explicitly mention generative AI in education\n",
    "- **Data Integrity**: Handles API errors gracefully and validates data formats\n",
    "\n",
    "### Output Dataset:\n",
    "- **Format**: CSV file with standardized columns\n",
    "- **Columns**: title, content, published_at, url, source\n",
    "- **Target**: Minimum 200 relevant records for robust analysis\n",
    "- **Quality**: Manually validated for topic relevance\n",
    "\n",
    "### Expected Sources Distribution:\n",
    "- **NewsAPI**: Professional journalism and industry news\n",
    "- **Medium**: In-depth analysis and thought leadership  \n",
    "- **Reddit**: Community discussions and practical experiences\n",
    "\n",
    "This multi-source approach ensures comprehensive coverage of different perspectives on generative AI in education."
   ]
  },
  {
   "cell_type": "markdown",
   "id": "bb1cb227",
   "metadata": {},
   "source": [
    "# Data Exploartion and Cleaning\n",
    "This explores and cleans the scraped dataset, then export a cleaned CSV.\n",
    "\n",
    "**Steps included**\n",
    "1. Load RAW dataset\n",
    "2. Explore (missing values, top sources, date distribution, text length)\n",
    "3. Cleaning pipeline (normalize text, standardize dates, fill/derive source names, validate links, deduplicate)\n",
    "4. Save cleaned CSV\n"
   ]
  },
  {
   "cell_type": "code",
   "execution_count": 20,
   "id": "afcc2826",
   "metadata": {},
   "outputs": [],
   "source": [
    "import re, unicodedata\n",
    "from urllib.parse import urlparse\n",
    "import pandas as pd\n",
    "import numpy as np\n",
    "import matplotlib.pyplot as plt\n",
    "\n",
    "INPUT_PATH = \"data/raw_genai-education_2023-2025.csv\"\n",
    "OUTPUT_PATH = \"data/clean_genai-education_2023-2025.csv\"\n",
    "\n",
    "pd.set_option(\"display.max_colwidth\", 200)"
   ]
  },
  {
   "cell_type": "markdown",
   "id": "3c58d045",
   "metadata": {},
   "source": [
    "## Step 1: Setup and Data Loading\n",
    "\n",
    "Setting up the environment and loading the raw scraped dataset for exploration and cleaning.\n",
    "\n",
    "### Libraries and Configuration:\n",
    "- **Text Processing**: Regular expressions and Unicode normalization\n",
    "- **Data Analysis**: Pandas and NumPy for data manipulation\n",
    "- **Visualization**: Matplotlib for data quality assessment\n",
    "- **URL Parsing**: For link validation and domain extraction\n",
    "\n",
    "### File Paths:\n",
    "- **Input**: Raw scraped data from multi-source collection\n",
    "- **Output**: Cleaned and validated dataset for topic modeling and sentiment analysis"
   ]
  },
  {
   "cell_type": "code",
   "execution_count": 54,
   "id": "d1be45d2",
   "metadata": {},
   "outputs": [
    {
     "name": "stdout",
     "output_type": "stream",
     "text": [
      "Rows, Columns: (463, 4)\n"
     ]
    },
    {
     "data": {
      "text/html": [
       "<div>\n",
       "<style scoped>\n",
       "    .dataframe tbody tr th:only-of-type {\n",
       "        vertical-align: middle;\n",
       "    }\n",
       "\n",
       "    .dataframe tbody tr th {\n",
       "        vertical-align: top;\n",
       "    }\n",
       "\n",
       "    .dataframe thead th {\n",
       "        text-align: right;\n",
       "    }\n",
       "</style>\n",
       "<table border=\"1\" class=\"dataframe\">\n",
       "  <thead>\n",
       "    <tr style=\"text-align: right;\">\n",
       "      <th></th>\n",
       "      <th>source_name</th>\n",
       "      <th>date</th>\n",
       "      <th>text</th>\n",
       "      <th>link</th>\n",
       "    </tr>\n",
       "  </thead>\n",
       "  <tbody>\n",
       "    <tr>\n",
       "      <th>0</th>\n",
       "      <td>Reddit</td>\n",
       "      <td>May 2025</td>\n",
       "      <td>Generative AI, most notably ChatGPT, has and is continuing to change the landscape of education. But this also comes with negative side effects, especially students relying on AI to plagirize thei...</td>\n",
       "      <td>https://www.reddit.com/r/edtech/comments/1l5b9t0/thoughts_on_usage_of_ai_in_school_coursework/</td>\n",
       "    </tr>\n",
       "    <tr>\n",
       "      <th>1</th>\n",
       "      <td>Gizmodo</td>\n",
       "      <td>2025-08-16 12:00:42+00:00</td>\n",
       "      <td>Film Schools Are Embracing AI. Should They? Generative AI has come for America's film students. Jake Panek, a 20-year-old film major, says he’s had a great time at DePaul University in Chicago, an...</td>\n",
       "      <td>https://gizmodo.com/film-schools-are-embracing-ai-should-they-2000639311</td>\n",
       "    </tr>\n",
       "    <tr>\n",
       "      <th>2</th>\n",
       "      <td>Windows Central</td>\n",
       "      <td>2025-08-19 15:11:27+00:00</td>\n",
       "      <td>Ex-Google GenAI founder says \"AI is going to be gone by the time you finish a PhD\" — higher education degrees can't keep up Jad Tarifi, founder of Google’s first generative AI team, says pursuing ...</td>\n",
       "      <td>https://www.windowscentral.com/artificial-intelligence/ex-google-genai-founder-ai-gone-by-the-time-you-finish-phd</td>\n",
       "    </tr>\n",
       "  </tbody>\n",
       "</table>\n",
       "</div>"
      ],
      "text/plain": [
       "       source_name                       date  \\\n",
       "0           Reddit                   May 2025   \n",
       "1          Gizmodo  2025-08-16 12:00:42+00:00   \n",
       "2  Windows Central  2025-08-19 15:11:27+00:00   \n",
       "\n",
       "                                                                                                                                                                                                      text  \\\n",
       "0  Generative AI, most notably ChatGPT, has and is continuing to change the landscape of education. But this also comes with negative side effects, especially students relying on AI to plagirize thei...   \n",
       "1  Film Schools Are Embracing AI. Should They? Generative AI has come for America's film students. Jake Panek, a 20-year-old film major, says he’s had a great time at DePaul University in Chicago, an...   \n",
       "2  Ex-Google GenAI founder says \"AI is going to be gone by the time you finish a PhD\" — higher education degrees can't keep up Jad Tarifi, founder of Google’s first generative AI team, says pursuing ...   \n",
       "\n",
       "                                                                                                                link  \n",
       "0                     https://www.reddit.com/r/edtech/comments/1l5b9t0/thoughts_on_usage_of_ai_in_school_coursework/  \n",
       "1                                           https://gizmodo.com/film-schools-are-embracing-ai-should-they-2000639311  \n",
       "2  https://www.windowscentral.com/artificial-intelligence/ex-google-genai-founder-ai-gone-by-the-time-you-finish-phd  "
      ]
     },
     "execution_count": 54,
     "metadata": {},
     "output_type": "execute_result"
    }
   ],
   "source": [
    "df = pd.read_csv(INPUT_PATH)\n",
    "print(\"Rows, Columns:\", df.shape)\n",
    "df.head(3)"
   ]
  },
  {
   "cell_type": "markdown",
   "id": "4284365b",
   "metadata": {},
   "source": [
    "## Step 2: Initial Data Exploration\n",
    "\n",
    "Understanding the structure and basic characteristics of the raw dataset."
   ]
  },
  {
   "cell_type": "code",
   "execution_count": 22,
   "id": "048c7a60",
   "metadata": {},
   "outputs": [
    {
     "data": {
      "text/html": [
       "<div>\n",
       "<style scoped>\n",
       "    .dataframe tbody tr th:only-of-type {\n",
       "        vertical-align: middle;\n",
       "    }\n",
       "\n",
       "    .dataframe tbody tr th {\n",
       "        vertical-align: top;\n",
       "    }\n",
       "\n",
       "    .dataframe thead th {\n",
       "        text-align: right;\n",
       "    }\n",
       "</style>\n",
       "<table border=\"1\" class=\"dataframe\">\n",
       "  <thead>\n",
       "    <tr style=\"text-align: right;\">\n",
       "      <th></th>\n",
       "      <th>missing_count</th>\n",
       "    </tr>\n",
       "  </thead>\n",
       "  <tbody>\n",
       "    <tr>\n",
       "      <th>source_name</th>\n",
       "      <td>1</td>\n",
       "    </tr>\n",
       "    <tr>\n",
       "      <th>date</th>\n",
       "      <td>6</td>\n",
       "    </tr>\n",
       "    <tr>\n",
       "      <th>text</th>\n",
       "      <td>0</td>\n",
       "    </tr>\n",
       "    <tr>\n",
       "      <th>link</th>\n",
       "      <td>1</td>\n",
       "    </tr>\n",
       "  </tbody>\n",
       "</table>\n",
       "</div>"
      ],
      "text/plain": [
       "             missing_count\n",
       "source_name              1\n",
       "date                     6\n",
       "text                     0\n",
       "link                     1"
      ]
     },
     "execution_count": 22,
     "metadata": {},
     "output_type": "execute_result"
    }
   ],
   "source": [
    "df.isnull().sum().to_frame(\"missing_count\")"
   ]
  },
  {
   "cell_type": "markdown",
   "id": "96c060db",
   "metadata": {},
   "source": [
    "### Missing Data Analysis\n",
    "\n",
    "Identifying and quantifying missing values across all columns to understand data completeness."
   ]
  },
  {
   "cell_type": "code",
   "execution_count": 23,
   "id": "dba987b7",
   "metadata": {},
   "outputs": [
    {
     "data": {
      "image/png": "[encoded data removed]",
      "text/plain": [
       "<Figure size 1200x600 with 1 Axes>"
      ]
     },
     "metadata": {},
     "output_type": "display_data"
    },
    {
     "name": "stdout",
     "output_type": "stream",
     "text": [
      "Dataset completeness: 99.6%\n"
     ]
    }
   ],
   "source": [
    "# Visualize missing data patterns\n",
    "import seaborn as sns\n",
    "plt.figure(figsize=(12, 6))\n",
    "\n",
    "# Missing data percentage by column\n",
    "plt.subplot(1, 2, 2)\n",
    "missing_pct = (df.isnull().sum() / len(df)) * 100\n",
    "missing_pct.plot(kind='bar', color='skyblue')\n",
    "plt.title('Missing Data Percentage by Column')\n",
    "plt.ylabel('Percentage Missing (%)')\n",
    "plt.xticks(rotation=45)\n",
    "plt.tight_layout()\n",
    "plt.show()\n",
    "\n",
    "print(f\"Dataset completeness: {((1 - df.isnull().sum().sum() / (df.shape[0] * df.shape[1])) * 100):.1f}%\")"
   ]
  },
  {
   "cell_type": "code",
   "execution_count": 24,
   "id": "0d45eeb0",
   "metadata": {},
   "outputs": [],
   "source": [
    "URL_RE = re.compile(r'https?://\\S+|www\\.\\S+')\n",
    "EMAIL_RE = re.compile(r'\\b[\\w\\.-]+@[\\w\\.-]+\\.\\w+\\b')\n",
    "TRUNCATION_RE = re.compile(r\"\\.\\s*\\[\\+\\d+\\s*chars\\]\", flags=re.IGNORECASE)  # e.g., \"... [+7735 chars]\"\n",
    "\n",
    "def is_valid_url(url: str) -> bool:\n",
    "    if not isinstance(url, str) or not url.strip():\n",
    "        return False\n",
    "    try:\n",
    "        u = urlparse(url)\n",
    "        return bool(u.scheme and u.netloc)\n",
    "    except Exception:\n",
    "        return False\n",
    "\n",
    "def normalize_confusables(text: str) -> str:\n",
    "    \"\"\"\n",
    "    Normalize Unicode punctuation likely to be confused in source text.\n",
    "    NOTE: You asked specifically to treat U+2019 (’ right single quote)\n",
    "    as the ASCII backtick U+0060 (`), since that's more common in your source.\n",
    "    \"\"\"\n",
    "    if not isinstance(text, str):\n",
    "        return text\n",
    "    # First do NFKC normalization to reduce odd forms\n",
    "    text = unicodedata.normalize(\"NFKC\", text)\n",
    "\n",
    "    # Map of confusables -> target ASCII\n",
    "    # You can extend this mapping to include more punctuation if needed.\n",
    "    confusables_map = {\n",
    "        \"\\u2019\": \"`\",  # RIGHT SINGLE QUOTATION MARK ’ -> backtick `\n",
    "        \"\\u2018\": \"`\",  # LEFT SINGLE QUOTATION MARK ‘ -> backtick `\n",
    "        \"\\u201C\": '\"',  # LEFT DOUBLE QUOTATION MARK “ -> \"\n",
    "        \"\\u201D\": '\"',  # RIGHT DOUBLE QUOTATION MARK ” -> \"\n",
    "        \"\\u00B4\": \"`\",  # ACUTE ACCENT ´ -> `\n",
    "        \"\\u2032\": \"'\",  # PRIME ′ -> '\n",
    "        \"\\u2033\": '\"',  # DOUBLE PRIME ″ -> \"\n",
    "        \"\\u2014\": \"-\",  # EM DASH — -> -\n",
    "        \"\\u2013\": \"-\",  # EN DASH – -> -\n",
    "        \"\\u00A0\": \" \",  # NO-BREAK SPACE -> regular space\n",
    "    }\n",
    "    # Translate using a table\n",
    "    trans_table = str.maketrans(confusables_map)\n",
    "    text = text.translate(trans_table)\n",
    "\n",
    "    # Collapse excessive whitespace\n",
    "    text = \" \".join(text.split())\n",
    "    return text\n",
    "\n",
    "def replace_specials(text: str) -> str:\n",
    "    \"\"\"Replace URLs/emails inside text with placeholders (keep semantics).\"\"\"\n",
    "    if not isinstance(text, str):\n",
    "        return text\n",
    "    text = URL_RE.sub(\"<URL>\", text)\n",
    "    text = EMAIL_RE.sub(\"<EMAIL>\", text)\n",
    "    return text\n",
    "\n",
    "def coerce_date_any(x):\n",
    "    \"\"\"\n",
    "    Robust date parsing:\n",
    "    - Try pandas to_datetime (handles ISO and many formats).\n",
    "    - If fail, try Month Year (e.g., 'May 2025').\n",
    "    Returns timezone-aware UTC timestamps or NaT.\n",
    "    \"\"\"\n",
    "    if pd.isna(x):\n",
    "        return pd.NaT\n",
    "    dt = pd.to_datetime(x, errors=\"coerce\", utc=True)\n",
    "    if pd.isna(dt):\n",
    "        try:\n",
    "            dt = pd.to_datetime(str(x), format=\"%B %Y\", utc=True)\n",
    "        except Exception:\n",
    "            dt = pd.NaT\n",
    "    return dt\n",
    "\n",
    "def impute_missing_dates(series_dt: pd.Series, group_keys=None) -> pd.Series:\n",
    "    \"\"\"\n",
    "    Impute NaT dates.\n",
    "    Strategy:\n",
    "      1) If group_keys provided (e.g., by source), impute with group median.\n",
    "      2) Fallback to global median.\n",
    "      3) If all missing, keep as NaT.\n",
    "    \"\"\"\n",
    "    s = series_dt.copy()\n",
    "\n",
    "    # Helper to compute safe median for datetime64[ns, UTC]\n",
    "    def _median_datetime(x: pd.Series):\n",
    "        x = x.dropna()\n",
    "        if x.empty:\n",
    "            return pd.NaT\n",
    "        # Convert to int64 ns to compute median, then back\n",
    "        vals = x.view(\"int64\").sort_values().to_numpy()\n",
    "        med = np.median(vals)\n",
    "        try:\n",
    "            return pd.to_datetime(int(med), utc=True)\n",
    "        except Exception:\n",
    "            return pd.NaT\n",
    "\n",
    "    if group_keys is not None:\n",
    "        med_by_group = s.groupby(group_keys, dropna=False).transform(_median_datetime)\n",
    "        s = s.fillna(med_by_group)\n",
    "\n",
    "    global_med = _median_datetime(s)\n",
    "    if pd.isna(global_med):\n",
    "        # nothing to impute with; return as-is\n",
    "        return s\n",
    "\n",
    "    s = s.fillna(global_med)\n",
    "    return s\n",
    "\n",
    "def std_source_name(name: str) -> str:\n",
    "    \"\"\"\n",
    "    Standardize source name:\n",
    "    - Strip whitespace\n",
    "    - Handle None/NaN values gracefully\n",
    "    - Maintain case for ALL CAPS names\n",
    "    - Title case for other names\n",
    "    \"\"\"\n",
    "    if not isinstance(name, str) or not name.strip():\n",
    "        return None\n",
    "        \n",
    "    name = name.strip()\n",
    "    \n",
    "    # If name is all uppercase, keep it that way\n",
    "    if name.isupper():\n",
    "        return name\n",
    "    \n",
    "    # Otherwise title case (capitalize first letter of each word)\n",
    "    return name.title()"
   ]
  },
  {
   "cell_type": "markdown",
   "id": "06763310",
   "metadata": {},
   "source": [
    "## Step 3: Data Cleaning Function Definitions\n",
    "\n",
    "Defining comprehensive cleaning functions to handle various data quality issues.\n",
    "\n",
    "### Text Processing Functions:\n",
    "- **`normalize_confusables()`**: Standardizes Unicode punctuation and quotes\n",
    "- **`replace_specials()`**: Replaces URLs and emails with semantic placeholders\n",
    "- **`is_valid_url()`**: Validates URL format and structure\n",
    "\n",
    "### Date Processing Functions:\n",
    "- **`coerce_date_any()`**: Robust date parsing with multiple format support\n",
    "- **`impute_missing_dates()`**: Intelligent date imputation using group medians\n",
    "- **`std_source_name()`**: Standardizes source name formatting\n",
    "\n",
    "### Quality Control Features:\n",
    "- **Unicode Normalization**: Handles special characters and encoding issues\n",
    "- **URL Validation**: Ensures link integrity for citation purposes  \n",
    "- **Date Imputation**: Preserves temporal information where possible\n",
    "- **Source Standardization**: Consistent naming conventions"
   ]
  },
  {
   "cell_type": "code",
   "execution_count": 45,
   "id": "a5beb496",
   "metadata": {},
   "outputs": [
    {
     "data": {
      "text/plain": [
       "source_name_norm\n",
       "Universityofliverpool    143\n",
       "Reddit                   106\n",
       "Zenodo                    61\n",
       "X                         33\n",
       "Aimultiple                10\n",
       "Presbooks                 10\n",
       "Stratxsimulations          8\n",
       "Fullestop Blog             8\n",
       "Youtube                    8\n",
       "Nafsa                      7\n",
       "Nationalcentreforai        7\n",
       "Weforum                    6\n",
       "Eklavvya Blog              6\n",
       "Educationhorizons          5\n",
       "Inside Higher Ed           4\n",
       "Cyberbullying . Org        4\n",
       "Kasigaschool               3\n",
       "Windows Central            3\n",
       "Ed Week                    2\n",
       "Gizmodo                    2\n",
       "Name: count, dtype: int64"
      ]
     },
     "execution_count": 45,
     "metadata": {},
     "output_type": "execute_result"
    }
   ],
   "source": [
    "df['source_name_norm'] = df['source_name'].apply(std_source_name)\n",
    "df['source_name_norm'].fillna(\"Unknown\").value_counts().head(20)"
   ]
  },
  {
   "cell_type": "markdown",
   "id": "1f46fc46",
   "metadata": {},
   "source": [
    "## Step 4: Source Analysis and Normalization\n",
    "\n",
    "Analyzing and standardizing source names to understand data provenance and quality."
   ]
  },
  {
   "cell_type": "code",
   "execution_count": null,
   "id": "c9861092",
   "metadata": {},
   "outputs": [
    {
     "data": {
      "text/plain": [
       "Text(0.5, 1.0, 'Source Distribution (Top 10 + Others)')"
      ]
     },
     "execution_count": 44,
     "metadata": {},
     "output_type": "execute_result"
    },
    {
     "data": {
      "image/png": "[encoded data removed]",
      "text/plain": [
       "<Figure size 640x480 with 1 Axes>"
      ]
     },
     "metadata": {},
     "output_type": "display_data"
    }
   ],
   "source": [
    "# Source distribution pie chart (top 10 + others)\n",
    "plt.plot(2, 2, 2)\n",
    "top_10_sources = df['source_name_norm'].fillna(\"Unknown\").value_counts().head(10)\n",
    "others_count = df['source_name_norm'].fillna(\"Unknown\").value_counts().iloc[10:].sum()\n",
    "pie_data = top_10_sources.copy()\n",
    "if others_count > 0:\n",
    "    pie_data['Others'] = others_count\n",
    "\n",
    "colors = plt.cm.Set3(range(len(pie_data)))\n",
    "plt.pie(pie_data.values, labels=pie_data.index, autopct='%1.1f%%', \n",
    "        startangle=90, colors=colors)\n",
    "\n"
   ]
  },
  {
   "cell_type": "markdown",
   "id": "e880d9f1",
   "metadata": {},
   "source": [
    "### Source Distribution Visualization\n",
    "\n",
    "Visual analysis of source contribution and diversity in the dataset."
   ]
  },
  {
   "cell_type": "code",
   "execution_count": null,
   "id": "1baa409e",
   "metadata": {},
   "outputs": [
    {
     "name": "stdout",
     "output_type": "stream",
     "text": [
      "Total unique sources: 45\n",
      "Sources with unknown names: 1\n",
      "Top 10 sources cover 85.1% of all articles\n"
     ]
    }
   ],
   "source": [
    "print(f\"Total unique sources: {df['source_name_norm'].nunique()}\")\n",
    "print(f\"Sources with unknown names: {df['source_name_norm'].isnull().sum()}\")\n",
    "print(f\"Top 10 sources cover {top_10_sources.sum() / len(df) * 100:.1f}% of all articles\")"
   ]
  },
  {
   "cell_type": "code",
   "execution_count": 46,
   "id": "ca01c6ea",
   "metadata": {},
   "outputs": [
    {
     "name": "stdout",
     "output_type": "stream",
     "text": [
      "Parsed date coverage: 0.978401727861771\n"
     ]
    },
    {
     "name": "stderr",
     "output_type": "stream",
     "text": [
      "/var/folders/4d/c9fb2t_j5znf_ftgytncz11h0000gp/T/ipykernel_97658/1175482285.py:6: UserWarning: Converting to PeriodArray/Index representation will drop timezone information.\n",
      "  monthly['year_month'] = monthly['_date_parsed'].dt.to_period('M').astype(str)\n"
     ]
    },
    {
     "data": {
      "image/png": "[encoded data removed]",
      "text/plain": [
       "<Figure size 640x480 with 1 Axes>"
      ]
     },
     "metadata": {},
     "output_type": "display_data"
    }
   ],
   "source": [
    "df['_date_parsed'] = df['date'].apply(coerce_date_any)\n",
    "print(\"Parsed date coverage:\", df['_date_parsed'].notna().mean())\n",
    "\n",
    "monthly = df.dropna(subset=['_date_parsed']).copy()\n",
    "if not monthly.empty:\n",
    "    monthly['year_month'] = monthly['_date_parsed'].dt.to_period('M').astype(str)\n",
    "    counts = monthly['year_month'].value_counts().sort_index()\n",
    "    counts.plot(kind='bar', rot=45, title='Items per Month')"
   ]
  },
  {
   "cell_type": "markdown",
   "id": "04da1e71",
   "metadata": {},
   "source": [
    "## Step 5: Temporal Analysis\n",
    "\n",
    "Examining the temporal distribution of articles to understand data coverage over time.\n",
    "\n",
    "### Date Processing:\n",
    "- **Robust Parsing**: Handles multiple date formats from different sources\n",
    "- **Coverage Analysis**: Percentage of articles with valid dates\n",
    "- **Temporal Trends**: Monthly distribution of content publication"
   ]
  },
  {
   "cell_type": "code",
   "execution_count": 32,
   "id": "d49efa53",
   "metadata": {},
   "outputs": [
    {
     "data": {
      "text/plain": [
       "count     463.000000\n",
       "mean      357.928726\n",
       "std       478.808321\n",
       "min        33.000000\n",
       "50%       221.000000\n",
       "90%       723.200000\n",
       "95%      1044.100000\n",
       "99%      1983.300000\n",
       "max      7081.000000\n",
       "Name: text_len, dtype: float64"
      ]
     },
     "execution_count": 32,
     "metadata": {},
     "output_type": "execute_result"
    }
   ],
   "source": [
    "df['text_len'] = df['text'].astype(str).str.len()\n",
    "df['text_len'].describe(percentiles=[.5,.9,.95,.99])"
   ]
  },
  {
   "cell_type": "markdown",
   "id": "650e9e49",
   "metadata": {},
   "source": [
    "## Step 6: Text Length Analysis\n",
    "\n",
    "Analyzing content length distribution to understand data quality and identify potential issues.\n",
    "\n",
    "### Text Length Metrics:\n",
    "- **Descriptive Statistics**: Mean, median, quartiles, and percentiles\n",
    "- **Distribution Analysis**: Histogram of text lengths\n",
    "- **Quality Indicators**: Very short or very long texts may indicate data issues"
   ]
  },
  {
   "cell_type": "code",
   "execution_count": 33,
   "id": "62b121d0",
   "metadata": {},
   "outputs": [
    {
     "data": {
      "text/plain": [
       "<Axes: title={'center': 'Text Length Distribution'}, ylabel='Frequency'>"
      ]
     },
     "execution_count": 33,
     "metadata": {},
     "output_type": "execute_result"
    },
    {
     "data": {
      "image/png": "[encoded data removed]",
      "text/plain": [
       "<Figure size 640x480 with 1 Axes>"
      ]
     },
     "metadata": {},
     "output_type": "display_data"
    }
   ],
   "source": [
    "df['text_len'].dropna().plot(kind='hist', bins=30, title='Text Length Distribution')"
   ]
  },
  {
   "cell_type": "markdown",
   "id": "19f74034",
   "metadata": {},
   "source": [
    "## Step 7: Comprehensive Cleaning Pipeline\n",
    "\n",
    "Applying systematic data cleaning procedures to transform raw data into analysis-ready format.\n",
    "\n",
    "### Cleaning Steps:\n",
    "1. **Basic Cleaning**: Trim whitespace and handle empty fields\n",
    "2. **Text Normalization**: Unicode standardization and character mapping\n",
    "3. **Quality Filtering**: Remove very short texts and truncated content\n",
    "4. **Special Character Handling**: Replace URLs/emails with semantic tokens\n",
    "5. **Link Validation**: Verify URL structure and accessibility\n",
    "6. **Date Imputation**: Fill missing dates using intelligent strategies\n",
    "7. **Deduplication**: Remove exact and near-duplicate content\n",
    "\n",
    "### Quality Metrics:\n",
    "- **Text Quality**: Word count, capitalization patterns, repetition detection\n",
    "- **Link Integrity**: URL validation for source verification\n",
    "- **Temporal Completeness**: Date coverage and imputation success\n",
    "- **Content Uniqueness**: Duplicate detection and removal"
   ]
  },
  {
   "cell_type": "code",
   "execution_count": 35,
   "id": "94112816",
   "metadata": {},
   "outputs": [
    {
     "name": "stdout",
     "output_type": "stream",
     "text": [
      "No empty text fields found.\n",
      "Removed 4 exact duplicates on (link, text_clean).\n"
     ]
    },
    {
     "name": "stderr",
     "output_type": "stream",
     "text": [
      "/var/folders/4d/c9fb2t_j5znf_ftgytncz11h0000gp/T/ipykernel_97658/2304314127.py:31: UserWarning: This pattern is interpreted as a regular expression, and has match groups. To actually get the groups, use str.extract.\n",
      "  clean[\"suspicious_repetition\"] = clean[\"text_norm\"].astype(str).str.contains(r'(.)\\\\1{4,}')  # 5+ repeated chars\n"
     ]
    },
    {
     "name": "stdout",
     "output_type": "stream",
     "text": [
      "Removed 3 fuzzy duplicates with threshold 0.9\n"
     ]
    }
   ],
   "source": [
    "clean = df.copy()\n",
    "\n",
    "# 0) Basic trims; keep missing source names (do NOT drop)\n",
    "for col in [\"source_name\", \"text\", \"link\", \"date\"]:\n",
    "    if col in clean.columns:\n",
    "        clean[col] = clean[col].apply(lambda x: x if not isinstance(x, str) else x.strip())\n",
    "\n",
    "# 0.5) Remove rows with empty text fields\n",
    "before_empty = len(clean)\n",
    "# Check for None, NaN, empty strings, or whitespace-only strings\n",
    "empty_text_mask = clean[\"text\"].isna() | (clean[\"text\"].astype(str).str.strip() == \"\")\n",
    "if empty_text_mask.any():\n",
    "    clean = clean[~empty_text_mask].copy()\n",
    "    print(f\"Removed {before_empty - len(clean)} rows with empty text fields.\")\n",
    "else:\n",
    "    print(\"No empty text fields found.\")\n",
    "\n",
    "# 1) Normalize confusables (e.g., ’ -> `), collapse whitespace\n",
    "clean[\"text_norm\"] = clean[\"text\"].apply(normalize_confusables)\n",
    "\n",
    "# 1.5) Improve text quality filtering\n",
    "MIN_TEXT_LENGTH = 20\n",
    "mask_short = clean[\"text_norm\"].astype(str).str.len() < MIN_TEXT_LENGTH\n",
    "if mask_short.any():\n",
    "    print(f\"Removing {mask_short.sum()} entries with text shorter than {MIN_TEXT_LENGTH} chars.\")\n",
    "    clean = clean[~mask_short].copy()\n",
    "\n",
    "# Add text metrics\n",
    "clean[\"word_count\"] = clean[\"text_norm\"].astype(str).str.split().apply(len)\n",
    "clean[\"all_caps\"] = clean[\"text_norm\"].astype(str).str.isupper()\n",
    "clean[\"suspicious_repetition\"] = clean[\"text_norm\"].astype(str).str.contains(r'(.)\\\\1{4,}')  # 5+ repeated chars\n",
    "\n",
    "# 2) Replace specials (URLs/emails) but keep semantics\n",
    "clean[\"text_clean\"] = clean[\"text_norm\"].apply(replace_specials)\n",
    "\n",
    "# 3) Drop rows where text contains truncation markers like \"... [+7735 chars]\"\n",
    "mask_trunc = clean[\"text_clean\"].astype(str).str.contains(TRUNCATION_RE)\n",
    "clean = clean[~mask_trunc].copy()\n",
    "\n",
    "# 4) Validate link (keep rows even if link missing/invalid; we just flag it)\n",
    "clean[\"link_valid\"] = clean[\"link\"].apply(is_valid_url)\n",
    "\n",
    "# 5) Parse dates, then IMPUTE missing dates (do not drop)\n",
    "clean[\"date_parsed\"] = clean[\"date\"].apply(coerce_date_any)\n",
    "\n",
    "# Impute by source_name first (preserving missing source names by treating NaN as its own group),\n",
    "# then fallback to global median.\n",
    "clean[\"date_imputed\"] = impute_missing_dates(clean[\"date_parsed\"], group_keys=clean[\"source_name\"])\n",
    "\n",
    "# 6) Deduplicate:\n",
    "#    Keep rows with the same link UNLESS the text is different.\n",
    "#    That means we remove *exact* duplicates only when both 'link' and 'text_clean' match.\n",
    "before = len(clean)\n",
    "clean = clean.drop_duplicates(subset=[\"link\", \"text_clean\"], keep=\"first\")\n",
    "after = len(clean)\n",
    "print(f\"Removed {before - after} exact duplicates on (link, text_clean).\")\n",
    "\n",
    "# 6.5) Fuzzy deduplication (for small datasets)\n",
    "from difflib import SequenceMatcher\n",
    "def fuzzy_dedupe(df, text_col, threshold=0.9):\n",
    "    texts = df[text_col].tolist()\n",
    "    n = len(texts)\n",
    "    duplicates = set()\n",
    "    for i in range(n):\n",
    "        if i in duplicates:\n",
    "            continue\n",
    "        for j in range(i+1, n):\n",
    "            if j in duplicates:\n",
    "                continue\n",
    "            if len(texts[i]) > 100 and len(texts[j]) > 100:\n",
    "                similarity = SequenceMatcher(None, texts[i][:500], texts[j][:500]).ratio()\n",
    "                if similarity >= threshold:\n",
    "                    duplicates.add(j)\n",
    "    keep_mask = ~df.index.isin([df.index[list(duplicates)]]) if duplicates else [True]*n\n",
    "    print(f\"Removed {len(duplicates)} fuzzy duplicates with threshold {threshold}\")\n",
    "    return df[keep_mask].copy() if duplicates else df\n",
    "\n",
    "if len(clean) < 1000:\n",
    "    clean = fuzzy_dedupe(clean, \"text_clean\", threshold=0.9)"
   ]
  },
  {
   "cell_type": "code",
   "execution_count": 52,
   "id": "ca3ceae8",
   "metadata": {},
   "outputs": [],
   "source": [
    "# 7) Final selection (do NOT drop missing source names)\n",
    "out = clean.copy()\n",
    "out = out.rename(columns={\"date_imputed\": \"date_clean\"})\n",
    "# Derive missing source names from URLs\n",
    "def domain_from_url(url):\n",
    "    if not isinstance(url, str) or not url.strip():\n",
    "        return None\n",
    "    try:\n",
    "        parsed = urlparse(url)\n",
    "        domain = parsed.netloc.lower()\n",
    "        domain = re.sub(r'^www\\\\.', '', domain)\n",
    "        return domain\n",
    "    except Exception:\n",
    "        return None\n",
    "out[\"source_domain\"] = out[\"link\"].apply(domain_from_url)\n",
    "out[\"source_name\"] = out[\"source_name\"].fillna(out[\"source_domain\"])\n",
    "# Keep both original and cleaned variants for auditability if you like; otherwise select minimal columns:\n",
    "out = out[[\n",
    "    \"source_name\",       # filled from domain if missing\n",
    "    \"date_clean\",        # imputed date (never NaT if median existed)\n",
    "    \"text_clean\",        # normalized + placeholders\n",
    "    \"link\",\n",
    "]].reset_index(drop=True)\n",
    "\n",
    "out.to_csv(OUTPUT_PATH, index=False)"
   ]
  },
  {
   "cell_type": "markdown",
   "id": "a5589ca2",
   "metadata": {},
   "source": [
    "## Step 8: Final Dataset Preparation and Export\n",
    "\n",
    "Creating the final cleaned dataset with standardized columns and formats for downstream analysis.\n",
    "\n",
    "### Final Processing:\n",
    "- **Column Selection**: Retain only essential fields for analysis\n",
    "- **Source Enhancement**: Fill missing source names from URL domains\n",
    "- **Data Standardization**: Consistent column names and formats\n",
    "- **Export Preparation**: Clean CSV output for topic modeling and sentiment analysis\n",
    "\n",
    "### Output Dataset:\n",
    "- **Columns**: source_name, date_clean, text_clean, link\n",
    "- **Quality**: Validated and normalized content\n",
    "- **Format**: CSV file ready for machine learning pipelines\n",
    "- **Target Size**: Minimum 200 records for robust analysis"
   ]
  },
  {
   "cell_type": "code",
   "execution_count": 38,
   "id": "4114bd1f",
   "metadata": {},
   "outputs": [
    {
     "data": {
      "text/plain": [
       "source_name\n",
       "universityofliverpool    143\n",
       "Reddit                   106\n",
       "Zenodo                    60\n",
       "X                         30\n",
       "AIMultiple                10\n",
       "PresBooks                 10\n",
       "Fullestop Blog             8\n",
       "stratxsimulations          8\n",
       "Youtube                    8\n",
       "nationalcentreforai        7\n",
       "Name: count, dtype: int64"
      ]
     },
     "execution_count": 38,
     "metadata": {},
     "output_type": "execute_result"
    }
   ],
   "source": [
    "out['source_name'].fillna('Unknown').value_counts().head(10)"
   ]
  },
  {
   "cell_type": "markdown",
   "id": "81e41dd4",
   "metadata": {},
   "source": [
    "## Step 9: Final Quality Assessment\n",
    "\n",
    "Validating the cleaned dataset quality and summarizing the cleaning process results.\n",
    "\n",
    "### Quality Validation:\n",
    "- **Source Distribution**: Final breakdown of content sources\n",
    "- **Data Completeness**: Percentage of complete records\n",
    "- **Content Quality**: Text length and format validation\n",
    "- **Temporal Coverage**: Date range and distribution\n",
    "\n",
    "This final check ensures the dataset meets quality standards for downstream analysis tasks including topic modeling and sentiment analysis."
   ]
  },
  {
   "cell_type": "markdown",
   "id": "db62021a",
   "metadata": {},
   "source": [
    "# Classical Topic Modeling: LSA vs LDA Comparison\n",
    "\n",
    "This implements and compares two classical topic modeling approaches on the GenAI education dataset.\n",
    "\n",
    "## Overview\n",
    "- **LSA (Latent Semantic Analysis)**: Matrix factorization using SVD\n",
    "- **LDA (Latent Dirichlet Allocation)**: Probabilistic topic modeling\n",
    "- **Comparison**: Performance evaluation using coherence scores and explained variance\n",
    "- **Target**: Extract 3+ meaningful topics about GenAI in education\n",
    "\n",
    "## Methodology\n",
    "1. **Text Preprocessing**: TF-IDF vectorization for LSA, Count vectorization for LDA\n",
    "2. **Model Optimization**: Test different numbers of topics (3-8)\n",
    "3. **Evaluation Metrics**: UMass coherence, explained variance, perplexity\n",
    "4. **Topic Analysis**: Interpret and compare discovered topics\n",
    "5. **Visualization**: Topic words, document distributions, and performance metrics\n",
    "\n",
    "---\n",
    "\n",
    "## Part 1: Latent Semantic Analysis (LSA)"
   ]
  },
  {
   "cell_type": "code",
   "execution_count": 3,
   "id": "be22b837",
   "metadata": {},
   "outputs": [],
   "source": [
    "from sklearn.feature_extraction.text import TfidfVectorizer\n",
    "from sklearn.decomposition import TruncatedSVD\n",
    "import pandas as pd\n",
    "import numpy as np\n",
    "import matplotlib.pyplot as plt\n",
    "import seaborn as sns\n",
    "\n",
    "import warnings\n",
    "warnings.filterwarnings('ignore')"
   ]
  },
  {
   "cell_type": "markdown",
   "id": "03d0bdb9",
   "metadata": {},
   "source": [
    "### Step 1: LSA Setup and Data Preparation\n",
    "\n",
    "**Latent Semantic Analysis (LSA)** uses Singular Value Decomposition (SVD) to discover latent topics by reducing the dimensionality of the term-document matrix.\n",
    "\n",
    "#### Key Components:\n",
    "- **TF-IDF Vectorization**: Converts text to numerical representation\n",
    "- **Truncated SVD**: Dimensionality reduction technique\n",
    "- **Coherence Evaluation**: UMass coherence for topic quality assessment\n",
    "\n",
    "#### LSA Advantages:\n",
    "- **Fast computation**: Linear algebra operations\n",
    "- **Deterministic**: Same results on repeated runs\n",
    "- **Continuous topics**: Documents can belong to multiple topics with varying degrees"
   ]
  },
  {
   "cell_type": "code",
   "execution_count": 5,
   "id": "b5d468a6",
   "metadata": {},
   "outputs": [],
   "source": [
    "plt.style.use('default')\n",
    "sns.set_palette(\"husl\")\n",
    "plt.rcParams['figure.figsize'] = (12, 8)\n",
    "\n",
    "df = pd.read_csv('data/clean_genai-education_2023-2025.csv') \n",
    "\n",
    "documents = df['text_clean'].tolist()\n",
    "texts = [doc.split() for doc in documents]  # tokenized for coherence"
   ]
  },
  {
   "cell_type": "markdown",
   "id": "d11b6ded",
   "metadata": {},
   "source": [
    "### Step 2: Text Vectorization for LSA\n",
    "\n",
    "Converting text documents into TF-IDF matrix representation for SVD processing.\n",
    "\n",
    "#### TF-IDF Parameters:\n",
    "- **max_df=0.95**: Remove terms appearing in >95% of documents (too common)\n",
    "- **min_df=2**: Remove terms appearing in <2 documents (too rare)\n",
    "- **stop_words='english'**: Filter out common English stop words\n",
    "\n",
    "This creates a sparse matrix where each row represents a document and each column represents a term, with TF-IDF weights indicating term importance."
   ]
  },
  {
   "cell_type": "code",
   "execution_count": 6,
   "id": "61df22fe",
   "metadata": {},
   "outputs": [],
   "source": [
    "vectorizer = TfidfVectorizer(max_df=0.95, min_df=2, stop_words='english')\n",
    "X = vectorizer.fit_transform(documents)\n",
    "terms = vectorizer.get_feature_names_out()"
   ]
  },
  {
   "cell_type": "markdown",
   "id": "57e604ee",
   "metadata": {},
   "source": [
    "### Step 3: LSA Model Optimization\n",
    "\n",
    "Finding the optimal number of topics by evaluating different configurations.\n",
    "\n",
    "#### Evaluation Strategy:\n",
    "- **Topic Range**: Test 3-8 topics to find optimal balance\n",
    "- **Coherence Score**: UMass coherence measures topic interpretability\n",
    "- **Explained Variance**: How much information each topic captures\n",
    "- **Trade-off Analysis**: Balance between topic specificity and coverage\n",
    "\n",
    "The UMass coherence score measures how often topic words co-occur in the same documents, with higher scores indicating more coherent topics."
   ]
  },
  {
   "cell_type": "code",
   "execution_count": 7,
   "id": "61c17be6",
   "metadata": {},
   "outputs": [
    {
     "data": {
      "image/png": "[encoded data removed]",
      "text/plain": [
       "<Figure size 1200x800 with 1 Axes>"
      ]
     },
     "metadata": {},
     "output_type": "display_data"
    },
    {
     "name": "stdout",
     "output_type": "stream",
     "text": [
      "\n",
      "============================================================\n",
      "TOPIC SELECTION ANALYSIS:\n",
      "============================================================\n",
      "3 topics: Explained Var = 0.028, Coherence = -1.639\n",
      "4 topics: Explained Var = 0.036, Coherence = -1.761\n",
      "5 topics: Explained Var = 0.044, Coherence = -1.692\n",
      "6 topics: Explained Var = 0.052, Coherence = -1.776\n",
      "7 topics: Explained Var = 0.060, Coherence = -1.680\n",
      "8 topics: Explained Var = 0.067, Coherence = -1.807\n",
      "9 topics: Explained Var = 0.075, Coherence = -1.763\n",
      "10 topics: Explained Var = 0.082, Coherence = -1.855\n"
     ]
    }
   ],
   "source": [
    "# Compute UMass coherence score\n",
    "from sklearn.metrics.pairwise import cosine_similarity\n",
    "\n",
    "def compute_coherence_umass(topics, documents):\n",
    "    coherence_scores = []\n",
    "    \n",
    "    for topic_words in topics:\n",
    "        topic_coherence = 0\n",
    "        word_pairs = 0\n",
    "        \n",
    "        for i in range(len(topic_words)):\n",
    "            for j in range(i+1, len(topic_words)):\n",
    "                word1, word2 = topic_words[i], topic_words[j]\n",
    "                \n",
    "                # Count co-occurrences\n",
    "                word1_docs = sum(1 for doc in documents if word1.lower() in doc.lower())\n",
    "                word2_docs = sum(1 for doc in documents if word2.lower() in doc.lower())\n",
    "                cooccur_docs = sum(1 for doc in documents if word1.lower() in doc.lower() and word2.lower() in doc.lower())\n",
    "                \n",
    "                if word1_docs > 0 and cooccur_docs > 0:\n",
    "                    score = np.log((cooccur_docs + 1) / word1_docs)\n",
    "                    topic_coherence += score\n",
    "                    word_pairs += 1\n",
    "        \n",
    "        if word_pairs > 0:\n",
    "            coherence_scores.append(topic_coherence / word_pairs)\n",
    "        else:\n",
    "            coherence_scores.append(0)\n",
    "    \n",
    "    return np.mean(coherence_scores)\n",
    "\n",
    "def compute_lsa_metrics(X, terms, documents, n_topics, num_words=10):\n",
    "    lsa = TruncatedSVD(n_components=n_topics, random_state=42)\n",
    "    lsa.fit(X)\n",
    "    explained_var = lsa.explained_variance_ratio_.sum()\n",
    "    \n",
    "    # Extract top words for coherence calculation\n",
    "    topics = []\n",
    "    for i, topic in enumerate(lsa.components_):\n",
    "        top_indices = topic.argsort()[-num_words:][::-1]\n",
    "        top_words = [terms[idx] for idx in top_indices]\n",
    "        topics.append(top_words)\n",
    "    \n",
    "    # Calculate coherence\n",
    "    coherence = compute_coherence_umass(topics, documents)\n",
    "    \n",
    "    return explained_var, coherence, lsa\n",
    "\n",
    "# Plot both explained variance and coherence for different numbers of topics\n",
    "topic_range = range(3, 11)\n",
    "explained_variances = []\n",
    "coherence_scores = []\n",
    "\n",
    "# Compute LSA metrics for different topic numbers\n",
    "for n in topic_range:\n",
    "    explained_var, coherence, _ = compute_lsa_metrics(X, terms, documents, n)\n",
    "    explained_variances.append(explained_var)\n",
    "    coherence_scores.append(coherence)\n",
    "\n",
    "# Plot both metrics\n",
    "fig, (ax1) = plt.subplots(1, 1, figsize=(12, 8))\n",
    "\n",
    "# Coherence plot\n",
    "ax1.plot(topic_range, coherence_scores, marker='o', color='red', linewidth=2)\n",
    "ax1.set_xlabel(\"Number of Topics\")\n",
    "ax1.set_ylabel(\"Coherence Score (UMass)\")\n",
    "ax1.set_title(\"LSA: Coherence Score by Number of Topics\")\n",
    "ax1.grid(alpha=0.3)\n",
    "\n",
    "plt.tight_layout()\n",
    "plt.show()\n",
    "\n",
    "# Analysis and recommendation\n",
    "print(\"\\n\" + \"=\"*60)\n",
    "print(\"TOPIC SELECTION ANALYSIS:\")\n",
    "print(\"=\"*60)\n",
    "for i, n in enumerate(topic_range):\n",
    "    print(f\"{n} topics: Explained Var = {explained_variances[i]:.3f}, Coherence = {coherence_scores[i]:.3f}\")"
   ]
  },
  {
   "cell_type": "code",
   "execution_count": 9,
   "id": "70de55a9",
   "metadata": {},
   "outputs": [
    {
     "name": "stdout",
     "output_type": "stream",
     "text": [
      "Topics: 3 (chosen based on coherence analysis)\n",
      "Total Explained Variance: 0.028\n",
      "Document-Topic Matrix Shape: (448, 3)\n",
      "Vocabulary Size: 1531\n",
      "\n",
      "Individual Topic Explained Variances:\n",
      "Topic 1: 0.005 (0.5%)\n",
      "Topic 2: 0.014 (1.4%)\n",
      "Topic 3: 0.009 (0.9%)\n"
     ]
    }
   ],
   "source": [
    "# Use the recommended number from coherence analysis\n",
    "n_topics = 3\n",
    "num_words = 10\n",
    "\n",
    "# Create final LSA model\n",
    "lsa_final = TruncatedSVD(n_components=n_topics, random_state=42)\n",
    "X_lsa = lsa_final.fit_transform(X)\n",
    "\n",
    "print(f\"Topics: {n_topics} (chosen based on coherence analysis)\")\n",
    "print(f\"Total Explained Variance: {lsa_final.explained_variance_ratio_.sum():.3f}\")\n",
    "print(f\"Document-Topic Matrix Shape: {X_lsa.shape}\")\n",
    "print(f\"Vocabulary Size: {len(terms)}\")\n",
    "\n",
    "# Show individual topic variances\n",
    "print(f\"\\nIndividual Topic Explained Variances:\")\n",
    "for i, var in enumerate(lsa_final.explained_variance_ratio_):\n",
    "    print(f\"Topic {i+1}: {var:.3f} ({var:.1%})\")"
   ]
  },
  {
   "cell_type": "markdown",
   "id": "0b182980",
   "metadata": {},
   "source": [
    "### Step 4: Final LSA Model and Topic Extraction\n",
    "\n",
    "Building the optimal LSA model based on coherence analysis results.\n",
    "\n",
    "#### Model Configuration:\n",
    "- **Selected Topics**: Based on highest coherence score from optimization\n",
    "- **Top Words per Topic**: 10 most representative terms\n",
    "- **Document Projections**: Transform documents into topic space\n",
    "\n",
    "#### Topic Interpretation:\n",
    "Each topic is represented by its top contributing words, ordered by their component weights in the SVD decomposition. These words should form semantically coherent themes related to GenAI in education."
   ]
  },
  {
   "cell_type": "code",
   "execution_count": 10,
   "id": "422f0190",
   "metadata": {},
   "outputs": [
    {
     "name": "stdout",
     "output_type": "stream",
     "text": [
      "  Topic Explained Variance                                                                                    Top 10 Words Avg Document Score Score Std Dev\n",
      "Topic 1               0.5%                       ai, students, use, education, generative, tools, work, think, used, using              0.182         0.070\n",
      "Topic 2               1.4% education, generative, learning, ai, personalized, risks, tools, challenges, educators, support              0.006         0.116\n",
      "Topic 3               0.9%       work, technologies, student, university, unfair, generative, used, think, learning, essay              0.001         0.091\n"
     ]
    }
   ],
   "source": [
    "summary_data = []\n",
    "for i in range(lsa_final.n_components):\n",
    "    top_words = [terms[idx] for idx in lsa_final.components_[i].argsort()[-num_words:]][::-1]\n",
    "    summary_data.append({\n",
    "        'Topic': f'Topic {i+1}',\n",
    "        'Explained Variance': f'{lsa_final.explained_variance_ratio_[i]:.1%}',\n",
    "        'Top 10 Words': ', '.join(top_words),\n",
    "        'Avg Document Score': f'{X_lsa[:, i].mean():.3f}',\n",
    "        'Score Std Dev': f'{X_lsa[:, i].std():.3f}'\n",
    "    })\n",
    "\n",
    "summary_df = pd.DataFrame(summary_data)\n",
    "print(summary_df.to_string(index=False))"
   ]
  },
  {
   "cell_type": "code",
   "execution_count": 19,
   "id": "5b6887aa",
   "metadata": {},
   "outputs": [
    {
     "name": "stdout",
     "output_type": "stream",
     "text": [
      "\n",
      "INDIVIDUAL TOPIC COHERENCE ANALYSIS - LSA\n",
      "======================================================================\n",
      "  Topic Coherence Quality                                                Top_Words\n",
      "Topic 1   -1.4218    High          ai, students, use, education, generative, tools\n",
      "Topic 3   -1.6725  Medium   work, technologies, student, university, unfair, think\n",
      "Topic 2   -1.9117  Medium education, generative, learning, ai, personalized, risks\n",
      "Topic 4   -2.0396     Low   tools, students, use, technology, university, academic\n",
      "\n",
      "COHERENCE SUMMARY:\n",
      "Average Coherence: -1.7614\n",
      "Standard Deviation: 0.2362\n",
      "Best Topic: Topic 1 (-1.4218)\n",
      "Worst Topic: Topic 4 (-2.0396)\n",
      "\n",
      "QUALITY DISTRIBUTION:\n",
      "High Quality Topics (>-1.5): 1\n",
      "Medium Quality Topics (-2.0 to -1.5): 2\n",
      "Low Quality Topics (<-2.0): 1\n"
     ]
    }
   ],
   "source": [
    "# Compute coherence for a single topic\n",
    "def compute_single_topic_coherence(topic_words, documents):\n",
    "    \n",
    "    topic_coherence = 0\n",
    "    word_pairs = 0\n",
    "    \n",
    "    for i in range(len(topic_words)):\n",
    "        for j in range(i+1, len(topic_words)):\n",
    "            word1, word2 = topic_words[i], topic_words[j]\n",
    "            \n",
    "            # Count co-occurrences\n",
    "            word1_docs = sum(1 for doc in documents if word1.lower() in doc.lower())\n",
    "            word2_docs = sum(1 for doc in documents if word2.lower() in doc.lower())\n",
    "            cooccur_docs = sum(1 for doc in documents if word1.lower() in doc.lower() and word2.lower() in doc.lower())\n",
    "            \n",
    "            if word1_docs > 0 and cooccur_docs > 0:\n",
    "                score = np.log((cooccur_docs + 1) / word1_docs)\n",
    "                topic_coherence += score\n",
    "                word_pairs += 1\n",
    "    \n",
    "    return topic_coherence / word_pairs if word_pairs > 0 else 0\n",
    "\n",
    "# Analyze coherence of individual topics\n",
    "def analyze_individual_topic_coherence(model, terms, documents, model_name, num_words=10):\n",
    "\n",
    "    print(f\"\\nINDIVIDUAL TOPIC COHERENCE ANALYSIS - {model_name}\")\n",
    "    print(\"=\"*70)\n",
    "    \n",
    "    # Extract topics from the model\n",
    "    topics = []\n",
    "    topic_coherences = []\n",
    "    \n",
    "    if model_name == \"LSA\":\n",
    "        for i in range(model.n_components):\n",
    "            top_indices = model.components_[i].argsort()[-num_words:][::-1]\n",
    "            top_words = [terms[idx] for idx in top_indices]\n",
    "            topics.append(top_words)\n",
    "            \n",
    "            # Calculate individual topic coherence\n",
    "            coherence = compute_single_topic_coherence(top_words, documents)\n",
    "            topic_coherences.append(coherence)\n",
    "    \n",
    "    elif model_name == \"LDA\":\n",
    "        for i in range(model.n_components):\n",
    "            top_indices = model.components_[i].argsort()[-num_words:][::-1]\n",
    "            top_words = [terms[idx] for idx in top_indices]\n",
    "            topics.append(top_words)\n",
    "            \n",
    "            # Calculate individual topic coherence\n",
    "            coherence = compute_single_topic_coherence(top_words, documents)\n",
    "            topic_coherences.append(coherence)\n",
    "    \n",
    "    # Create detailed analysis\n",
    "    coherence_analysis = []\n",
    "    for i, (topic_words, coherence) in enumerate(zip(topics, topic_coherences)):\n",
    "        coherence_analysis.append({\n",
    "            'Topic': f'Topic {i+1}',\n",
    "            'Coherence': f'{coherence:.4f}',\n",
    "            'Quality': get_coherence_quality_label(coherence),\n",
    "            'Top_Words': ', '.join(topic_words[:6])  # Show top 6 words\n",
    "        })\n",
    "    \n",
    "    # Sort by coherence (best to worst)\n",
    "    coherence_analysis.sort(key=lambda x: float(x['Coherence']), reverse=True)\n",
    "    \n",
    "    # Display results\n",
    "    analysis_df = pd.DataFrame(coherence_analysis)\n",
    "    print(analysis_df.to_string(index=False))\n",
    "    \n",
    "    # Summary statistics\n",
    "    avg_coherence = np.mean(topic_coherences)\n",
    "    std_coherence = np.std(topic_coherences)\n",
    "    best_topic_idx = np.argmax(topic_coherences)\n",
    "    worst_topic_idx = np.argmin(topic_coherences)\n",
    "    \n",
    "    print(f\"\\nCOHERENCE SUMMARY:\")\n",
    "    print(f\"Average Coherence: {avg_coherence:.4f}\")\n",
    "    print(f\"Standard Deviation: {std_coherence:.4f}\")\n",
    "    print(f\"Best Topic: Topic {best_topic_idx + 1} ({topic_coherences[best_topic_idx]:.4f})\")\n",
    "    print(f\"Worst Topic: Topic {worst_topic_idx + 1} ({topic_coherences[worst_topic_idx]:.4f})\")\n",
    "    \n",
    "    # Quality assessment\n",
    "    high_quality_topics = sum(1 for c in topic_coherences if c > -1.5)\n",
    "    medium_quality_topics = sum(1 for c in topic_coherences if -2.0 <= c <= -1.5)\n",
    "    low_quality_topics = sum(1 for c in topic_coherences if c < -2.0)\n",
    "    \n",
    "    print(f\"\\nQUALITY DISTRIBUTION:\")\n",
    "    print(f\"High Quality Topics (>-1.5): {high_quality_topics}\")\n",
    "    print(f\"Medium Quality Topics (-2.0 to -1.5): {medium_quality_topics}\")\n",
    "    print(f\"Low Quality Topics (<-2.0): {low_quality_topics}\")\n",
    "    \n",
    "    return topic_coherences, topics\n",
    "\n",
    "# UMass coherence: higher (closer to 0) is better\n",
    "def get_coherence_quality_label(coherence):\n",
    "    if coherence > -1.5:\n",
    "        return \"High\"\n",
    "    elif coherence > -2.0:\n",
    "        return \"Medium\"\n",
    "    else:\n",
    "        return \"Low\"\n",
    "\n",
    "# Analyze LSA individual topic coherence\n",
    "lsa_topic_coherences, lsa_topics = analyze_individual_topic_coherence(\n",
    "    lsa_final, terms, documents, \"LSA\", num_words=10\n",
    ")"
   ]
  },
  {
   "cell_type": "markdown",
   "id": "a33b6570",
   "metadata": {},
   "source": [
    "---\n",
    "\n",
    "## Part 2: Latent Dirichlet Allocation (LDA)\n",
    "\n",
    "**Latent Dirichlet Allocation (LDA)** is a probabilistic generative model that assumes documents are mixtures of topics, and topics are mixtures of words.\n",
    "\n",
    "### LDA vs LSA Key Differences:\n",
    "- **Probabilistic**: Models topic and word distributions explicitly\n",
    "- **Interpretable**: Topics represent actual probability distributions\n",
    "- **Generative**: Can generate new documents from learned topics\n",
    "- **Count-based**: Uses raw word counts rather than TF-IDF weights\n",
    "\n",
    "### LDA Assumptions:\n",
    "1. Each document is a mixture of topics (with different proportions)\n",
    "2. Each topic is a mixture of words (with different probabilities)\n",
    "3. Documents with similar topics should contain similar words"
   ]
  },
  {
   "cell_type": "code",
   "execution_count": 20,
   "id": "bdbd3e22",
   "metadata": {},
   "outputs": [
    {
     "data": {
      "image/png": "[encoded data removed]",
      "text/plain": [
       "<Figure size 1600x800 with 2 Axes>"
      ]
     },
     "metadata": {},
     "output_type": "display_data"
    },
    {
     "name": "stdout",
     "output_type": "stream",
     "text": [
      "3 topics: Perplexity = 867.92, Coherence = -1.444\n",
      "4 topics: Perplexity = 928.75, Coherence = -1.626\n",
      "5 topics: Perplexity = 984.97, Coherence = -1.582\n",
      "6 topics: Perplexity = 1016.98, Coherence = -1.626\n",
      "7 topics: Perplexity = 1051.41, Coherence = -1.676\n",
      "8 topics: Perplexity = 1096.50, Coherence = -1.631\n",
      "9 topics: Perplexity = 1131.73, Coherence = -1.613\n",
      "10 topics: Perplexity = 1178.02, Coherence = -1.681\n"
     ]
    }
   ],
   "source": [
    "from sklearn.feature_extraction.text import CountVectorizer\n",
    "from sklearn.decomposition import LatentDirichletAllocation\n",
    "\n",
    "# Set up plotting style\n",
    "plt.style.use('default')\n",
    "sns.set_palette(\"husl\")\n",
    "plt.rcParams['figure.figsize'] = (12, 8)\n",
    "\n",
    "# Load dataset\n",
    "df = pd.read_csv('../data/clean_genai-education_2023-2025.csv')\n",
    "documents = df['text_clean'].dropna().tolist()\n",
    "\n",
    "vectorizer_lda = CountVectorizer(max_df=0.95, min_df=2, stop_words='english')\n",
    "X_lda_vectorized = vectorizer_lda.fit_transform(documents)\n",
    "terms_lda = vectorizer_lda.get_feature_names_out()\n",
    "\n",
    "# Use the same coherence function as LSA\n",
    "def compute_lda_metrics(X, terms, documents, n_topics, num_words=10):\n",
    "    lda = LatentDirichletAllocation(n_components=n_topics, random_state=42)\n",
    "    lda.fit(X)\n",
    "    \n",
    "    # Calculate perplexity\n",
    "    perplexity = lda.perplexity(X)\n",
    "    \n",
    "    # Extract top words for coherence calculation\n",
    "    topics = []\n",
    "    for i, topic in enumerate(lda.components_):\n",
    "        top_indices = topic.argsort()[-num_words:][::-1]\n",
    "        top_words = [terms[idx] for idx in top_indices]\n",
    "        topics.append(top_words)\n",
    "    \n",
    "    # Calculate coherence using the same function as LSA\n",
    "    coherence = compute_coherence_umass(topics, documents)\n",
    "    \n",
    "    return perplexity, coherence, lda\n",
    "\n",
    "# Evaluate different numbers of topics for LDA\n",
    "topic_range = range(3, 11)\n",
    "perplexity_scores = []\n",
    "coherence_scores_lda = []\n",
    "\n",
    "for n in topic_range:\n",
    "    perplexity, coherence, _ = compute_lda_metrics(X_lda_vectorized, terms_lda, documents, n)\n",
    "    perplexity_scores.append(perplexity)\n",
    "    coherence_scores_lda.append(coherence)\n",
    "\n",
    "# Plot all three metrics\n",
    "fig, (ax1, ax2) = plt.subplots(1, 2, figsize=(16, 8))\n",
    "\n",
    "# Perplexity plot (lower is better)\n",
    "ax1.plot(topic_range, perplexity_scores, marker='s', color='blue', linewidth=2)\n",
    "ax1.set_xlabel(\"Number of Topics\")\n",
    "ax1.set_ylabel(\"Perplexity (Lower = Better)\")\n",
    "ax1.set_title(\"LDA: Perplexity by Number of Topics\")\n",
    "ax1.grid(alpha=0.3)\n",
    "\n",
    "# Coherence plot (higher is better, closer to 0 for UMass)\n",
    "ax2.plot(topic_range, coherence_scores_lda, marker='o', color='red', linewidth=2)\n",
    "ax2.set_xlabel(\"Number of Topics\")\n",
    "ax2.set_ylabel(\"Coherence Score (UMass)\")\n",
    "ax2.set_title(\"LDA: Coherence Score by Number of Topics\")\n",
    "ax2.grid(alpha=0.3)\n",
    "\n",
    "plt.tight_layout()\n",
    "plt.show()\n",
    "\n",
    "# Visualize and analyze results\n",
    "for i, n in enumerate(topic_range):\n",
    "    print(f\"{n} topics: Perplexity = {perplexity_scores[i]:.2f}, Coherence = {coherence_scores_lda[i]:.3f}\")\n",
    "\n",
    "\n",
    "# Best perplexity (lowest)\n",
    "best_perplexity_idx = perplexity_scores.index(min(perplexity_scores))\n",
    "best_perplexity_topics = topic_range[best_perplexity_idx]\n",
    "\n",
    "# Best coherence (highest for UMass)\n",
    "best_coherence_idx = coherence_scores_lda.index(max(coherence_scores_lda))\n",
    "best_coherence_topics = topic_range[best_coherence_idx]"
   ]
  },
  {
   "cell_type": "markdown",
   "id": "ce4d2e02",
   "metadata": {},
   "source": [
    "### Step 1: LDA Setup and Count Vectorization\n",
    "\n",
    "LDA requires count-based features rather than TF-IDF weights, as it models the generative process of word occurrence.\n",
    "\n",
    "#### Count Vectorization Parameters:\n",
    "- **max_df=0.95**: Remove overly common terms\n",
    "- **min_df=2**: Remove rare terms (same as LSA for consistency)\n",
    "- **stop_words='english'**: Standard English stop word filtering\n",
    "\n",
    "#### LDA Evaluation Metrics:\n",
    "- **Perplexity**: Measures how well the model predicts unseen data (lower is better)\n",
    "- **Coherence**: Same UMass coherence for comparison with LSA\n",
    "- **Topic Quality**: Manual inspection of top words for interpretability"
   ]
  },
  {
   "cell_type": "code",
   "execution_count": 21,
   "id": "bcc76a63",
   "metadata": {},
   "outputs": [
    {
     "name": "stdout",
     "output_type": "stream",
     "text": [
      "Selected: 3 topics (based on comprehensive analysis)\n",
      "\n",
      "LDA Model Created Successfully!\n",
      "\n",
      "Topics: 3\n",
      "Perplexity: 867.92\n",
      "Document-Topic Matrix Shape: (448, 3)\n",
      "Vocabulary Size: 1531\n"
     ]
    }
   ],
   "source": [
    "n_topics_lda = 3\n",
    "num_words = 10\n",
    "\n",
    "print(f\"Selected: {n_topics_lda} topics (based on comprehensive analysis)\")\n",
    "\n",
    "# Create final LDA model\n",
    "lda_final = LatentDirichletAllocation(n_components=n_topics_lda, random_state=42)\n",
    "X_lda_final = lda_final.fit_transform(X_lda_vectorized)\n",
    "\n",
    "print(f\"\\nLDA Model Created Successfully!\\n\")\n",
    "print(f\"Topics: {n_topics_lda}\")\n",
    "print(f\"Perplexity: {lda_final.perplexity(X_lda_vectorized):.2f}\")\n",
    "print(f\"Document-Topic Matrix Shape: {X_lda_final.shape}\")\n",
    "print(f\"Vocabulary Size: {len(terms_lda)}\")"
   ]
  },
  {
   "cell_type": "code",
   "execution_count": 22,
   "id": "81e37526",
   "metadata": {},
   "outputs": [
    {
     "name": "stdout",
     "output_type": "stream",
     "text": [
      "\n",
      "INDIVIDUAL TOPIC COHERENCE ANALYSIS - LDA\n",
      "======================================================================\n",
      "  Topic Coherence Quality                                          Top_Words\n",
      "Topic 3   -1.4126    High               ai, students, use, think, work, used\n",
      "Topic 2   -1.4236    High ai, generative, education, students, learning, use\n",
      "Topic 1   -1.4965    High               ai, use, students, using, like, work\n",
      "\n",
      "COHERENCE SUMMARY:\n",
      "Average Coherence: -1.4442\n",
      "Standard Deviation: 0.0372\n",
      "Best Topic: Topic 3 (-1.4126)\n",
      "Worst Topic: Topic 1 (-1.4965)\n",
      "\n",
      "QUALITY DISTRIBUTION:\n",
      "High Quality Topics (>-1.5): 3\n",
      "Medium Quality Topics (-2.0 to -1.5): 0\n",
      "Low Quality Topics (<-2.0): 0\n"
     ]
    }
   ],
   "source": [
    "# Calculate topic proportions for LDA\n",
    "topic_proportions_lda = X_lda_final.mean(axis=0)\n",
    "\n",
    "# Analyze LDA individual topic coherence\n",
    "lda_topic_coherences, lda_topics = analyze_individual_topic_coherence(\n",
    "    lda_final, terms_lda, documents, \"LDA\", num_words=10\n",
    ")"
   ]
  },
  {
   "cell_type": "code",
   "execution_count": 23,
   "id": "3de52f4a",
   "metadata": {},
   "outputs": [
    {
     "name": "stdout",
     "output_type": "stream",
     "text": [
      "\n",
      "LDA TOPIC SUMMARY:\n",
      "==========================================================================================================================================================================\n",
      "  Topic Proportion                                                                        Top 10 Words Avg Doc Probability Std Dev\n",
      "Topic 1      29.2%                   ai, use, students, using, like, work, think, just, chatgpt, tools               0.292   0.370\n",
      "Topic 2      35.5% ai, generative, education, students, learning, use, student, tools, educators, used               0.355   0.384\n",
      "Topic 3      35.3%           ai, students, use, think, work, used, university, learning, student, just               0.353   0.393\n"
     ]
    }
   ],
   "source": [
    "summary_data_lda = []\n",
    "for i in range(lda_final.n_components):\n",
    "    top_words = [terms_lda[idx] for idx in lda_final.components_[i].argsort()[-num_words:]][::-1]\n",
    "    summary_data_lda.append({\n",
    "        'Topic': f'Topic {i+1}',\n",
    "        'Proportion': f'{topic_proportions_lda[i]:.1%}',\n",
    "        'Top 10 Words': ', '.join(top_words),\n",
    "        'Avg Doc Probability': f'{X_lda_final[:, i].mean():.3f}',\n",
    "        'Std Dev': f'{X_lda_final[:, i].std():.3f}'\n",
    "    })\n",
    "\n",
    "summary_df_lda = pd.DataFrame(summary_data_lda)\n",
    "print(\"\\nLDA TOPIC SUMMARY:\")\n",
    "print(\"=\"*170)\n",
    "print(summary_df_lda.to_string(index=False))\n"
   ]
  },
  {
   "cell_type": "code",
   "execution_count": null,
   "id": "8e7d0b40",
   "metadata": {},
   "outputs": [
    {
     "name": "stdout",
     "output_type": "stream",
     "text": [
      "\n",
      "COMPARATIVE TOPIC COHERENCE VISUALIZATION\n",
      "============================================================\n",
      "\n",
      "COMPARATIVE ANALYSIS:\n",
      "----------------------------------------\n",
      "LSA Average Coherence: -1.7614\n",
      "LDA Average Coherence: -1.4442\n",
      "LDA has higher average topic coherence\n",
      "\n",
      "QUALITY COMPARISON:\n",
      "Model      High     Medium   Low     \n",
      "-----------------------------------\n",
      "LSA        1        2        1       \n",
      "LDA        3        0        0       \n"
     ]
    },
    {
     "data": {
      "image/png": "[encoded data removed]",
      "text/plain": [
       "<Figure size 1800x600 with 2 Axes>"
      ]
     },
     "metadata": {},
     "output_type": "display_data"
    }
   ],
   "source": [
    "# visualizations comparing individual topic coherences between models\n",
    "def create_topic_coherence_comparison(lsa_coherences, lda_coherences, lsa_topics, lda_topics):\n",
    "\n",
    "    print(f\"\\nCOMPARATIVE TOPIC COHERENCE VISUALIZATION\")\n",
    "    print(\"=\"*60)\n",
    "    \n",
    "    # Create comparison plot\n",
    "    fig, (ax1, ax2) = plt.subplots(1, 2, figsize=(16, 8))\n",
    "    \n",
    "    # Plot 1: LSA Topic Coherences\n",
    "    lsa_topic_names = [f'LSA-T{i+1}' for i in range(len(lsa_coherences))]\n",
    "    colors_lsa = ['green' if c > -1.5 else 'orange' if c > -2.0 else 'red' for c in lsa_coherences]\n",
    "    \n",
    "    bars1 = ax1.bar(lsa_topic_names, lsa_coherences, color=colors_lsa, alpha=0.7)\n",
    "    ax1.set_title('LSA: Individual Topic Coherence')\n",
    "    ax1.set_ylabel('Coherence Score')\n",
    "    ax1.tick_params(axis='x', rotation=45)\n",
    "    ax1.grid(axis='y', alpha=0.3)\n",
    "    \n",
    "    # Add value labels on bars\n",
    "    for bar, coherence in zip(bars1, lsa_coherences):\n",
    "        height = bar.get_height()\n",
    "        ax1.text(bar.get_x() + bar.get_width()/2., height + 0.01,\n",
    "                f'{coherence:.3f}', ha='center', va='bottom', fontsize=9)\n",
    "    \n",
    "    # Plot 2: LDA Topic Coherences\n",
    "    lda_topic_names = [f'LDA-T{i+1}' for i in range(len(lda_coherences))]\n",
    "    colors_lda = ['green' if c > -1.5 else 'orange' if c > -2.0 else 'red' for c in lda_coherences]\n",
    "    \n",
    "    bars2 = ax2.bar(lda_topic_names, lda_coherences, color=colors_lda, alpha=0.7)\n",
    "    ax2.set_title('LDA: Individual Topic Coherence')\n",
    "    ax2.set_ylabel('Coherence Score')\n",
    "    ax2.tick_params(axis='x', rotation=45)\n",
    "    ax2.grid(axis='y', alpha=0.3)\n",
    "    \n",
    "    # Add value labels on bars\n",
    "    for bar, coherence in zip(bars2, lda_coherences):\n",
    "        height = bar.get_height()\n",
    "        ax2.text(bar.get_x() + bar.get_width()/2., height + 0.01,\n",
    "                f'{coherence:.3f}', ha='center', va='bottom', fontsize=9)\n",
    "    \n",
    "    # Comparative analysis\n",
    "    print(f\"\\nCOMPARATIVE ANALYSIS:\")\n",
    "    print(\"-\" * 40)\n",
    "    print(f\"LSA Average Coherence: {np.mean(lsa_coherences):.4f}\")\n",
    "    print(f\"LDA Average Coherence: {np.mean(lda_coherences):.4f}\")\n",
    "    \n",
    "    if np.mean(lsa_coherences) > np.mean(lda_coherences):\n",
    "        print(\"LSA has higher average topic coherence\")\n",
    "    else:\n",
    "        print(\"LDA has higher average topic coherence\")\n",
    "    \n",
    "    # Quality distribution comparison\n",
    "    def count_quality_topics(coherences):\n",
    "        high = sum(1 for c in coherences if c > -1.5)\n",
    "        medium = sum(1 for c in coherences if -2.0 <= c <= -1.5)\n",
    "        low = sum(1 for c in coherences if c < -2.0)\n",
    "        return high, medium, low\n",
    "    \n",
    "    lsa_high, lsa_med, lsa_low = count_quality_topics(lsa_coherences)\n",
    "    lda_high, lda_med, lda_low = count_quality_topics(lda_coherences)\n",
    "    \n",
    "    print(f\"{'Model':<10} {'High':<8} {'Medium':<8} {'Low':<8}\")\n",
    "    print(\"-\" * 35)\n",
    "    print(f\"{'LSA':<10} {lsa_high:<8} {lsa_med:<8} {lsa_low:<8}\")\n",
    "    print(f\"{'LDA':<10} {lda_high:<8} {lda_med:<8} {lda_low:<8}\")\n",
    "\n",
    "# Create the comparative visualization\n",
    "create_topic_coherence_comparison(lsa_topic_coherences, lda_topic_coherences, lsa_topics, lda_topics)"
   ]
  },
  {
   "cell_type": "markdown",
   "id": "cee7c4b4",
   "metadata": {},
   "source": [
    "### Step 2: LDA Model Optimization and Final Analysis\n",
    "\n",
    "Finding optimal LDA configuration through systematic evaluation of different topic numbers.\n",
    "\n",
    "#### Optimization Process:\n",
    "- **Topic Range**: Test 3-8 topics (same as LSA for fair comparison)\n",
    "- **Perplexity Evaluation**: Lower perplexity indicates better fit\n",
    "- **Coherence Comparison**: Direct comparison with LSA coherence scores\n",
    "- **Topic Interpretability**: Manual assessment of topic word lists\n",
    "\n",
    "#### LDA Parameter Tuning:\n",
    "- **Alpha**: Document-topic concentration (default: 1/n_topics)\n",
    "- **Beta**: Topic-word concentration (default: 1/n_topics)  \n",
    "- **Iterations**: Sufficient for convergence (default: 10)\n",
    "- **Random State**: Fixed for reproducible results"
   ]
  },
  {
   "cell_type": "markdown",
   "id": "f36360e4",
   "metadata": {
    "id": "dMhiSX-CQd0J"
   },
   "source": [
    "# BERTopic: Modern Neural Topic Modeling\n",
    "\n",
    "This implements BERTopic, a state-of-the-art topic modeling technique that combines transformer embeddings with clustering and class-based TF-IDF for improved topic discovery.\n",
    "\n",
    "## Overview\n",
    "- **Model**: BERTopic with BERT embeddings and UMAP dimensionality reduction\n",
    "- **Dataset**: Cleaned GenAI education articles\n",
    "- **Approach**: Neural embeddings + clustering + optimization\n",
    "- **Comparison**: Performance evaluation against classical methods (LSA/LDA)\n",
    "\n",
    "## BERTopic Advantages:\n",
    "- **Semantic Understanding**: Uses transformer embeddings for better semantic representation\n",
    "- **Dynamic Topics**: Generates topics based on document clusters rather than predefined numbers\n",
    "- **Better Coherence**: Typically achieves higher coherence scores than classical methods\n",
    "- **Rich Visualizations**: Built-in interactive visualizations for topic exploration\n",
    "\n",
    "## Pipeline:\n",
    "1. **Data Loading**: Import cleaned text data\n",
    "2. **Model Configuration**: Set up BERTopic with optimal parameters\n",
    "3. **Hyperparameter Tuning**: Optimize min_topic_size for best coherence\n",
    "4. **Topic Discovery**: Fit final model and extract topics\n",
    "5. **Evaluation**: Calculate coherence scores and compare with classical methods\n",
    "6. **Visualization**: Interactive plots for topic analysis\n",
    "\n",
    "---\n",
    "\n",
    "## Step 1: Library Imports and Setup"
   ]
  },
  {
   "cell_type": "code",
   "execution_count": 1,
   "id": "8904fe9c",
   "metadata": {
    "colab": {
     "base_uri": "https://localhost:8080/"
    },
    "id": "jk1OnyHaOYO5",
    "outputId": "7551f0f7-3ced-4d40-ba31-8aed988e7af4"
   },
   "outputs": [
    {
     "name": "stderr",
     "output_type": "stream",
     "text": [
      "/usr/local/lib/python3.12/dist-packages/hdbscan/plots.py:448: SyntaxWarning: invalid escape sequence '\\l'\n",
      "  axis.set_ylabel('$\\lambda$ value')\n",
      "/usr/local/lib/python3.12/dist-packages/hdbscan/robust_single_linkage_.py:175: SyntaxWarning: invalid escape sequence '\\{'\n",
      "  $max \\{ core_k(a), core_k(b), 1/\\alpha d(a,b) \\}$.\n"
     ]
    }
   ],
   "source": [
    "import pandas as pd\n",
    "from bertopic import BERTopic\n",
    "from gensim.models.coherencemodel import CoherenceModel\n",
    "from gensim.corpora.dictionary import Dictionary\n",
    "from sklearn.feature_extraction.text import TfidfVectorizer\n",
    "import warnings\n",
    "warnings.filterwarnings('ignore')"
   ]
  },
  {
   "cell_type": "markdown",
   "id": "af571bbe",
   "metadata": {
    "id": "jeaiVY-_V01D"
   },
   "source": [
    "## Step 2: Data Loading and Preparation\n",
    "\n",
    "Loading the cleaned GenAI education dataset for neural topic modeling.\n",
    "\n",
    "### Dataset Requirements:\n",
    "- **Text Quality**: Cleaned and normalized text content\n",
    "- **Minimum Size**: Sufficient documents for meaningful clustering\n",
    "- **Content Relevance**: Focused on GenAI in education topics\n",
    "- **Preprocessing**: Already handled in the cleaning pipeline"
   ]
  },
  {
   "cell_type": "code",
   "execution_count": 52,
   "id": "c06fe981",
   "metadata": {
    "id": "6Zkl14mZQreM"
   },
   "outputs": [],
   "source": [
    "# load data\n",
    "\n",
    "df = pd.read_csv('clean_genai-education_2023-2025.csv')"
   ]
  },
  {
   "cell_type": "code",
   "execution_count": 53,
   "id": "8548578f",
   "metadata": {
    "id": "9jMbb-QlShEE"
   },
   "outputs": [],
   "source": [
    "# extract text data from dataframe and convert to list\n",
    "\n",
    "documents = df['text_clean'].tolist()"
   ]
  },
  {
   "cell_type": "markdown",
   "id": "b1831d9e",
   "metadata": {},
   "source": [
    "### Text Extraction:\n",
    "Converting the cleaned text column into a list format required by BERTopic for processing.\n",
    "\n",
    "The `text_clean` column contains:\n",
    "- Normalized Unicode characters\n",
    "- URL/email placeholders\n",
    "- Standardized whitespace\n",
    "- Filtered content (minimum length, no truncation markers)"
   ]
  },
  {
   "cell_type": "markdown",
   "id": "be710b60",
   "metadata": {
    "id": "UzBrtPzqQlDq"
   },
   "source": [
    "## Step 3: Initial BERTopic Model Configuration\n",
    "\n",
    "Setting up the BERTopic model with custom parameters for optimal performance on the GenAI education dataset.\n",
    "\n",
    "### Model Parameters:\n",
    "- **Vectorizer**: Custom TF-IDF with educational content optimization\n",
    "  - `max_features=1000`: Limit vocabulary size for efficiency\n",
    "  - `max_df=0.95`: Remove overly common terms\n",
    "  - `min_df=2`: Remove rare terms\n",
    "  - `ngram_range=(1,2)`: Include both unigrams and bigrams for richer topics\n",
    "  \n",
    "- **Topic Configuration**:\n",
    "  - `min_topic_size=3`: Minimum documents per topic (will be optimized)\n",
    "  - `calculate_probabilities=True`: Enable topic probability estimation\n",
    "  - `verbose=True`: Show progress during training\n",
    "\n",
    "### BERTopic Process:\n",
    "1. **Embedding**: Convert documents to dense vector representations using BERT\n",
    "2. **Dimensionality Reduction**: Apply UMAP to reduce embedding dimensions\n",
    "3. **Clustering**: Use HDBSCAN to group similar documents\n",
    "4. **Topic Representation**: Extract representative words using c-TF-IDF"
   ]
  },
  {
   "cell_type": "code",
   "execution_count": 41,
   "id": "9217612d",
   "metadata": {
    "colab": {
     "base_uri": "https://localhost:8080/",
     "height": 208,
     "referenced_widgets": [
      "8d2f0a2bdbfd4a07bee2314f5d7bec60",
      "ef39cf2c5e3b433699bd2c53fbc479d5",
      "8b1d040e138645bda36e532e993bee22",
      "94ed982c90fc4484b03a25974e846420",
      "e6a11680e1984ef59946a5ade96878bc",
      "afd6a6e1b18c4dabb939b90eadef7e6f",
      "59c2b9113ecf48f0ace3fe9d0656e2be",
      "0784821811e446db8f78ba29af606aba",
      "a76eec819ca64002bbd0ffd61b3e139a",
      "de881eea62fc414f86716d969ec01bb4",
      "5d063f809b5a468e903892e8e9c1ff76"
     ]
    },
    "id": "wppNOPur0Ewo",
    "outputId": "34529b43-0749-47a0-a1b1-f5951b320408"
   },
   "outputs": [
    {
     "name": "stderr",
     "output_type": "stream",
     "text": [
      "2025-09-20 13:41:49,230 - BERTopic - Embedding - Transforming documents to embeddings.\n"
     ]
    },
    {
     "data": {
      "application/vnd.jupyter.widget-view+json": {
       "model_id": "8d2f0a2bdbfd4a07bee2314f5d7bec60",
       "version_major": 2,
       "version_minor": 0
      },
      "text/plain": [
       "Batches:   0%|          | 0/14 [00:00<?, ?it/s]"
      ]
     },
     "metadata": {},
     "output_type": "display_data"
    },
    {
     "name": "stderr",
     "output_type": "stream",
     "text": [
      "2025-09-20 13:41:50,924 - BERTopic - Embedding - Completed ✓\n",
      "2025-09-20 13:41:50,925 - BERTopic - Dimensionality - Fitting the dimensionality reduction algorithm\n",
      "2025-09-20 13:41:51,686 - BERTopic - Dimensionality - Completed ✓\n",
      "2025-09-20 13:41:51,687 - BERTopic - Cluster - Start clustering the reduced embeddings\n",
      "2025-09-20 13:41:51,737 - BERTopic - Cluster - Completed ✓\n",
      "2025-09-20 13:41:51,740 - BERTopic - Representation - Fine-tuning topics using representation models.\n",
      "2025-09-20 13:41:51,815 - BERTopic - Representation - Completed ✓\n"
     ]
    }
   ],
   "source": [
    "bertopic_model = BERTopic(\n",
    "    vectorizer_model=TfidfVectorizer(\n",
    "        max_features=1000,\n",
    "        max_df=0.95,\n",
    "        min_df=2,\n",
    "        ngram_range=(1, 2),\n",
    "        stop_words='english'),\n",
    "    calculate_probabilities=True,\n",
    "    min_topic_size=3,\n",
    "    verbose=True,\n",
    ")\n",
    "\n",
    "topics, probabilities = bertopic_model.fit_transform(documents)"
   ]
  },
  {
   "cell_type": "code",
   "execution_count": 54,
   "id": "ce731fbf",
   "metadata": {
    "colab": {
     "base_uri": "https://localhost:8080/"
    },
    "id": "A3EnGoM7QoG6",
    "outputId": "8a2a82ba-cf1f-49ca-fbe8-2afcfb3bff3b"
   },
   "outputs": [
    {
     "name": "stdout",
     "output_type": "stream",
     "text": [
      "The number of topics is: 6\n",
      "The coherence score is: 0.3387786840246121\n"
     ]
    }
   ],
   "source": [
    "# Extract topics and their corresponding words\n",
    "topics = bertopic_model.get_topics()\n",
    "topic_words = [[word for word, _ in bertopic_model.get_topic(topic)] for topic in range(len(set(topics)) -1)]\n",
    "\n",
    "# Preprocess documents for Gensim\n",
    "preprocessed_docs = [doc.split() for doc in documents]\n",
    "\n",
    "# Create a Gensim dictionary and corpus\n",
    "dictionary = Dictionary(preprocessed_docs)\n",
    "corpus = [dictionary.doc2bow(doc) for doc in preprocessed_docs]\n",
    "\n",
    "# Calculate the coherence score\n",
    "coherence_model = CoherenceModel(\n",
    "    topics=topic_words,\n",
    "    texts=preprocessed_docs,\n",
    "    dictionary=dictionary,\n",
    "    coherence='c_v'\n",
    ")\n",
    "coherence_score = coherence_model.get_coherence()\n",
    "\n",
    "print(f\"The number of topics is: {len(set(topics)) - 1}\")\n",
    "print(f\"The coherence score is: {coherence_score}\")"
   ]
  },
  {
   "cell_type": "markdown",
   "id": "aa1c01b9",
   "metadata": {},
   "source": [
    "### Step 4: Initial Coherence Evaluation\n",
    "\n",
    "Computing the baseline coherence score for the initial BERTopic model configuration.\n",
    "\n",
    "#### Coherence Calculation Process:\n",
    "1. **Topic Word Extraction**: Get top words for each discovered topic\n",
    "2. **Document Preprocessing**: Tokenize documents for Gensim compatibility\n",
    "3. **Dictionary Creation**: Build vocabulary mapping for coherence calculation\n",
    "4. **Corpus Generation**: Convert documents to bag-of-words format\n",
    "5. **C_V Coherence**: Calculate coherence using the C_V metric (most reliable)\n",
    "\n",
    "#### C_V Coherence Interpretation:\n",
    "- **> 0.7**: Excellent coherence\n",
    "- **0.5-0.7**: Good coherence  \n",
    "- **0.3-0.5**: Moderate coherence\n",
    "- **< 0.3**: Poor coherence\n",
    "\n",
    "This baseline measurement will be compared against optimized configurations."
   ]
  },
  {
   "cell_type": "code",
   "execution_count": 55,
   "id": "2ba3a9b4",
   "metadata": {
    "colab": {
     "base_uri": "https://localhost:8080/"
    },
    "id": "9j0JSb4GRCbV",
    "outputId": "772e4cd6-de40-40f2-d462-82a9b4dabb29"
   },
   "outputs": [
    {
     "name": "stdout",
     "output_type": "stream",
     "text": [
      "min_topic_size: 5, Number of Topics: 18, Coherence Score: 0.3745907318307412\n",
      "min_topic_size: 6, Number of Topics: 14, Coherence Score: 0.3536679641439258\n",
      "min_topic_size: 7, Number of Topics: 13, Coherence Score: 0.33360033506799314\n",
      "min_topic_size: 8, Number of Topics: 11, Coherence Score: 0.36436182699114256\n",
      "min_topic_size: 9, Number of Topics: 8, Coherence Score: 0.36332652563771656\n",
      "min_topic_size: 10, Number of Topics: 7, Coherence Score: 0.37855623536284966\n",
      "min_topic_size: 11, Number of Topics: 7, Coherence Score: 0.371755269973291\n",
      "min_topic_size: 12, Number of Topics: 6, Coherence Score: 0.36594527281885075\n",
      "min_topic_size: 13, Number of Topics: 5, Coherence Score: 0.38967159290700176\n",
      "min_topic_size: 14, Number of Topics: 5, Coherence Score: 0.3860095316661953\n",
      "min_topic_size: 15, Number of Topics: 5, Coherence Score: 0.3970073880777549\n",
      "min_topic_size: 16, Number of Topics: 3, Coherence Score: 0.40598506716151195\n",
      "min_topic_size: 17, Number of Topics: 5, Coherence Score: 0.3837069979648746\n",
      "min_topic_size: 18, Number of Topics: 5, Coherence Score: 0.3811923751805895\n",
      "min_topic_size: 19, Number of Topics: 5, Coherence Score: 0.3922155185346759\n",
      "min_topic_size: 20, Number of Topics: 5, Coherence Score: 0.38543471172895866\n",
      "min_topic_size: 21, Number of Topics: 4, Coherence Score: 0.3842980595519915\n",
      "min_topic_size: 22, Number of Topics: 4, Coherence Score: 0.3927732628082086\n",
      "min_topic_size: 23, Number of Topics: 4, Coherence Score: 0.38399006751928144\n",
      "min_topic_size: 24, Number of Topics: 4, Coherence Score: 0.3735315182362765\n",
      "\n",
      "--- Best Result ---\n",
      "Optimal min_topic_size: 16\n",
      "Resulting Number of Topics: 3\n",
      "Coherence Score: 0.4060\n"
     ]
    }
   ],
   "source": [
    "# Define a range of min_topic_size values to test\n",
    "min_topic_size_range = range(5, 25, 1)\n",
    "\n",
    "results = []\n",
    "\n",
    "for size in min_topic_size_range:\n",
    "    # Create a new BERTopic model with the current min_topic_size\n",
    "    bertopic_model = BERTopic(min_topic_size=size)\n",
    "\n",
    "    # Fit the model and get the topics\n",
    "    topics, probabilities = bertopic_model.fit_transform(documents)\n",
    "\n",
    "    # Get topic words\n",
    "    topic_words = [[word for word, _ in bertopic_model.get_topic(topic_id)] for topic_id in bertopic_model.get_topics()]\n",
    "\n",
    "    # Prepare documents for Gensim\n",
    "    preprocessed_docs = [doc.split() for doc in documents]\n",
    "    dictionary = Dictionary(preprocessed_docs)\n",
    "\n",
    "    # Calculate coherence score\n",
    "    coherence_model = CoherenceModel(\n",
    "        topics=topic_words,\n",
    "        texts=preprocessed_docs,\n",
    "        dictionary=dictionary,\n",
    "        coherence='c_v'\n",
    "    )\n",
    "    coherence_score = coherence_model.get_coherence()\n",
    "\n",
    "    num_topics = len(set(topics)) -1\n",
    "\n",
    "    results.append({\n",
    "        'min_topic_size': size,\n",
    "        'num_topics': num_topics,\n",
    "        'coherence_score': coherence_score\n",
    "    })\n",
    "\n",
    "    print(f\"min_topic_size: {size}, Number of Topics: {num_topics}, Coherence Score: {coherence_score}\")\n",
    "\n",
    "# Find the best result\n",
    "best_result = max(results, key=lambda x: x['coherence_score'])\n",
    "\n",
    "print(\"\\n--- Best Result ---\")\n",
    "print(f\"Optimal min_topic_size: {best_result['min_topic_size']}\")\n",
    "print(f\"Resulting Number of Topics: {best_result['num_topics']}\")\n",
    "print(f\"Coherence Score: {best_result['coherence_score']:.4f}\")"
   ]
  },
  {
   "cell_type": "markdown",
   "id": "9f67b776",
   "metadata": {},
   "source": [
    "## Step 5: Hyperparameter Optimization\n",
    "\n",
    "Systematically testing different `min_topic_size` values to find the optimal configuration that maximizes coherence.\n",
    "\n",
    "### Optimization Strategy:\n",
    "- **Parameter Range**: Test min_topic_size from 5 to 25\n",
    "- **Evaluation Metric**: C_V coherence score (most reliable for topic quality)\n",
    "- **Trade-off Analysis**: Balance between topic granularity and coherence\n",
    "- **Systematic Search**: Evaluate each configuration individually\n",
    "\n",
    "### min_topic_size Impact:\n",
    "- **Lower Values (5-10)**: More topics, potentially more specific but possibly less coherent\n",
    "- **Higher Values (15-25)**: Fewer topics, potentially more coherent but possibly too broad\n",
    "- **Optimal Range**: Usually between 8-15 for medium-sized datasets\n",
    "\n",
    "### Evaluation Process:\n",
    "For each min_topic_size value:\n",
    "1. Create new BERTopic model\n",
    "2. Fit on documents and extract topics  \n",
    "3. Calculate C_V coherence score\n",
    "4. Record number of topics generated\n",
    "5. Track performance across all configurations"
   ]
  },
  {
   "cell_type": "code",
   "execution_count": 57,
   "id": "b09887e9",
   "metadata": {
    "colab": {
     "base_uri": "https://localhost:8080/",
     "height": 312,
     "referenced_widgets": [
      "cebc13a23bb64f388f210a676615fc66",
      "7268debefb8f422fac0c93c8f3900ca8",
      "c190543e249f472dae9b84c8ee465270",
      "ea036d77cea44bc8a4fa31e20b416ae2",
      "c44e1f2f02954894909ec5da1b8c629b",
      "c18096f59c7246b8a169b21d3c329a86",
      "b90c24c05aac49df908a696693173eee",
      "14b806c17f2e484a8bdec67755807a07",
      "9d352a7b6dbb47cd878fdb7d8b74dfee",
      "94bf755b6e224afb9b01b528e2096a26",
      "abcf4d924f764a6e9065f254093bfab7"
     ]
    },
    "id": "beFh5sSKUx8d",
    "outputId": "fa264c92-66de-4ccb-b4be-6a80b99f9396"
   },
   "outputs": [
    {
     "name": "stderr",
     "output_type": "stream",
     "text": [
      "2025-09-20 13:51:50,759 - BERTopic - Embedding - Transforming documents to embeddings.\n",
      "HTTP Error 429 thrown while requesting HEAD https://huggingface.co/sentence-transformers/all-MiniLM-L6-v2/resolve/main/./modules.json\n",
      "WARNING:huggingface_hub.utils._http:HTTP Error 429 thrown while requesting HEAD https://huggingface.co/sentence-transformers/all-MiniLM-L6-v2/resolve/main/./modules.json\n",
      "Retrying in 1s [Retry 1/5].\n",
      "WARNING:huggingface_hub.utils._http:Retrying in 1s [Retry 1/5].\n"
     ]
    },
    {
     "data": {
      "application/vnd.jupyter.widget-view+json": {
       "model_id": "cebc13a23bb64f388f210a676615fc66",
       "version_major": 2,
       "version_minor": 0
      },
      "text/plain": [
       "Batches:   0%|          | 0/14 [00:00<?, ?it/s]"
      ]
     },
     "metadata": {},
     "output_type": "display_data"
    },
    {
     "name": "stderr",
     "output_type": "stream",
     "text": [
      "2025-09-20 13:51:53,585 - BERTopic - Embedding - Completed ✓\n",
      "2025-09-20 13:51:53,587 - BERTopic - Dimensionality - Fitting the dimensionality reduction algorithm\n",
      "2025-09-20 13:51:54,366 - BERTopic - Dimensionality - Completed ✓\n",
      "2025-09-20 13:51:54,367 - BERTopic - Cluster - Start clustering the reduced embeddings\n",
      "2025-09-20 13:51:54,392 - BERTopic - Cluster - Completed ✓\n",
      "2025-09-20 13:51:54,396 - BERTopic - Representation - Fine-tuning topics using representation models.\n",
      "2025-09-20 13:51:54,454 - BERTopic - Representation - Completed ✓\n"
     ]
    },
    {
     "name": "stdout",
     "output_type": "stream",
     "text": [
      "Final model created with min_topic_size = 16\n",
      "Number of topics in the final model: 5\n"
     ]
    }
   ],
   "source": [
    "best_min_topic_size = best_result['min_topic_size']\n",
    "\n",
    "# Initialize and fit the final, optimized model\n",
    "bertopic_model = BERTopic(\n",
    "    vectorizer_model=TfidfVectorizer(max_features=1000, max_df=0.95, min_df=2, ngram_range=(1, 2), stop_words='english'),\n",
    "    calculate_probabilities=True,\n",
    "    min_topic_size=best_result['min_topic_size'],\n",
    "    verbose=True,\n",
    ")\n",
    "\n",
    "topics, probabilities = bertopic_model.fit_transform(documents)\n",
    "\n",
    "print(f\"Final model created with min_topic_size = {best_min_topic_size}\")\n",
    "print(f\"Number of topics in the final model: {len(set(topics)) - 1}\")"
   ]
  },
  {
   "cell_type": "markdown",
   "id": "4285577d",
   "metadata": {},
   "source": [
    "## Step 6: Final Optimized Model Training\n",
    "\n",
    "Creating the final BERTopic model using the optimal hyperparameters discovered through systematic evaluation.\n",
    "\n",
    "### Final Model Configuration:\n",
    "- **Optimal min_topic_size**: Selected based on highest coherence score\n",
    "- **Enhanced Vectorizer**: TF-IDF with bigrams for richer topic representation\n",
    "- **Probability Calculation**: Enabled for topic assignment confidence\n",
    "- **Verbose Output**: Track training progress and model statistics\n",
    "\n",
    "### Model Features:\n",
    "- **Best Performance**: Optimized for maximum coherence on this dataset\n",
    "- **Balanced Topics**: Optimal trade-off between specificity and generalizability  \n",
    "- **Semantic Quality**: Leverages BERT embeddings for semantic understanding\n",
    "- **Ready for Analysis**: Prepared for visualization and comparison with classical methods"
   ]
  },
  {
   "cell_type": "markdown",
   "id": "23c0e678",
   "metadata": {
    "id": "ZSYovgp5UrpF"
   },
   "source": [
    "## Step 7: Topic Analysis and Visualization\n",
    "\n",
    "Comprehensive analysis of the discovered topics using BERTopic's built-in visualization tools.\n",
    "\n",
    "### Topic Information Analysis:\n",
    "- **Topic Frequency**: How many documents belong to each topic\n",
    "- **Topic Words**: Most representative terms for each topic\n",
    "- **Topic Labels**: Automatic topic naming based on top words\n",
    "- **Topic Quality**: Assessment of topic coherence and interpretability\n",
    "\n",
    "### Interactive Visualizations:\n",
    "1. **Bar Chart**: Top words per topic with importance scores\n",
    "2. **Heatmap**: Topic similarity and relationships\n",
    "3. **Hierarchy**: Hierarchical clustering of topics\n",
    "4. **Term Rank**: Word importance across different topics\n",
    "\n",
    "### Comparison Framework:\n",
    "These visualizations will help compare BERTopic performance against:\n",
    "- **LSA Topics**: Matrix factorization approach\n",
    "- **LDA Topics**: Probabilistic topic modeling\n",
    "- **Manual Assessment**: Human interpretability of discovered themes\n",
    "\n",
    "### Expected Topics in GenAI Education:\n",
    "- Educational Technology and Tools\n",
    "- Curriculum and Pedagogical Applications  \n",
    "- Student Learning and Engagement\n",
    "- Teacher Training and Professional Development\n",
    "- Assessment and Evaluation Methods\n",
    "- Ethical Considerations and Challenges"
   ]
  },
  {
   "cell_type": "code",
   "execution_count": 58,
   "id": "5866aa99",
   "metadata": {
    "colab": {
     "base_uri": "https://localhost:8080/",
     "height": 481
    },
    "id": "MKkEYMWTVeFp",
    "outputId": "f7e9738f-a1f4-4eaa-c982-20a683d19c02"
   },
   "outputs": [
    {
     "name": "stdout",
     "output_type": "stream",
     "text": [
      "\n",
      "Most frequent topics:\n"
     ]
    },
    {
     "data": {
      "application/vnd.google.colaboratory.intrinsic+json": {
       "summary": "{\n  \"name\": \"bertopic_model\",\n  \"rows\": 6,\n  \"fields\": [\n    {\n      \"column\": \"Topic\",\n      \"properties\": {\n        \"dtype\": \"number\",\n        \"std\": 1,\n        \"min\": -1,\n        \"max\": 4,\n        \"num_unique_values\": 6,\n        \"samples\": [\n          -1,\n          0,\n          4\n        ],\n        \"semantic_type\": \"\",\n        \"description\": \"\"\n      }\n    },\n    {\n      \"column\": \"Count\",\n      \"properties\": {\n        \"dtype\": \"number\",\n        \"std\": 52,\n        \"min\": 21,\n        \"max\": 139,\n        \"num_unique_values\": 6,\n        \"samples\": [\n          139,\n          136,\n          21\n        ],\n        \"semantic_type\": \"\",\n        \"description\": \"\"\n      }\n    },\n    {\n      \"column\": \"Name\",\n      \"properties\": {\n        \"dtype\": \"string\",\n        \"num_unique_values\": 6,\n        \"samples\": [\n          \"-1_ai_kids_think_teachers\",\n          \"0_ai_ai education_use ai_language models\",\n          \"4_valuable_materials_working_great\"\n        ],\n        \"semantic_type\": \"\",\n        \"description\": \"\"\n      }\n    },\n    {\n      \"column\": \"Representation\",\n      \"properties\": {\n        \"dtype\": \"object\",\n        \"semantic_type\": \"\",\n        \"description\": \"\"\n      }\n    },\n    {\n      \"column\": \"Representative_Docs\",\n      \"properties\": {\n        \"dtype\": \"object\",\n        \"semantic_type\": \"\",\n        \"description\": \"\"\n      }\n    }\n  ]\n}",
       "type": "dataframe"
      },
      "text/html": [
       "\n",
       "  <div id=\"df-2970d2ad-80cc-48bc-9d0d-bfa9a41f4b96\" class=\"colab-df-container\">\n",
       "    <div>\n",
       "<style scoped>\n",
       "    .dataframe tbody tr th:only-of-type {\n",
       "        vertical-align: middle;\n",
       "    }\n",
       "\n",
       "    .dataframe tbody tr th {\n",
       "        vertical-align: top;\n",
       "    }\n",
       "\n",
       "    .dataframe thead th {\n",
       "        text-align: right;\n",
       "    }\n",
       "</style>\n",
       "<table border=\"1\" class=\"dataframe\">\n",
       "  <thead>\n",
       "    <tr style=\"text-align: right;\">\n",
       "      <th></th>\n",
       "      <th>Topic</th>\n",
       "      <th>Count</th>\n",
       "      <th>Name</th>\n",
       "      <th>Representation</th>\n",
       "      <th>Representative_Docs</th>\n",
       "    </tr>\n",
       "  </thead>\n",
       "  <tbody>\n",
       "    <tr>\n",
       "      <th>0</th>\n",
       "      <td>-1</td>\n",
       "      <td>139</td>\n",
       "      <td>-1_ai_kids_think_teachers</td>\n",
       "      <td>[ai, kids, think, teachers, use ai, generative...</td>\n",
       "      <td>[teaching kids how to use AI to better prepare...</td>\n",
       "    </tr>\n",
       "    <tr>\n",
       "      <th>1</th>\n",
       "      <td>0</td>\n",
       "      <td>136</td>\n",
       "      <td>0_ai_ai education_use ai_language models</td>\n",
       "      <td>[ai, ai education, use ai, language models, la...</td>\n",
       "      <td>[I appreciate the potential of AI technology t...</td>\n",
       "    </tr>\n",
       "    <tr>\n",
       "      <th>2</th>\n",
       "      <td>1</td>\n",
       "      <td>79</td>\n",
       "      <td>1_generative ai_generative_ai_use generative</td>\n",
       "      <td>[generative ai, generative, ai, use generative...</td>\n",
       "      <td>[G-7 education ministers confirm need to curb ...</td>\n",
       "    </tr>\n",
       "    <tr>\n",
       "      <th>3</th>\n",
       "      <td>2</td>\n",
       "      <td>40</td>\n",
       "      <td>2_chatgpt_gpt_essays_grammarly</td>\n",
       "      <td>[chatgpt, gpt, essays, grammarly, essay, chat,...</td>\n",
       "      <td>[Think Uni sjould habe a harsh stance on Chat ...</td>\n",
       "    </tr>\n",
       "    <tr>\n",
       "      <th>4</th>\n",
       "      <td>3</td>\n",
       "      <td>33</td>\n",
       "      <td>3_ai_technologies_ban_university</td>\n",
       "      <td>[ai, technologies, ban, university, think, way...</td>\n",
       "      <td>[I think it is an important matter as AI will ...</td>\n",
       "    </tr>\n",
       "    <tr>\n",
       "      <th>5</th>\n",
       "      <td>4</td>\n",
       "      <td>21</td>\n",
       "      <td>4_valuable_materials_working_great</td>\n",
       "      <td>[valuable, materials, working, great, things, ...</td>\n",
       "      <td>[think it's a great tutoring tool. It can teac...</td>\n",
       "    </tr>\n",
       "  </tbody>\n",
       "</table>\n",
       "</div>\n",
       "    <div class=\"colab-df-buttons\">\n",
       "\n",
       "  <div class=\"colab-df-container\">\n",
       "    <button class=\"colab-df-convert\" onclick=\"convertToInteractive('df-2970d2ad-80cc-48bc-9d0d-bfa9a41f4b96')\"\n",
       "            title=\"Convert this dataframe to an interactive table.\"\n",
       "            style=\"display:none;\">\n",
       "\n",
       "  <svg xmlns=\"http://www.w3.org/2000/svg\" height=\"24px\" viewBox=\"0 -960 960 960\">\n",
       "    <path d=\"M120-120v-720h720v720H120Zm60-500h600v-160H180v160Zm220 220h160v-160H400v160Zm0 220h160v-160H400v160ZM180-400h160v-160H180v160Zm440 0h160v-160H620v160ZM180-180h160v-160H180v160Zm440 0h160v-160H620v160Z\"/>\n",
       "  </svg>\n",
       "    </button>\n",
       "\n",
       "  <style>\n",
       "    .colab-df-container {\n",
       "      display:flex;\n",
       "      gap: 12px;\n",
       "    }\n",
       "\n",
       "    .colab-df-convert {\n",
       "      background-color: #E8F0FE;\n",
       "      border: none;\n",
       "      border-radius: 50%;\n",
       "      cursor: pointer;\n",
       "      display: none;\n",
       "      fill: #1967D2;\n",
       "      height: 32px;\n",
       "      padding: 0 0 0 0;\n",
       "      width: 32px;\n",
       "    }\n",
       "\n",
       "    .colab-df-convert:hover {\n",
       "      background-color: #E2EBFA;\n",
       "      box-shadow: 0px 1px 2px rgba(60, 64, 67, 0.3), 0px 1px 3px 1px rgba(60, 64, 67, 0.15);\n",
       "      fill: #174EA6;\n",
       "    }\n",
       "\n",
       "    .colab-df-buttons div {\n",
       "      margin-bottom: 4px;\n",
       "    }\n",
       "\n",
       "    [theme=dark] .colab-df-convert {\n",
       "      background-color: #3B4455;\n",
       "      fill: #D2E3FC;\n",
       "    }\n",
       "\n",
       "    [theme=dark] .colab-df-convert:hover {\n",
       "      background-color: #434B5C;\n",
       "      box-shadow: 0px 1px 3px 1px rgba(0, 0, 0, 0.15);\n",
       "      filter: drop-shadow(0px 1px 2px rgba(0, 0, 0, 0.3));\n",
       "      fill: #FFFFFF;\n",
       "    }\n",
       "  </style>\n",
       "\n",
       "    <script>\n",
       "      const buttonEl =\n",
       "        document.querySelector('#df-2970d2ad-80cc-48bc-9d0d-bfa9a41f4b96 button.colab-df-convert');\n",
       "      buttonEl.style.display =\n",
       "        google.colab.kernel.accessAllowed ? 'block' : 'none';\n",
       "\n",
       "      async function convertToInteractive(key) {\n",
       "        const element = document.querySelector('#df-2970d2ad-80cc-48bc-9d0d-bfa9a41f4b96');\n",
       "        const dataTable =\n",
       "          await google.colab.kernel.invokeFunction('convertToInteractive',\n",
       "                                                    [key], {});\n",
       "        if (!dataTable) return;\n",
       "\n",
       "        const docLinkHtml = 'Like what you see? Visit the ' +\n",
       "          '<a target=\"_blank\" href=https://colab.research.google.com/notebooks/data_table.ipynb>data table notebook</a>'\n",
       "          + ' to learn more about interactive tables.';\n",
       "        element.innerHTML = '';\n",
       "        dataTable['output_type'] = 'display_data';\n",
       "        await google.colab.output.renderOutput(dataTable, element);\n",
       "        const docLink = document.createElement('div');\n",
       "        docLink.innerHTML = docLinkHtml;\n",
       "        element.appendChild(docLink);\n",
       "      }\n",
       "    </script>\n",
       "  </div>\n",
       "\n",
       "\n",
       "    <div id=\"df-62bafaf2-8b8c-427e-ab18-0bf4f9944b18\">\n",
       "      <button class=\"colab-df-quickchart\" onclick=\"quickchart('df-62bafaf2-8b8c-427e-ab18-0bf4f9944b18')\"\n",
       "                title=\"Suggest charts\"\n",
       "                style=\"display:none;\">\n",
       "\n",
       "<svg xmlns=\"http://www.w3.org/2000/svg\" height=\"24px\"viewBox=\"0 0 24 24\"\n",
       "     width=\"24px\">\n",
       "    <g>\n",
       "        <path d=\"M19 3H5c-1.1 0-2 .9-2 2v14c0 1.1.9 2 2 2h14c1.1 0 2-.9 2-2V5c0-1.1-.9-2-2-2zM9 17H7v-7h2v7zm4 0h-2V7h2v10zm4 0h-2v-4h2v4z\"/>\n",
       "    </g>\n",
       "</svg>\n",
       "      </button>\n",
       "\n",
       "<style>\n",
       "  .colab-df-quickchart {\n",
       "      --bg-color: #E8F0FE;\n",
       "      --fill-color: #1967D2;\n",
       "      --hover-bg-color: #E2EBFA;\n",
       "      --hover-fill-color: #174EA6;\n",
       "      --disabled-fill-color: #AAA;\n",
       "      --disabled-bg-color: #DDD;\n",
       "  }\n",
       "\n",
       "  [theme=dark] .colab-df-quickchart {\n",
       "      --bg-color: #3B4455;\n",
       "      --fill-color: #D2E3FC;\n",
       "      --hover-bg-color: #434B5C;\n",
       "      --hover-fill-color: #FFFFFF;\n",
       "      --disabled-bg-color: #3B4455;\n",
       "      --disabled-fill-color: #666;\n",
       "  }\n",
       "\n",
       "  .colab-df-quickchart {\n",
       "    background-color: var(--bg-color);\n",
       "    border: none;\n",
       "    border-radius: 50%;\n",
       "    cursor: pointer;\n",
       "    display: none;\n",
       "    fill: var(--fill-color);\n",
       "    height: 32px;\n",
       "    padding: 0;\n",
       "    width: 32px;\n",
       "  }\n",
       "\n",
       "  .colab-df-quickchart:hover {\n",
       "    background-color: var(--hover-bg-color);\n",
       "    box-shadow: 0 1px 2px rgba(60, 64, 67, 0.3), 0 1px 3px 1px rgba(60, 64, 67, 0.15);\n",
       "    fill: var(--button-hover-fill-color);\n",
       "  }\n",
       "\n",
       "  .colab-df-quickchart-complete:disabled,\n",
       "  .colab-df-quickchart-complete:disabled:hover {\n",
       "    background-color: var(--disabled-bg-color);\n",
       "    fill: var(--disabled-fill-color);\n",
       "    box-shadow: none;\n",
       "  }\n",
       "\n",
       "  .colab-df-spinner {\n",
       "    border: 2px solid var(--fill-color);\n",
       "    border-color: transparent;\n",
       "    border-bottom-color: var(--fill-color);\n",
       "    animation:\n",
       "      spin 1s steps(1) infinite;\n",
       "  }\n",
       "\n",
       "  @keyframes spin {\n",
       "    0% {\n",
       "      border-color: transparent;\n",
       "      border-bottom-color: var(--fill-color);\n",
       "      border-left-color: var(--fill-color);\n",
       "    }\n",
       "    20% {\n",
       "      border-color: transparent;\n",
       "      border-left-color: var(--fill-color);\n",
       "      border-top-color: var(--fill-color);\n",
       "    }\n",
       "    30% {\n",
       "      border-color: transparent;\n",
       "      border-left-color: var(--fill-color);\n",
       "      border-top-color: var(--fill-color);\n",
       "      border-right-color: var(--fill-color);\n",
       "    }\n",
       "    40% {\n",
       "      border-color: transparent;\n",
       "      border-right-color: var(--fill-color);\n",
       "      border-top-color: var(--fill-color);\n",
       "    }\n",
       "    60% {\n",
       "      border-color: transparent;\n",
       "      border-right-color: var(--fill-color);\n",
       "    }\n",
       "    80% {\n",
       "      border-color: transparent;\n",
       "      border-right-color: var(--fill-color);\n",
       "      border-bottom-color: var(--fill-color);\n",
       "    }\n",
       "    90% {\n",
       "      border-color: transparent;\n",
       "      border-bottom-color: var(--fill-color);\n",
       "    }\n",
       "  }\n",
       "</style>\n",
       "\n",
       "      <script>\n",
       "        async function quickchart(key) {\n",
       "          const quickchartButtonEl =\n",
       "            document.querySelector('#' + key + ' button');\n",
       "          quickchartButtonEl.disabled = true;  // To prevent multiple clicks.\n",
       "          quickchartButtonEl.classList.add('colab-df-spinner');\n",
       "          try {\n",
       "            const charts = await google.colab.kernel.invokeFunction(\n",
       "                'suggestCharts', [key], {});\n",
       "          } catch (error) {\n",
       "            console.error('Error during call to suggestCharts:', error);\n",
       "          }\n",
       "          quickchartButtonEl.classList.remove('colab-df-spinner');\n",
       "          quickchartButtonEl.classList.add('colab-df-quickchart-complete');\n",
       "        }\n",
       "        (() => {\n",
       "          let quickchartButtonEl =\n",
       "            document.querySelector('#df-62bafaf2-8b8c-427e-ab18-0bf4f9944b18 button');\n",
       "          quickchartButtonEl.style.display =\n",
       "            google.colab.kernel.accessAllowed ? 'block' : 'none';\n",
       "        })();\n",
       "      </script>\n",
       "    </div>\n",
       "\n",
       "    </div>\n",
       "  </div>\n"
      ],
      "text/plain": [
       "   Topic  Count                                          Name  \\\n",
       "0     -1    139                     -1_ai_kids_think_teachers   \n",
       "1      0    136      0_ai_ai education_use ai_language models   \n",
       "2      1     79  1_generative ai_generative_ai_use generative   \n",
       "3      2     40                2_chatgpt_gpt_essays_grammarly   \n",
       "4      3     33              3_ai_technologies_ban_university   \n",
       "5      4     21            4_valuable_materials_working_great   \n",
       "\n",
       "                                      Representation  \\\n",
       "0  [ai, kids, think, teachers, use ai, generative...   \n",
       "1  [ai, ai education, use ai, language models, la...   \n",
       "2  [generative ai, generative, ai, use generative...   \n",
       "3  [chatgpt, gpt, essays, grammarly, essay, chat,...   \n",
       "4  [ai, technologies, ban, university, think, way...   \n",
       "5  [valuable, materials, working, great, things, ...   \n",
       "\n",
       "                                 Representative_Docs  \n",
       "0  [teaching kids how to use AI to better prepare...  \n",
       "1  [I appreciate the potential of AI technology t...  \n",
       "2  [G-7 education ministers confirm need to curb ...  \n",
       "3  [Think Uni sjould habe a harsh stance on Chat ...  \n",
       "4  [I think it is an important matter as AI will ...  \n",
       "5  [think it's a great tutoring tool. It can teac...  "
      ]
     },
     "execution_count": 58,
     "metadata": {},
     "output_type": "execute_result"
    }
   ],
   "source": [
    "print(\"\\nMost frequent topics:\")\n",
    "bertopic_model.get_topic_info()"
   ]
  },
  {
   "cell_type": "markdown",
   "id": "ef56cd9d",
   "metadata": {},
   "source": [
    "### Topic Information Summary\n",
    "\n",
    "Displaying the most frequent topics with their key characteristics and document distributions."
   ]
  },
  {
   "cell_type": "code",
   "execution_count": 59,
   "id": "a7389ac6",
   "metadata": {
    "colab": {
     "base_uri": "https://localhost:8080/",
     "height": 537
    },
    "id": "nmgHJgzwaoRa",
    "outputId": "717e0bf6-e6a7-4db7-9d5c-94b9cce76fdd"
   },
   "outputs": [
    {
     "data": {
      "text/html": [
       "<html>\n",
       "<head><meta charset=\"utf-8\" /></head>\n",
       "<body>\n",
       "    <div>            <script src=\"https://cdnjs.cloudflare.com/ajax/libs/mathjax/2.7.5/MathJax.js?config=TeX-AMS-MML_SVG\"></script><script type=\"text/javascript\">if (window.MathJax && window.MathJax.Hub && window.MathJax.Hub.Config) {window.MathJax.Hub.Config({SVG: {font: \"STIX-Web\"}});}</script>                <script type=\"text/javascript\">window.PlotlyConfig = {MathJaxConfig: 'local'};</script>\n",
       "        <script charset=\"utf-8\" src=\"https://cdn.plot.ly/plotly-2.35.2.min.js\"></script>                <div id=\"09f2e527-dceb-4b9f-b7b7-3fb24a271022\" class=\"plotly-graph-div\" style=\"height:500px; width:1000px;\"></div>            <script type=\"text/javascript\">                                    window.PLOTLYENV=window.PLOTLYENV || {};                                    if (document.getElementById(\"09f2e527-dceb-4b9f-b7b7-3fb24a271022\")) {                    Plotly.newPlot(                        \"09f2e527-dceb-4b9f-b7b7-3fb24a271022\",                        [{\"marker\":{\"color\":\"#D55E00\"},\"orientation\":\"h\",\"x\":[0.03013758772066724,0.03013758772066724,0.03486083790009456,0.03542164972028587,0.11550326750246111],\"y\":[\"large language  \",\"language models  \",\"use ai  \",\"ai education  \",\"ai  \"],\"type\":\"bar\",\"xaxis\":\"x\",\"yaxis\":\"y\"},{\"marker\":{\"color\":\"#0072B2\"},\"orientation\":\"h\",\"x\":[0.038994766558084294,0.05497028960562152,0.11668333253738318,0.20279462192792772,0.2198671252154522],\"y\":[\"risks  \",\"use generative  \",\"ai  \",\"generative  \",\"generative ai  \"],\"type\":\"bar\",\"xaxis\":\"x2\",\"yaxis\":\"y2\"},{\"marker\":{\"color\":\"#CC79A7\"},\"orientation\":\"h\",\"x\":[0.0506416079130451,0.05134989800305551,0.05541384198169501,0.09756144970080519,0.10246518660572175],\"y\":[\"essay  \",\"grammarly  \",\"essays  \",\"gpt  \",\"chatgpt  \"],\"type\":\"bar\",\"xaxis\":\"x3\",\"yaxis\":\"y3\"},{\"marker\":{\"color\":\"#E69F00\"},\"orientation\":\"h\",\"x\":[0.055082048161729305,0.05643909342632403,0.058628214792520755,0.07540251209167148,0.08979677990566264],\"y\":[\"think  \",\"university  \",\"ban  \",\"technologies  \",\"ai  \"],\"type\":\"bar\",\"xaxis\":\"x4\",\"yaxis\":\"y4\"},{\"marker\":{\"color\":\"#56B4E9\"},\"orientation\":\"h\",\"x\":[0.053126651549532604,0.05419287562991087,0.0589539527924239,0.0632309895942273,0.07198996130215082],\"y\":[\"things  \",\"great  \",\"working  \",\"materials  \",\"valuable  \"],\"type\":\"bar\",\"xaxis\":\"x5\",\"yaxis\":\"y5\"}],                        {\"template\":{\"data\":{\"barpolar\":[{\"marker\":{\"line\":{\"color\":\"white\",\"width\":0.5},\"pattern\":{\"fillmode\":\"overlay\",\"size\":10,\"solidity\":0.2}},\"type\":\"barpolar\"}],\"bar\":[{\"error_x\":{\"color\":\"#2a3f5f\"},\"error_y\":{\"color\":\"#2a3f5f\"},\"marker\":{\"line\":{\"color\":\"white\",\"width\":0.5},\"pattern\":{\"fillmode\":\"overlay\",\"size\":10,\"solidity\":0.2}},\"type\":\"bar\"}],\"carpet\":[{\"aaxis\":{\"endlinecolor\":\"#2a3f5f\",\"gridcolor\":\"#C8D4E3\",\"linecolor\":\"#C8D4E3\",\"minorgridcolor\":\"#C8D4E3\",\"startlinecolor\":\"#2a3f5f\"},\"baxis\":{\"endlinecolor\":\"#2a3f5f\",\"gridcolor\":\"#C8D4E3\",\"linecolor\":\"#C8D4E3\",\"minorgridcolor\":\"#C8D4E3\",\"startlinecolor\":\"#2a3f5f\"},\"type\":\"carpet\"}],\"choropleth\":[{\"colorbar\":{\"outlinewidth\":0,\"ticks\":\"\"},\"type\":\"choropleth\"}],\"contourcarpet\":[{\"colorbar\":{\"outlinewidth\":0,\"ticks\":\"\"},\"type\":\"contourcarpet\"}],\"contour\":[{\"colorbar\":{\"outlinewidth\":0,\"ticks\":\"\"},\"colorscale\":[[0.0,\"#0d0887\"],[0.1111111111111111,\"#46039f\"],[0.2222222222222222,\"#7201a8\"],[0.3333333333333333,\"#9c179e\"],[0.4444444444444444,\"#bd3786\"],[0.5555555555555556,\"#d8576b\"],[0.6666666666666666,\"#ed7953\"],[0.7777777777777778,\"#fb9f3a\"],[0.8888888888888888,\"#fdca26\"],[1.0,\"#f0f921\"]],\"type\":\"contour\"}],\"heatmapgl\":[{\"colorbar\":{\"outlinewidth\":0,\"ticks\":\"\"},\"colorscale\":[[0.0,\"#0d0887\"],[0.1111111111111111,\"#46039f\"],[0.2222222222222222,\"#7201a8\"],[0.3333333333333333,\"#9c179e\"],[0.4444444444444444,\"#bd3786\"],[0.5555555555555556,\"#d8576b\"],[0.6666666666666666,\"#ed7953\"],[0.7777777777777778,\"#fb9f3a\"],[0.8888888888888888,\"#fdca26\"],[1.0,\"#f0f921\"]],\"type\":\"heatmapgl\"}],\"heatmap\":[{\"colorbar\":{\"outlinewidth\":0,\"ticks\":\"\"},\"colorscale\":[[0.0,\"#0d0887\"],[0.1111111111111111,\"#46039f\"],[0.2222222222222222,\"#7201a8\"],[0.3333333333333333,\"#9c179e\"],[0.4444444444444444,\"#bd3786\"],[0.5555555555555556,\"#d8576b\"],[0.6666666666666666,\"#ed7953\"],[0.7777777777777778,\"#fb9f3a\"],[0.8888888888888888,\"#fdca26\"],[1.0,\"#f0f921\"]],\"type\":\"heatmap\"}],\"histogram2dcontour\":[{\"colorbar\":{\"outlinewidth\":0,\"ticks\":\"\"},\"colorscale\":[[0.0,\"#0d0887\"],[0.1111111111111111,\"#46039f\"],[0.2222222222222222,\"#7201a8\"],[0.3333333333333333,\"#9c179e\"],[0.4444444444444444,\"#bd3786\"],[0.5555555555555556,\"#d8576b\"],[0.6666666666666666,\"#ed7953\"],[0.7777777777777778,\"#fb9f3a\"],[0.8888888888888888,\"#fdca26\"],[1.0,\"#f0f921\"]],\"type\":\"histogram2dcontour\"}],\"histogram2d\":[{\"colorbar\":{\"outlinewidth\":0,\"ticks\":\"\"},\"colorscale\":[[0.0,\"#0d0887\"],[0.1111111111111111,\"#46039f\"],[0.2222222222222222,\"#7201a8\"],[0.3333333333333333,\"#9c179e\"],[0.4444444444444444,\"#bd3786\"],[0.5555555555555556,\"#d8576b\"],[0.6666666666666666,\"#ed7953\"],[0.7777777777777778,\"#fb9f3a\"],[0.8888888888888888,\"#fdca26\"],[1.0,\"#f0f921\"]],\"type\":\"histogram2d\"}],\"histogram\":[{\"marker\":{\"pattern\":{\"fillmode\":\"overlay\",\"size\":10,\"solidity\":0.2}},\"type\":\"histogram\"}],\"mesh3d\":[{\"colorbar\":{\"outlinewidth\":0,\"ticks\":\"\"},\"type\":\"mesh3d\"}],\"parcoords\":[{\"line\":{\"colorbar\":{\"outlinewidth\":0,\"ticks\":\"\"}},\"type\":\"parcoords\"}],\"pie\":[{\"automargin\":true,\"type\":\"pie\"}],\"scatter3d\":[{\"line\":{\"colorbar\":{\"outlinewidth\":0,\"ticks\":\"\"}},\"marker\":{\"colorbar\":{\"outlinewidth\":0,\"ticks\":\"\"}},\"type\":\"scatter3d\"}],\"scattercarpet\":[{\"marker\":{\"colorbar\":{\"outlinewidth\":0,\"ticks\":\"\"}},\"type\":\"scattercarpet\"}],\"scattergeo\":[{\"marker\":{\"colorbar\":{\"outlinewidth\":0,\"ticks\":\"\"}},\"type\":\"scattergeo\"}],\"scattergl\":[{\"marker\":{\"colorbar\":{\"outlinewidth\":0,\"ticks\":\"\"}},\"type\":\"scattergl\"}],\"scattermapbox\":[{\"marker\":{\"colorbar\":{\"outlinewidth\":0,\"ticks\":\"\"}},\"type\":\"scattermapbox\"}],\"scatterpolargl\":[{\"marker\":{\"colorbar\":{\"outlinewidth\":0,\"ticks\":\"\"}},\"type\":\"scatterpolargl\"}],\"scatterpolar\":[{\"marker\":{\"colorbar\":{\"outlinewidth\":0,\"ticks\":\"\"}},\"type\":\"scatterpolar\"}],\"scatter\":[{\"fillpattern\":{\"fillmode\":\"overlay\",\"size\":10,\"solidity\":0.2},\"type\":\"scatter\"}],\"scatterternary\":[{\"marker\":{\"colorbar\":{\"outlinewidth\":0,\"ticks\":\"\"}},\"type\":\"scatterternary\"}],\"surface\":[{\"colorbar\":{\"outlinewidth\":0,\"ticks\":\"\"},\"colorscale\":[[0.0,\"#0d0887\"],[0.1111111111111111,\"#46039f\"],[0.2222222222222222,\"#7201a8\"],[0.3333333333333333,\"#9c179e\"],[0.4444444444444444,\"#bd3786\"],[0.5555555555555556,\"#d8576b\"],[0.6666666666666666,\"#ed7953\"],[0.7777777777777778,\"#fb9f3a\"],[0.8888888888888888,\"#fdca26\"],[1.0,\"#f0f921\"]],\"type\":\"surface\"}],\"table\":[{\"cells\":{\"fill\":{\"color\":\"#EBF0F8\"},\"line\":{\"color\":\"white\"}},\"header\":{\"fill\":{\"color\":\"#C8D4E3\"},\"line\":{\"color\":\"white\"}},\"type\":\"table\"}]},\"layout\":{\"annotationdefaults\":{\"arrowcolor\":\"#2a3f5f\",\"arrowhead\":0,\"arrowwidth\":1},\"autotypenumbers\":\"strict\",\"coloraxis\":{\"colorbar\":{\"outlinewidth\":0,\"ticks\":\"\"}},\"colorscale\":{\"diverging\":[[0,\"#8e0152\"],[0.1,\"#c51b7d\"],[0.2,\"#de77ae\"],[0.3,\"#f1b6da\"],[0.4,\"#fde0ef\"],[0.5,\"#f7f7f7\"],[0.6,\"#e6f5d0\"],[0.7,\"#b8e186\"],[0.8,\"#7fbc41\"],[0.9,\"#4d9221\"],[1,\"#276419\"]],\"sequential\":[[0.0,\"#0d0887\"],[0.1111111111111111,\"#46039f\"],[0.2222222222222222,\"#7201a8\"],[0.3333333333333333,\"#9c179e\"],[0.4444444444444444,\"#bd3786\"],[0.5555555555555556,\"#d8576b\"],[0.6666666666666666,\"#ed7953\"],[0.7777777777777778,\"#fb9f3a\"],[0.8888888888888888,\"#fdca26\"],[1.0,\"#f0f921\"]],\"sequentialminus\":[[0.0,\"#0d0887\"],[0.1111111111111111,\"#46039f\"],[0.2222222222222222,\"#7201a8\"],[0.3333333333333333,\"#9c179e\"],[0.4444444444444444,\"#bd3786\"],[0.5555555555555556,\"#d8576b\"],[0.6666666666666666,\"#ed7953\"],[0.7777777777777778,\"#fb9f3a\"],[0.8888888888888888,\"#fdca26\"],[1.0,\"#f0f921\"]]},\"colorway\":[\"#636efa\",\"#EF553B\",\"#00cc96\",\"#ab63fa\",\"#FFA15A\",\"#19d3f3\",\"#FF6692\",\"#B6E880\",\"#FF97FF\",\"#FECB52\"],\"font\":{\"color\":\"#2a3f5f\"},\"geo\":{\"bgcolor\":\"white\",\"lakecolor\":\"white\",\"landcolor\":\"white\",\"showlakes\":true,\"showland\":true,\"subunitcolor\":\"#C8D4E3\"},\"hoverlabel\":{\"align\":\"left\"},\"hovermode\":\"closest\",\"mapbox\":{\"style\":\"light\"},\"paper_bgcolor\":\"white\",\"plot_bgcolor\":\"white\",\"polar\":{\"angularaxis\":{\"gridcolor\":\"#EBF0F8\",\"linecolor\":\"#EBF0F8\",\"ticks\":\"\"},\"bgcolor\":\"white\",\"radialaxis\":{\"gridcolor\":\"#EBF0F8\",\"linecolor\":\"#EBF0F8\",\"ticks\":\"\"}},\"scene\":{\"xaxis\":{\"backgroundcolor\":\"white\",\"gridcolor\":\"#DFE8F3\",\"gridwidth\":2,\"linecolor\":\"#EBF0F8\",\"showbackground\":true,\"ticks\":\"\",\"zerolinecolor\":\"#EBF0F8\"},\"yaxis\":{\"backgroundcolor\":\"white\",\"gridcolor\":\"#DFE8F3\",\"gridwidth\":2,\"linecolor\":\"#EBF0F8\",\"showbackground\":true,\"ticks\":\"\",\"zerolinecolor\":\"#EBF0F8\"},\"zaxis\":{\"backgroundcolor\":\"white\",\"gridcolor\":\"#DFE8F3\",\"gridwidth\":2,\"linecolor\":\"#EBF0F8\",\"showbackground\":true,\"ticks\":\"\",\"zerolinecolor\":\"#EBF0F8\"}},\"shapedefaults\":{\"line\":{\"color\":\"#2a3f5f\"}},\"ternary\":{\"aaxis\":{\"gridcolor\":\"#DFE8F3\",\"linecolor\":\"#A2B1C6\",\"ticks\":\"\"},\"baxis\":{\"gridcolor\":\"#DFE8F3\",\"linecolor\":\"#A2B1C6\",\"ticks\":\"\"},\"bgcolor\":\"white\",\"caxis\":{\"gridcolor\":\"#DFE8F3\",\"linecolor\":\"#A2B1C6\",\"ticks\":\"\"}},\"title\":{\"x\":0.05},\"xaxis\":{\"automargin\":true,\"gridcolor\":\"#EBF0F8\",\"linecolor\":\"#EBF0F8\",\"ticks\":\"\",\"title\":{\"standoff\":15},\"zerolinecolor\":\"#EBF0F8\",\"zerolinewidth\":2},\"yaxis\":{\"automargin\":true,\"gridcolor\":\"#EBF0F8\",\"linecolor\":\"#EBF0F8\",\"ticks\":\"\",\"title\":{\"standoff\":15},\"zerolinecolor\":\"#EBF0F8\",\"zerolinewidth\":2}}},\"xaxis\":{\"anchor\":\"y\",\"domain\":[0.0,0.175],\"showgrid\":true},\"yaxis\":{\"anchor\":\"x\",\"domain\":[0.6000000000000001,1.0],\"showgrid\":true},\"xaxis2\":{\"anchor\":\"y2\",\"domain\":[0.275,0.45],\"showgrid\":true},\"yaxis2\":{\"anchor\":\"x2\",\"domain\":[0.6000000000000001,1.0],\"showgrid\":true},\"xaxis3\":{\"anchor\":\"y3\",\"domain\":[0.55,0.7250000000000001],\"showgrid\":true},\"yaxis3\":{\"anchor\":\"x3\",\"domain\":[0.6000000000000001,1.0],\"showgrid\":true},\"xaxis4\":{\"anchor\":\"y4\",\"domain\":[0.825,1.0],\"showgrid\":true},\"yaxis4\":{\"anchor\":\"x4\",\"domain\":[0.6000000000000001,1.0],\"showgrid\":true},\"xaxis5\":{\"anchor\":\"y5\",\"domain\":[0.0,0.175],\"showgrid\":true},\"yaxis5\":{\"anchor\":\"x5\",\"domain\":[0.0,0.4],\"showgrid\":true},\"xaxis6\":{\"anchor\":\"y6\",\"domain\":[0.275,0.45],\"showgrid\":true},\"yaxis6\":{\"anchor\":\"x6\",\"domain\":[0.0,0.4],\"showgrid\":true},\"xaxis7\":{\"anchor\":\"y7\",\"domain\":[0.55,0.7250000000000001],\"showgrid\":true},\"yaxis7\":{\"anchor\":\"x7\",\"domain\":[0.0,0.4],\"showgrid\":true},\"xaxis8\":{\"anchor\":\"y8\",\"domain\":[0.825,1.0],\"showgrid\":true},\"yaxis8\":{\"anchor\":\"x8\",\"domain\":[0.0,0.4],\"showgrid\":true},\"annotations\":[{\"font\":{\"size\":16},\"showarrow\":false,\"text\":\"Topic 0\",\"x\":0.0875,\"xanchor\":\"center\",\"xref\":\"paper\",\"y\":1.0,\"yanchor\":\"bottom\",\"yref\":\"paper\"},{\"font\":{\"size\":16},\"showarrow\":false,\"text\":\"Topic 1\",\"x\":0.36250000000000004,\"xanchor\":\"center\",\"xref\":\"paper\",\"y\":1.0,\"yanchor\":\"bottom\",\"yref\":\"paper\"},{\"font\":{\"size\":16},\"showarrow\":false,\"text\":\"Topic 2\",\"x\":0.6375000000000001,\"xanchor\":\"center\",\"xref\":\"paper\",\"y\":1.0,\"yanchor\":\"bottom\",\"yref\":\"paper\"},{\"font\":{\"size\":16},\"showarrow\":false,\"text\":\"Topic 3\",\"x\":0.9125,\"xanchor\":\"center\",\"xref\":\"paper\",\"y\":1.0,\"yanchor\":\"bottom\",\"yref\":\"paper\"},{\"font\":{\"size\":16},\"showarrow\":false,\"text\":\"Topic 4\",\"x\":0.0875,\"xanchor\":\"center\",\"xref\":\"paper\",\"y\":0.4,\"yanchor\":\"bottom\",\"yref\":\"paper\"}],\"title\":{\"font\":{\"size\":22,\"color\":\"Black\"},\"text\":\"Topic Word Scores\",\"x\":0.5,\"xanchor\":\"center\",\"yanchor\":\"top\"},\"hoverlabel\":{\"font\":{\"size\":16,\"family\":\"Rockwell\"},\"bgcolor\":\"white\"},\"showlegend\":false,\"width\":1000,\"height\":500},                        {\"responsive\": true}                    ).then(function(){\n",
       "                            \n",
       "var gd = document.getElementById('09f2e527-dceb-4b9f-b7b7-3fb24a271022');\n",
       "var x = new MutationObserver(function (mutations, observer) {{\n",
       "        var display = window.getComputedStyle(gd).display;\n",
       "        if (!display || display === 'none') {{\n",
       "            console.log([gd, 'removed!']);\n",
       "            Plotly.purge(gd);\n",
       "            observer.disconnect();\n",
       "        }}\n",
       "}});\n",
       "\n",
       "// Listen for the removal of the full notebook cells\n",
       "var notebookContainer = gd.closest('#notebook-container');\n",
       "if (notebookContainer) {{\n",
       "    x.observe(notebookContainer, {childList: true});\n",
       "}}\n",
       "\n",
       "// Listen for the clearing of the current output cell\n",
       "var outputEl = gd.closest('.output');\n",
       "if (outputEl) {{\n",
       "    x.observe(outputEl, {childList: true});\n",
       "}}\n",
       "\n",
       "                        })                };                            </script>        </div>\n",
       "</body>\n",
       "</html>"
      ]
     },
     "metadata": {},
     "output_type": "display_data"
    }
   ],
   "source": [
    "bertopic_model.visualize_barchart()"
   ]
  },
  {
   "cell_type": "markdown",
   "id": "53fe36a4",
   "metadata": {},
   "source": [
    "### Topic Bar Chart Visualization\n",
    "\n",
    "Interactive bar chart showing the most important words for each topic with their c-TF-IDF scores."
   ]
  },
  {
   "cell_type": "code",
   "execution_count": 63,
   "id": "ff302eb0",
   "metadata": {
    "colab": {
     "base_uri": "https://localhost:8080/",
     "height": 837
    },
    "id": "D1axFbE4d7z1",
    "outputId": "54200263-8c3d-4ac8-bf5d-716604015929"
   },
   "outputs": [
    {
     "data": {
      "text/html": [
       "<html>\n",
       "<head><meta charset=\"utf-8\" /></head>\n",
       "<body>\n",
       "    <div>            <script src=\"https://cdnjs.cloudflare.com/ajax/libs/mathjax/2.7.5/MathJax.js?config=TeX-AMS-MML_SVG\"></script><script type=\"text/javascript\">if (window.MathJax && window.MathJax.Hub && window.MathJax.Hub.Config) {window.MathJax.Hub.Config({SVG: {font: \"STIX-Web\"}});}</script>                <script type=\"text/javascript\">window.PlotlyConfig = {MathJaxConfig: 'local'};</script>\n",
       "        <script charset=\"utf-8\" src=\"https://cdn.plot.ly/plotly-2.35.2.min.js\"></script>                <div id=\"0f360e8a-ad75-4306-a617-6a70280ed104\" class=\"plotly-graph-div\" style=\"height:800px; width:800px;\"></div>            <script type=\"text/javascript\">                                    window.PLOTLYENV=window.PLOTLYENV || {};                                    if (document.getElementById(\"0f360e8a-ad75-4306-a617-6a70280ed104\")) {                    Plotly.newPlot(                        \"0f360e8a-ad75-4306-a617-6a70280ed104\",                        [{\"coloraxis\":\"coloraxis\",\"name\":\"0\",\"x\":[\"0_ai_ai education_use ai\",\"1_generative ai_generative_ai\",\"2_chatgpt_gpt_essays\",\"3_ai_technologies_ban\",\"4_valuable_materials_working\"],\"y\":[\"0_ai_ai education_use ai\",\"1_generative ai_generative_ai\",\"2_chatgpt_gpt_essays\",\"3_ai_technologies_ban\",\"4_valuable_materials_working\"],\"z\":[[0.99999976,0.8253821,0.5058752,0.7765899,0.57223],[0.8253821,1.0,0.4607423,0.59417796,0.5381584],[0.5058752,0.4607423,1.0000005,0.60218257,0.6223901],[0.7765899,0.59417796,0.60218257,0.9999998,0.57515514],[0.57223,0.5381584,0.6223901,0.57515514,0.9999999]],\"type\":\"heatmap\",\"xaxis\":\"x\",\"yaxis\":\"y\",\"hovertemplate\":\"x: %{x}\\u003cbr\\u003ey: %{y}\\u003cbr\\u003eSimilarity Score: %{z}\\u003cextra\\u003e\\u003c\\u002fextra\\u003e\"}],                        {\"template\":{\"data\":{\"histogram2dcontour\":[{\"type\":\"histogram2dcontour\",\"colorbar\":{\"outlinewidth\":0,\"ticks\":\"\"},\"colorscale\":[[0.0,\"#0d0887\"],[0.1111111111111111,\"#46039f\"],[0.2222222222222222,\"#7201a8\"],[0.3333333333333333,\"#9c179e\"],[0.4444444444444444,\"#bd3786\"],[0.5555555555555556,\"#d8576b\"],[0.6666666666666666,\"#ed7953\"],[0.7777777777777778,\"#fb9f3a\"],[0.8888888888888888,\"#fdca26\"],[1.0,\"#f0f921\"]]}],\"choropleth\":[{\"type\":\"choropleth\",\"colorbar\":{\"outlinewidth\":0,\"ticks\":\"\"}}],\"histogram2d\":[{\"type\":\"histogram2d\",\"colorbar\":{\"outlinewidth\":0,\"ticks\":\"\"},\"colorscale\":[[0.0,\"#0d0887\"],[0.1111111111111111,\"#46039f\"],[0.2222222222222222,\"#7201a8\"],[0.3333333333333333,\"#9c179e\"],[0.4444444444444444,\"#bd3786\"],[0.5555555555555556,\"#d8576b\"],[0.6666666666666666,\"#ed7953\"],[0.7777777777777778,\"#fb9f3a\"],[0.8888888888888888,\"#fdca26\"],[1.0,\"#f0f921\"]]}],\"heatmap\":[{\"type\":\"heatmap\",\"colorbar\":{\"outlinewidth\":0,\"ticks\":\"\"},\"colorscale\":[[0.0,\"#0d0887\"],[0.1111111111111111,\"#46039f\"],[0.2222222222222222,\"#7201a8\"],[0.3333333333333333,\"#9c179e\"],[0.4444444444444444,\"#bd3786\"],[0.5555555555555556,\"#d8576b\"],[0.6666666666666666,\"#ed7953\"],[0.7777777777777778,\"#fb9f3a\"],[0.8888888888888888,\"#fdca26\"],[1.0,\"#f0f921\"]]}],\"heatmapgl\":[{\"type\":\"heatmapgl\",\"colorbar\":{\"outlinewidth\":0,\"ticks\":\"\"},\"colorscale\":[[0.0,\"#0d0887\"],[0.1111111111111111,\"#46039f\"],[0.2222222222222222,\"#7201a8\"],[0.3333333333333333,\"#9c179e\"],[0.4444444444444444,\"#bd3786\"],[0.5555555555555556,\"#d8576b\"],[0.6666666666666666,\"#ed7953\"],[0.7777777777777778,\"#fb9f3a\"],[0.8888888888888888,\"#fdca26\"],[1.0,\"#f0f921\"]]}],\"contourcarpet\":[{\"type\":\"contourcarpet\",\"colorbar\":{\"outlinewidth\":0,\"ticks\":\"\"}}],\"contour\":[{\"type\":\"contour\",\"colorbar\":{\"outlinewidth\":0,\"ticks\":\"\"},\"colorscale\":[[0.0,\"#0d0887\"],[0.1111111111111111,\"#46039f\"],[0.2222222222222222,\"#7201a8\"],[0.3333333333333333,\"#9c179e\"],[0.4444444444444444,\"#bd3786\"],[0.5555555555555556,\"#d8576b\"],[0.6666666666666666,\"#ed7953\"],[0.7777777777777778,\"#fb9f3a\"],[0.8888888888888888,\"#fdca26\"],[1.0,\"#f0f921\"]]}],\"surface\":[{\"type\":\"surface\",\"colorbar\":{\"outlinewidth\":0,\"ticks\":\"\"},\"colorscale\":[[0.0,\"#0d0887\"],[0.1111111111111111,\"#46039f\"],[0.2222222222222222,\"#7201a8\"],[0.3333333333333333,\"#9c179e\"],[0.4444444444444444,\"#bd3786\"],[0.5555555555555556,\"#d8576b\"],[0.6666666666666666,\"#ed7953\"],[0.7777777777777778,\"#fb9f3a\"],[0.8888888888888888,\"#fdca26\"],[1.0,\"#f0f921\"]]}],\"mesh3d\":[{\"type\":\"mesh3d\",\"colorbar\":{\"outlinewidth\":0,\"ticks\":\"\"}}],\"scatter\":[{\"fillpattern\":{\"fillmode\":\"overlay\",\"size\":10,\"solidity\":0.2},\"type\":\"scatter\"}],\"parcoords\":[{\"type\":\"parcoords\",\"line\":{\"colorbar\":{\"outlinewidth\":0,\"ticks\":\"\"}}}],\"scatterpolargl\":[{\"type\":\"scatterpolargl\",\"marker\":{\"colorbar\":{\"outlinewidth\":0,\"ticks\":\"\"}}}],\"bar\":[{\"error_x\":{\"color\":\"#2a3f5f\"},\"error_y\":{\"color\":\"#2a3f5f\"},\"marker\":{\"line\":{\"color\":\"#E5ECF6\",\"width\":0.5},\"pattern\":{\"fillmode\":\"overlay\",\"size\":10,\"solidity\":0.2}},\"type\":\"bar\"}],\"scattergeo\":[{\"type\":\"scattergeo\",\"marker\":{\"colorbar\":{\"outlinewidth\":0,\"ticks\":\"\"}}}],\"scatterpolar\":[{\"type\":\"scatterpolar\",\"marker\":{\"colorbar\":{\"outlinewidth\":0,\"ticks\":\"\"}}}],\"histogram\":[{\"marker\":{\"pattern\":{\"fillmode\":\"overlay\",\"size\":10,\"solidity\":0.2}},\"type\":\"histogram\"}],\"scattergl\":[{\"type\":\"scattergl\",\"marker\":{\"colorbar\":{\"outlinewidth\":0,\"ticks\":\"\"}}}],\"scatter3d\":[{\"type\":\"scatter3d\",\"line\":{\"colorbar\":{\"outlinewidth\":0,\"ticks\":\"\"}},\"marker\":{\"colorbar\":{\"outlinewidth\":0,\"ticks\":\"\"}}}],\"scattermapbox\":[{\"type\":\"scattermapbox\",\"marker\":{\"colorbar\":{\"outlinewidth\":0,\"ticks\":\"\"}}}],\"scatterternary\":[{\"type\":\"scatterternary\",\"marker\":{\"colorbar\":{\"outlinewidth\":0,\"ticks\":\"\"}}}],\"scattercarpet\":[{\"type\":\"scattercarpet\",\"marker\":{\"colorbar\":{\"outlinewidth\":0,\"ticks\":\"\"}}}],\"carpet\":[{\"aaxis\":{\"endlinecolor\":\"#2a3f5f\",\"gridcolor\":\"white\",\"linecolor\":\"white\",\"minorgridcolor\":\"white\",\"startlinecolor\":\"#2a3f5f\"},\"baxis\":{\"endlinecolor\":\"#2a3f5f\",\"gridcolor\":\"white\",\"linecolor\":\"white\",\"minorgridcolor\":\"white\",\"startlinecolor\":\"#2a3f5f\"},\"type\":\"carpet\"}],\"table\":[{\"cells\":{\"fill\":{\"color\":\"#EBF0F8\"},\"line\":{\"color\":\"white\"}},\"header\":{\"fill\":{\"color\":\"#C8D4E3\"},\"line\":{\"color\":\"white\"}},\"type\":\"table\"}],\"barpolar\":[{\"marker\":{\"line\":{\"color\":\"#E5ECF6\",\"width\":0.5},\"pattern\":{\"fillmode\":\"overlay\",\"size\":10,\"solidity\":0.2}},\"type\":\"barpolar\"}],\"pie\":[{\"automargin\":true,\"type\":\"pie\"}]},\"layout\":{\"autotypenumbers\":\"strict\",\"colorway\":[\"#636efa\",\"#EF553B\",\"#00cc96\",\"#ab63fa\",\"#FFA15A\",\"#19d3f3\",\"#FF6692\",\"#B6E880\",\"#FF97FF\",\"#FECB52\"],\"font\":{\"color\":\"#2a3f5f\"},\"hovermode\":\"closest\",\"hoverlabel\":{\"align\":\"left\"},\"paper_bgcolor\":\"white\",\"plot_bgcolor\":\"#E5ECF6\",\"polar\":{\"bgcolor\":\"#E5ECF6\",\"angularaxis\":{\"gridcolor\":\"white\",\"linecolor\":\"white\",\"ticks\":\"\"},\"radialaxis\":{\"gridcolor\":\"white\",\"linecolor\":\"white\",\"ticks\":\"\"}},\"ternary\":{\"bgcolor\":\"#E5ECF6\",\"aaxis\":{\"gridcolor\":\"white\",\"linecolor\":\"white\",\"ticks\":\"\"},\"baxis\":{\"gridcolor\":\"white\",\"linecolor\":\"white\",\"ticks\":\"\"},\"caxis\":{\"gridcolor\":\"white\",\"linecolor\":\"white\",\"ticks\":\"\"}},\"coloraxis\":{\"colorbar\":{\"outlinewidth\":0,\"ticks\":\"\"}},\"colorscale\":{\"sequential\":[[0.0,\"#0d0887\"],[0.1111111111111111,\"#46039f\"],[0.2222222222222222,\"#7201a8\"],[0.3333333333333333,\"#9c179e\"],[0.4444444444444444,\"#bd3786\"],[0.5555555555555556,\"#d8576b\"],[0.6666666666666666,\"#ed7953\"],[0.7777777777777778,\"#fb9f3a\"],[0.8888888888888888,\"#fdca26\"],[1.0,\"#f0f921\"]],\"sequentialminus\":[[0.0,\"#0d0887\"],[0.1111111111111111,\"#46039f\"],[0.2222222222222222,\"#7201a8\"],[0.3333333333333333,\"#9c179e\"],[0.4444444444444444,\"#bd3786\"],[0.5555555555555556,\"#d8576b\"],[0.6666666666666666,\"#ed7953\"],[0.7777777777777778,\"#fb9f3a\"],[0.8888888888888888,\"#fdca26\"],[1.0,\"#f0f921\"]],\"diverging\":[[0,\"#8e0152\"],[0.1,\"#c51b7d\"],[0.2,\"#de77ae\"],[0.3,\"#f1b6da\"],[0.4,\"#fde0ef\"],[0.5,\"#f7f7f7\"],[0.6,\"#e6f5d0\"],[0.7,\"#b8e186\"],[0.8,\"#7fbc41\"],[0.9,\"#4d9221\"],[1,\"#276419\"]]},\"xaxis\":{\"gridcolor\":\"white\",\"linecolor\":\"white\",\"ticks\":\"\",\"title\":{\"standoff\":15},\"zerolinecolor\":\"white\",\"automargin\":true,\"zerolinewidth\":2},\"yaxis\":{\"gridcolor\":\"white\",\"linecolor\":\"white\",\"ticks\":\"\",\"title\":{\"standoff\":15},\"zerolinecolor\":\"white\",\"automargin\":true,\"zerolinewidth\":2},\"scene\":{\"xaxis\":{\"backgroundcolor\":\"#E5ECF6\",\"gridcolor\":\"white\",\"linecolor\":\"white\",\"showbackground\":true,\"ticks\":\"\",\"zerolinecolor\":\"white\",\"gridwidth\":2},\"yaxis\":{\"backgroundcolor\":\"#E5ECF6\",\"gridcolor\":\"white\",\"linecolor\":\"white\",\"showbackground\":true,\"ticks\":\"\",\"zerolinecolor\":\"white\",\"gridwidth\":2},\"zaxis\":{\"backgroundcolor\":\"#E5ECF6\",\"gridcolor\":\"white\",\"linecolor\":\"white\",\"showbackground\":true,\"ticks\":\"\",\"zerolinecolor\":\"white\",\"gridwidth\":2}},\"shapedefaults\":{\"line\":{\"color\":\"#2a3f5f\"}},\"annotationdefaults\":{\"arrowcolor\":\"#2a3f5f\",\"arrowhead\":0,\"arrowwidth\":1},\"geo\":{\"bgcolor\":\"white\",\"landcolor\":\"#E5ECF6\",\"subunitcolor\":\"white\",\"showland\":true,\"showlakes\":true,\"lakecolor\":\"white\"},\"title\":{\"x\":0.05},\"mapbox\":{\"style\":\"light\"}}},\"xaxis\":{\"anchor\":\"y\",\"domain\":[0.0,1.0],\"scaleanchor\":\"y\",\"constrain\":\"domain\"},\"yaxis\":{\"anchor\":\"x\",\"domain\":[0.0,1.0],\"autorange\":\"reversed\",\"constrain\":\"domain\"},\"coloraxis\":{\"colorbar\":{\"title\":{\"text\":\"Similarity Score\"}},\"colorscale\":[[0.0,\"rgb(247,252,240)\"],[0.125,\"rgb(224,243,219)\"],[0.25,\"rgb(204,235,197)\"],[0.375,\"rgb(168,221,181)\"],[0.5,\"rgb(123,204,196)\"],[0.625,\"rgb(78,179,211)\"],[0.75,\"rgb(43,140,190)\"],[0.875,\"rgb(8,104,172)\"],[1.0,\"rgb(8,64,129)\"]]},\"margin\":{\"t\":60},\"title\":{\"font\":{\"size\":22,\"color\":\"Black\"},\"text\":\"\\u003cb\\u003eSimilarity Matrix\\u003c\\u002fb\\u003e\",\"y\":0.95,\"x\":0.55,\"xanchor\":\"center\",\"yanchor\":\"top\"},\"hoverlabel\":{\"font\":{\"size\":16,\"family\":\"Rockwell\"},\"bgcolor\":\"white\"},\"width\":800,\"height\":800,\"showlegend\":true,\"legend\":{\"title\":{\"text\":\"Trend\"}}},                        {\"responsive\": true}                    ).then(function(){\n",
       "                            \n",
       "var gd = document.getElementById('0f360e8a-ad75-4306-a617-6a70280ed104');\n",
       "var x = new MutationObserver(function (mutations, observer) {{\n",
       "        var display = window.getComputedStyle(gd).display;\n",
       "        if (!display || display === 'none') {{\n",
       "            console.log([gd, 'removed!']);\n",
       "            Plotly.purge(gd);\n",
       "            observer.disconnect();\n",
       "        }}\n",
       "}});\n",
       "\n",
       "// Listen for the removal of the full notebook cells\n",
       "var notebookContainer = gd.closest('#notebook-container');\n",
       "if (notebookContainer) {{\n",
       "    x.observe(notebookContainer, {childList: true});\n",
       "}}\n",
       "\n",
       "// Listen for the clearing of the current output cell\n",
       "var outputEl = gd.closest('.output');\n",
       "if (outputEl) {{\n",
       "    x.observe(outputEl, {childList: true});\n",
       "}}\n",
       "\n",
       "                        })                };                            </script>        </div>\n",
       "</body>\n",
       "</html>"
      ]
     },
     "metadata": {},
     "output_type": "display_data"
    }
   ],
   "source": [
    "bertopic_model.visualize_heatmap()"
   ]
  },
  {
   "cell_type": "markdown",
   "id": "19e97f4b",
   "metadata": {},
   "source": [
    "### Topic Similarity Heatmap\n",
    "\n",
    "Heatmap visualization showing the similarity between different topics based on their word distributions."
   ]
  },
  {
   "cell_type": "code",
   "execution_count": 64,
   "id": "ff5703cc",
   "metadata": {
    "colab": {
     "base_uri": "https://localhost:8080/",
     "height": 312
    },
    "id": "pn9epPTxfTYw",
    "outputId": "ac524032-90a3-4282-bdf7-1045dac21c29"
   },
   "outputs": [
    {
     "data": {
      "text/html": [
       "<html>\n",
       "<head><meta charset=\"utf-8\" /></head>\n",
       "<body>\n",
       "    <div>            <script src=\"https://cdnjs.cloudflare.com/ajax/libs/mathjax/2.7.5/MathJax.js?config=TeX-AMS-MML_SVG\"></script><script type=\"text/javascript\">if (window.MathJax && window.MathJax.Hub && window.MathJax.Hub.Config) {window.MathJax.Hub.Config({SVG: {font: \"STIX-Web\"}});}</script>                <script type=\"text/javascript\">window.PlotlyConfig = {MathJaxConfig: 'local'};</script>\n",
       "        <script charset=\"utf-8\" src=\"https://cdn.plot.ly/plotly-2.35.2.min.js\"></script>                <div id=\"1298d73e-46c0-489e-b09a-a54be0c6a52c\" class=\"plotly-graph-div\" style=\"height:275px; width:1000px;\"></div>            <script type=\"text/javascript\">                                    window.PLOTLYENV=window.PLOTLYENV || {};                                    if (document.getElementById(\"1298d73e-46c0-489e-b09a-a54be0c6a52c\")) {                    Plotly.newPlot(                        \"1298d73e-46c0-489e-b09a-a54be0c6a52c\",                        [{\"hoverinfo\":\"text\",\"marker\":{\"color\":\"rgb(61,153,112)\"},\"mode\":\"lines\",\"x\":[0.0,0.5829140825991014,0.5829140825991014,0.0],\"xaxis\":\"x\",\"y\":[-25.0,-25.0,-35.0,-35.0],\"yaxis\":\"y\",\"type\":\"scatter\"},{\"hoverinfo\":\"text\",\"marker\":{\"color\":\"rgb(61,153,112)\"},\"mode\":\"lines\",\"x\":[0.0,0.7448077579812362,0.7448077579812362,0.5829140825991014],\"xaxis\":\"x\",\"y\":[-15.0,-15.0,-30.0,-30.0],\"yaxis\":\"y\",\"type\":\"scatter\"},{\"hoverinfo\":\"text\",\"marker\":{\"color\":\"rgb(61,153,112)\"},\"mode\":\"lines\",\"x\":[0.7448077579812362,0.8372422108353903,0.8372422108353903,0.0],\"xaxis\":\"x\",\"y\":[-22.5,-22.5,-45.0,-45.0],\"yaxis\":\"y\",\"type\":\"scatter\"},{\"hoverinfo\":\"text\",\"marker\":{\"color\":\"rgb(61,153,112)\"},\"mode\":\"lines\",\"x\":[0.0,0.9155957922936038,0.9155957922936038,0.8372422108353903],\"xaxis\":\"x\",\"y\":[-5.0,-5.0,-33.75,-33.75],\"yaxis\":\"y\",\"type\":\"scatter\"}],                        {\"autosize\":false,\"height\":275,\"hovermode\":\"closest\",\"showlegend\":false,\"width\":1000,\"xaxis\":{\"mirror\":\"allticks\",\"rangemode\":\"tozero\",\"showgrid\":false,\"showline\":true,\"showticklabels\":true,\"ticks\":\"outside\",\"type\":\"linear\",\"zeroline\":false},\"yaxis\":{\"mirror\":\"allticks\",\"rangemode\":\"tozero\",\"showgrid\":false,\"showline\":true,\"showticklabels\":true,\"tickmode\":\"array\",\"ticks\":\"outside\",\"ticktext\":[\"4_valuable_materials_working\",\"2_chatgpt_gpt_essays\",\"3_ai_technologies_ban\",\"0_ai_ai education_use ai\",\"1_generative ai_generative_ai\"],\"tickvals\":[-5.0,-15.0,-25.0,-35.0,-45.0],\"type\":\"linear\",\"zeroline\":false,\"range\":[-50.0,0.0]},\"template\":{\"data\":{\"barpolar\":[{\"marker\":{\"line\":{\"color\":\"white\",\"width\":0.5},\"pattern\":{\"fillmode\":\"overlay\",\"size\":10,\"solidity\":0.2}},\"type\":\"barpolar\"}],\"bar\":[{\"error_x\":{\"color\":\"#2a3f5f\"},\"error_y\":{\"color\":\"#2a3f5f\"},\"marker\":{\"line\":{\"color\":\"white\",\"width\":0.5},\"pattern\":{\"fillmode\":\"overlay\",\"size\":10,\"solidity\":0.2}},\"type\":\"bar\"}],\"carpet\":[{\"aaxis\":{\"endlinecolor\":\"#2a3f5f\",\"gridcolor\":\"#C8D4E3\",\"linecolor\":\"#C8D4E3\",\"minorgridcolor\":\"#C8D4E3\",\"startlinecolor\":\"#2a3f5f\"},\"baxis\":{\"endlinecolor\":\"#2a3f5f\",\"gridcolor\":\"#C8D4E3\",\"linecolor\":\"#C8D4E3\",\"minorgridcolor\":\"#C8D4E3\",\"startlinecolor\":\"#2a3f5f\"},\"type\":\"carpet\"}],\"choropleth\":[{\"colorbar\":{\"outlinewidth\":0,\"ticks\":\"\"},\"type\":\"choropleth\"}],\"contourcarpet\":[{\"colorbar\":{\"outlinewidth\":0,\"ticks\":\"\"},\"type\":\"contourcarpet\"}],\"contour\":[{\"colorbar\":{\"outlinewidth\":0,\"ticks\":\"\"},\"colorscale\":[[0.0,\"#0d0887\"],[0.1111111111111111,\"#46039f\"],[0.2222222222222222,\"#7201a8\"],[0.3333333333333333,\"#9c179e\"],[0.4444444444444444,\"#bd3786\"],[0.5555555555555556,\"#d8576b\"],[0.6666666666666666,\"#ed7953\"],[0.7777777777777778,\"#fb9f3a\"],[0.8888888888888888,\"#fdca26\"],[1.0,\"#f0f921\"]],\"type\":\"contour\"}],\"heatmapgl\":[{\"colorbar\":{\"outlinewidth\":0,\"ticks\":\"\"},\"colorscale\":[[0.0,\"#0d0887\"],[0.1111111111111111,\"#46039f\"],[0.2222222222222222,\"#7201a8\"],[0.3333333333333333,\"#9c179e\"],[0.4444444444444444,\"#bd3786\"],[0.5555555555555556,\"#d8576b\"],[0.6666666666666666,\"#ed7953\"],[0.7777777777777778,\"#fb9f3a\"],[0.8888888888888888,\"#fdca26\"],[1.0,\"#f0f921\"]],\"type\":\"heatmapgl\"}],\"heatmap\":[{\"colorbar\":{\"outlinewidth\":0,\"ticks\":\"\"},\"colorscale\":[[0.0,\"#0d0887\"],[0.1111111111111111,\"#46039f\"],[0.2222222222222222,\"#7201a8\"],[0.3333333333333333,\"#9c179e\"],[0.4444444444444444,\"#bd3786\"],[0.5555555555555556,\"#d8576b\"],[0.6666666666666666,\"#ed7953\"],[0.7777777777777778,\"#fb9f3a\"],[0.8888888888888888,\"#fdca26\"],[1.0,\"#f0f921\"]],\"type\":\"heatmap\"}],\"histogram2dcontour\":[{\"colorbar\":{\"outlinewidth\":0,\"ticks\":\"\"},\"colorscale\":[[0.0,\"#0d0887\"],[0.1111111111111111,\"#46039f\"],[0.2222222222222222,\"#7201a8\"],[0.3333333333333333,\"#9c179e\"],[0.4444444444444444,\"#bd3786\"],[0.5555555555555556,\"#d8576b\"],[0.6666666666666666,\"#ed7953\"],[0.7777777777777778,\"#fb9f3a\"],[0.8888888888888888,\"#fdca26\"],[1.0,\"#f0f921\"]],\"type\":\"histogram2dcontour\"}],\"histogram2d\":[{\"colorbar\":{\"outlinewidth\":0,\"ticks\":\"\"},\"colorscale\":[[0.0,\"#0d0887\"],[0.1111111111111111,\"#46039f\"],[0.2222222222222222,\"#7201a8\"],[0.3333333333333333,\"#9c179e\"],[0.4444444444444444,\"#bd3786\"],[0.5555555555555556,\"#d8576b\"],[0.6666666666666666,\"#ed7953\"],[0.7777777777777778,\"#fb9f3a\"],[0.8888888888888888,\"#fdca26\"],[1.0,\"#f0f921\"]],\"type\":\"histogram2d\"}],\"histogram\":[{\"marker\":{\"pattern\":{\"fillmode\":\"overlay\",\"size\":10,\"solidity\":0.2}},\"type\":\"histogram\"}],\"mesh3d\":[{\"colorbar\":{\"outlinewidth\":0,\"ticks\":\"\"},\"type\":\"mesh3d\"}],\"parcoords\":[{\"line\":{\"colorbar\":{\"outlinewidth\":0,\"ticks\":\"\"}},\"type\":\"parcoords\"}],\"pie\":[{\"automargin\":true,\"type\":\"pie\"}],\"scatter3d\":[{\"line\":{\"colorbar\":{\"outlinewidth\":0,\"ticks\":\"\"}},\"marker\":{\"colorbar\":{\"outlinewidth\":0,\"ticks\":\"\"}},\"type\":\"scatter3d\"}],\"scattercarpet\":[{\"marker\":{\"colorbar\":{\"outlinewidth\":0,\"ticks\":\"\"}},\"type\":\"scattercarpet\"}],\"scattergeo\":[{\"marker\":{\"colorbar\":{\"outlinewidth\":0,\"ticks\":\"\"}},\"type\":\"scattergeo\"}],\"scattergl\":[{\"marker\":{\"colorbar\":{\"outlinewidth\":0,\"ticks\":\"\"}},\"type\":\"scattergl\"}],\"scattermapbox\":[{\"marker\":{\"colorbar\":{\"outlinewidth\":0,\"ticks\":\"\"}},\"type\":\"scattermapbox\"}],\"scatterpolargl\":[{\"marker\":{\"colorbar\":{\"outlinewidth\":0,\"ticks\":\"\"}},\"type\":\"scatterpolargl\"}],\"scatterpolar\":[{\"marker\":{\"colorbar\":{\"outlinewidth\":0,\"ticks\":\"\"}},\"type\":\"scatterpolar\"}],\"scatter\":[{\"fillpattern\":{\"fillmode\":\"overlay\",\"size\":10,\"solidity\":0.2},\"type\":\"scatter\"}],\"scatterternary\":[{\"marker\":{\"colorbar\":{\"outlinewidth\":0,\"ticks\":\"\"}},\"type\":\"scatterternary\"}],\"surface\":[{\"colorbar\":{\"outlinewidth\":0,\"ticks\":\"\"},\"colorscale\":[[0.0,\"#0d0887\"],[0.1111111111111111,\"#46039f\"],[0.2222222222222222,\"#7201a8\"],[0.3333333333333333,\"#9c179e\"],[0.4444444444444444,\"#bd3786\"],[0.5555555555555556,\"#d8576b\"],[0.6666666666666666,\"#ed7953\"],[0.7777777777777778,\"#fb9f3a\"],[0.8888888888888888,\"#fdca26\"],[1.0,\"#f0f921\"]],\"type\":\"surface\"}],\"table\":[{\"cells\":{\"fill\":{\"color\":\"#EBF0F8\"},\"line\":{\"color\":\"white\"}},\"header\":{\"fill\":{\"color\":\"#C8D4E3\"},\"line\":{\"color\":\"white\"}},\"type\":\"table\"}]},\"layout\":{\"annotationdefaults\":{\"arrowcolor\":\"#2a3f5f\",\"arrowhead\":0,\"arrowwidth\":1},\"autotypenumbers\":\"strict\",\"coloraxis\":{\"colorbar\":{\"outlinewidth\":0,\"ticks\":\"\"}},\"colorscale\":{\"diverging\":[[0,\"#8e0152\"],[0.1,\"#c51b7d\"],[0.2,\"#de77ae\"],[0.3,\"#f1b6da\"],[0.4,\"#fde0ef\"],[0.5,\"#f7f7f7\"],[0.6,\"#e6f5d0\"],[0.7,\"#b8e186\"],[0.8,\"#7fbc41\"],[0.9,\"#4d9221\"],[1,\"#276419\"]],\"sequential\":[[0.0,\"#0d0887\"],[0.1111111111111111,\"#46039f\"],[0.2222222222222222,\"#7201a8\"],[0.3333333333333333,\"#9c179e\"],[0.4444444444444444,\"#bd3786\"],[0.5555555555555556,\"#d8576b\"],[0.6666666666666666,\"#ed7953\"],[0.7777777777777778,\"#fb9f3a\"],[0.8888888888888888,\"#fdca26\"],[1.0,\"#f0f921\"]],\"sequentialminus\":[[0.0,\"#0d0887\"],[0.1111111111111111,\"#46039f\"],[0.2222222222222222,\"#7201a8\"],[0.3333333333333333,\"#9c179e\"],[0.4444444444444444,\"#bd3786\"],[0.5555555555555556,\"#d8576b\"],[0.6666666666666666,\"#ed7953\"],[0.7777777777777778,\"#fb9f3a\"],[0.8888888888888888,\"#fdca26\"],[1.0,\"#f0f921\"]]},\"colorway\":[\"#636efa\",\"#EF553B\",\"#00cc96\",\"#ab63fa\",\"#FFA15A\",\"#19d3f3\",\"#FF6692\",\"#B6E880\",\"#FF97FF\",\"#FECB52\"],\"font\":{\"color\":\"#2a3f5f\"},\"geo\":{\"bgcolor\":\"white\",\"lakecolor\":\"white\",\"landcolor\":\"white\",\"showlakes\":true,\"showland\":true,\"subunitcolor\":\"#C8D4E3\"},\"hoverlabel\":{\"align\":\"left\"},\"hovermode\":\"closest\",\"mapbox\":{\"style\":\"light\"},\"paper_bgcolor\":\"white\",\"plot_bgcolor\":\"white\",\"polar\":{\"angularaxis\":{\"gridcolor\":\"#EBF0F8\",\"linecolor\":\"#EBF0F8\",\"ticks\":\"\"},\"bgcolor\":\"white\",\"radialaxis\":{\"gridcolor\":\"#EBF0F8\",\"linecolor\":\"#EBF0F8\",\"ticks\":\"\"}},\"scene\":{\"xaxis\":{\"backgroundcolor\":\"white\",\"gridcolor\":\"#DFE8F3\",\"gridwidth\":2,\"linecolor\":\"#EBF0F8\",\"showbackground\":true,\"ticks\":\"\",\"zerolinecolor\":\"#EBF0F8\"},\"yaxis\":{\"backgroundcolor\":\"white\",\"gridcolor\":\"#DFE8F3\",\"gridwidth\":2,\"linecolor\":\"#EBF0F8\",\"showbackground\":true,\"ticks\":\"\",\"zerolinecolor\":\"#EBF0F8\"},\"zaxis\":{\"backgroundcolor\":\"white\",\"gridcolor\":\"#DFE8F3\",\"gridwidth\":2,\"linecolor\":\"#EBF0F8\",\"showbackground\":true,\"ticks\":\"\",\"zerolinecolor\":\"#EBF0F8\"}},\"shapedefaults\":{\"line\":{\"color\":\"#2a3f5f\"}},\"ternary\":{\"aaxis\":{\"gridcolor\":\"#DFE8F3\",\"linecolor\":\"#A2B1C6\",\"ticks\":\"\"},\"baxis\":{\"gridcolor\":\"#DFE8F3\",\"linecolor\":\"#A2B1C6\",\"ticks\":\"\"},\"bgcolor\":\"white\",\"caxis\":{\"gridcolor\":\"#DFE8F3\",\"linecolor\":\"#A2B1C6\",\"ticks\":\"\"}},\"title\":{\"x\":0.05},\"xaxis\":{\"automargin\":true,\"gridcolor\":\"#EBF0F8\",\"linecolor\":\"#EBF0F8\",\"ticks\":\"\",\"title\":{\"standoff\":15},\"zerolinecolor\":\"#EBF0F8\",\"zerolinewidth\":2},\"yaxis\":{\"automargin\":true,\"gridcolor\":\"#EBF0F8\",\"linecolor\":\"#EBF0F8\",\"ticks\":\"\",\"title\":{\"standoff\":15},\"zerolinecolor\":\"#EBF0F8\",\"zerolinewidth\":2}}},\"title\":{\"font\":{\"size\":22,\"color\":\"Black\"},\"text\":\"\\u003cb\\u003eHierarchical Clustering\\u003c\\u002fb\\u003e\",\"x\":0.5,\"xanchor\":\"center\",\"yanchor\":\"top\"},\"hoverlabel\":{\"font\":{\"size\":16,\"family\":\"Rockwell\"},\"bgcolor\":\"white\"},\"plot_bgcolor\":\"#ECEFF1\"},                        {\"responsive\": true}                    ).then(function(){\n",
       "                            \n",
       "var gd = document.getElementById('1298d73e-46c0-489e-b09a-a54be0c6a52c');\n",
       "var x = new MutationObserver(function (mutations, observer) {{\n",
       "        var display = window.getComputedStyle(gd).display;\n",
       "        if (!display || display === 'none') {{\n",
       "            console.log([gd, 'removed!']);\n",
       "            Plotly.purge(gd);\n",
       "            observer.disconnect();\n",
       "        }}\n",
       "}});\n",
       "\n",
       "// Listen for the removal of the full notebook cells\n",
       "var notebookContainer = gd.closest('#notebook-container');\n",
       "if (notebookContainer) {{\n",
       "    x.observe(notebookContainer, {childList: true});\n",
       "}}\n",
       "\n",
       "// Listen for the clearing of the current output cell\n",
       "var outputEl = gd.closest('.output');\n",
       "if (outputEl) {{\n",
       "    x.observe(outputEl, {childList: true});\n",
       "}}\n",
       "\n",
       "                        })                };                            </script>        </div>\n",
       "</body>\n",
       "</html>"
      ]
     },
     "metadata": {},
     "output_type": "display_data"
    }
   ],
   "source": [
    "bertopic_model.visualize_hierarchy()"
   ]
  },
  {
   "cell_type": "markdown",
   "id": "27bb719e",
   "metadata": {},
   "source": [
    "### Hierarchical Topic Clustering\n",
    "\n",
    "Interactive dendrogram showing the hierarchical relationships between topics and potential topic merging strategies."
   ]
  },
  {
   "cell_type": "code",
   "execution_count": 65,
   "id": "d270abc3",
   "metadata": {
    "colab": {
     "base_uri": "https://localhost:8080/",
     "height": 537
    },
    "id": "HuVr4Z-Pf3de",
    "outputId": "0e0263c6-696b-4b0b-fb07-b13da07cfe60"
   },
   "outputs": [
    {
     "data": {
      "text/html": [
       "<html>\n",
       "<head><meta charset=\"utf-8\" /></head>\n",
       "<body>\n",
       "    <div>            <script src=\"https://cdnjs.cloudflare.com/ajax/libs/mathjax/2.7.5/MathJax.js?config=TeX-AMS-MML_SVG\"></script><script type=\"text/javascript\">if (window.MathJax && window.MathJax.Hub && window.MathJax.Hub.Config) {window.MathJax.Hub.Config({SVG: {font: \"STIX-Web\"}});}</script>                <script type=\"text/javascript\">window.PlotlyConfig = {MathJaxConfig: 'local'};</script>\n",
       "        <script charset=\"utf-8\" src=\"https://cdn.plot.ly/plotly-2.35.2.min.js\"></script>                <div id=\"c41adbf4-fd98-4c33-8c82-5a73e14b0dd2\" class=\"plotly-graph-div\" style=\"height:500px; width:800px;\"></div>            <script type=\"text/javascript\">                                    window.PLOTLYENV=window.PLOTLYENV || {};                                    if (document.getElementById(\"c41adbf4-fd98-4c33-8c82-5a73e14b0dd2\")) {                    Plotly.newPlot(                        \"c41adbf4-fd98-4c33-8c82-5a73e14b0dd2\",                        [{\"hovertext\":\"\\u003cb\\u003eTopic -1\\u003c\\u002fb\\u003e:ai_kids_think_teachers_use ai_gene\",\"line\":{\"color\":\"black\",\"width\":1.5},\"mode\":\"lines+lines\",\"name\":\"\",\"opacity\":0.1,\"x\":[1,2,3,4,5,6,7,8,9,10],\"y\":[0.09115649630493433,0.031253435693392055,0.02979033369887179,0.026657120213832416,0.026230205347515027,0.02582933190918578,0.024770352696460874,0.024678115140281825,0.024390936391996833,0.022972688417545586],\"type\":\"scatter\"},{\"hovertext\":\"\\u003cb\\u003eTopic 0\\u003c\\u002fb\\u003e:ai_ai education_use ai_language mod\",\"line\":{\"color\":\"black\",\"width\":1.5},\"mode\":\"lines+lines\",\"name\":\"\",\"opacity\":0.1,\"x\":[1,2,3,4,5,6,7,8,9,10],\"y\":[0.11550326750246111,0.03542164972028587,0.03486083790009456,0.03013758772066724,0.03013758772066724,0.029696830607367015,0.02837953656467489,0.028083652297216467,0.027982455819147906,0.026261198903725785],\"type\":\"scatter\"},{\"hovertext\":\"\\u003cb\\u003eTopic 1\\u003c\\u002fb\\u003e:generative ai_generative_ai_use gen\",\"line\":{\"color\":\"black\",\"width\":1.5},\"mode\":\"lines+lines\",\"name\":\"\",\"opacity\":0.1,\"x\":[1,2,3,4,5,6,7,8,9,10],\"y\":[0.2198671252154522,0.20279462192792772,0.11668333253738318,0.05497028960562152,0.038994766558084294,0.0379688290250402,0.03498946241769476,0.03497184171864595,0.03309336914338462,0.030490486954065924],\"type\":\"scatter\"},{\"hovertext\":\"\\u003cb\\u003eTopic 2\\u003c\\u002fb\\u003e:chatgpt_gpt_essays_grammarly_essay_\",\"line\":{\"color\":\"black\",\"width\":1.5},\"mode\":\"lines+lines\",\"name\":\"\",\"opacity\":0.1,\"x\":[1,2,3,4,5,6,7,8,9,10],\"y\":[0.10246518660572175,0.09756144970080519,0.05541384198169501,0.05134989800305551,0.0506416079130451,0.0479904585218925,0.04764455620203227,0.04726773690244577,0.04576678911563781,0.045513802505838356],\"type\":\"scatter\"},{\"hovertext\":\"\\u003cb\\u003eTopic 3\\u003c\\u002fb\\u003e:ai_technologies_ban_university_thin\",\"line\":{\"color\":\"black\",\"width\":1.5},\"mode\":\"lines+lines\",\"name\":\"\",\"opacity\":0.1,\"x\":[1,2,3,4,5,6,7,8,9,10],\"y\":[0.08979677990566264,0.07540251209167148,0.058628214792520755,0.05643909342632403,0.055082048161729305,0.05380642141740324,0.0529088988956808,0.04708113068165011,0.03487406411306011,0.032756207729395435],\"type\":\"scatter\"},{\"hovertext\":\"\\u003cb\\u003eTopic 4\\u003c\\u002fb\\u003e:valuable_materials_working_great_th\",\"line\":{\"color\":\"black\",\"width\":1.5},\"mode\":\"lines+lines\",\"name\":\"\",\"opacity\":0.1,\"x\":[1,2,3,4,5,6,7,8,9,10],\"y\":[0.07198996130215082,0.0632309895942273,0.0589539527924239,0.05419287562991087,0.053126651549532604,0.04994960009673243,0.04994960009673243,0.04878625437626528,0.04842207019188907,0.047057409558003624],\"type\":\"scatter\"}],                        {\"template\":{\"data\":{\"barpolar\":[{\"marker\":{\"line\":{\"color\":\"white\",\"width\":0.5},\"pattern\":{\"fillmode\":\"overlay\",\"size\":10,\"solidity\":0.2}},\"type\":\"barpolar\"}],\"bar\":[{\"error_x\":{\"color\":\"#2a3f5f\"},\"error_y\":{\"color\":\"#2a3f5f\"},\"marker\":{\"line\":{\"color\":\"white\",\"width\":0.5},\"pattern\":{\"fillmode\":\"overlay\",\"size\":10,\"solidity\":0.2}},\"type\":\"bar\"}],\"carpet\":[{\"aaxis\":{\"endlinecolor\":\"#2a3f5f\",\"gridcolor\":\"#C8D4E3\",\"linecolor\":\"#C8D4E3\",\"minorgridcolor\":\"#C8D4E3\",\"startlinecolor\":\"#2a3f5f\"},\"baxis\":{\"endlinecolor\":\"#2a3f5f\",\"gridcolor\":\"#C8D4E3\",\"linecolor\":\"#C8D4E3\",\"minorgridcolor\":\"#C8D4E3\",\"startlinecolor\":\"#2a3f5f\"},\"type\":\"carpet\"}],\"choropleth\":[{\"colorbar\":{\"outlinewidth\":0,\"ticks\":\"\"},\"type\":\"choropleth\"}],\"contourcarpet\":[{\"colorbar\":{\"outlinewidth\":0,\"ticks\":\"\"},\"type\":\"contourcarpet\"}],\"contour\":[{\"colorbar\":{\"outlinewidth\":0,\"ticks\":\"\"},\"colorscale\":[[0.0,\"#0d0887\"],[0.1111111111111111,\"#46039f\"],[0.2222222222222222,\"#7201a8\"],[0.3333333333333333,\"#9c179e\"],[0.4444444444444444,\"#bd3786\"],[0.5555555555555556,\"#d8576b\"],[0.6666666666666666,\"#ed7953\"],[0.7777777777777778,\"#fb9f3a\"],[0.8888888888888888,\"#fdca26\"],[1.0,\"#f0f921\"]],\"type\":\"contour\"}],\"heatmapgl\":[{\"colorbar\":{\"outlinewidth\":0,\"ticks\":\"\"},\"colorscale\":[[0.0,\"#0d0887\"],[0.1111111111111111,\"#46039f\"],[0.2222222222222222,\"#7201a8\"],[0.3333333333333333,\"#9c179e\"],[0.4444444444444444,\"#bd3786\"],[0.5555555555555556,\"#d8576b\"],[0.6666666666666666,\"#ed7953\"],[0.7777777777777778,\"#fb9f3a\"],[0.8888888888888888,\"#fdca26\"],[1.0,\"#f0f921\"]],\"type\":\"heatmapgl\"}],\"heatmap\":[{\"colorbar\":{\"outlinewidth\":0,\"ticks\":\"\"},\"colorscale\":[[0.0,\"#0d0887\"],[0.1111111111111111,\"#46039f\"],[0.2222222222222222,\"#7201a8\"],[0.3333333333333333,\"#9c179e\"],[0.4444444444444444,\"#bd3786\"],[0.5555555555555556,\"#d8576b\"],[0.6666666666666666,\"#ed7953\"],[0.7777777777777778,\"#fb9f3a\"],[0.8888888888888888,\"#fdca26\"],[1.0,\"#f0f921\"]],\"type\":\"heatmap\"}],\"histogram2dcontour\":[{\"colorbar\":{\"outlinewidth\":0,\"ticks\":\"\"},\"colorscale\":[[0.0,\"#0d0887\"],[0.1111111111111111,\"#46039f\"],[0.2222222222222222,\"#7201a8\"],[0.3333333333333333,\"#9c179e\"],[0.4444444444444444,\"#bd3786\"],[0.5555555555555556,\"#d8576b\"],[0.6666666666666666,\"#ed7953\"],[0.7777777777777778,\"#fb9f3a\"],[0.8888888888888888,\"#fdca26\"],[1.0,\"#f0f921\"]],\"type\":\"histogram2dcontour\"}],\"histogram2d\":[{\"colorbar\":{\"outlinewidth\":0,\"ticks\":\"\"},\"colorscale\":[[0.0,\"#0d0887\"],[0.1111111111111111,\"#46039f\"],[0.2222222222222222,\"#7201a8\"],[0.3333333333333333,\"#9c179e\"],[0.4444444444444444,\"#bd3786\"],[0.5555555555555556,\"#d8576b\"],[0.6666666666666666,\"#ed7953\"],[0.7777777777777778,\"#fb9f3a\"],[0.8888888888888888,\"#fdca26\"],[1.0,\"#f0f921\"]],\"type\":\"histogram2d\"}],\"histogram\":[{\"marker\":{\"pattern\":{\"fillmode\":\"overlay\",\"size\":10,\"solidity\":0.2}},\"type\":\"histogram\"}],\"mesh3d\":[{\"colorbar\":{\"outlinewidth\":0,\"ticks\":\"\"},\"type\":\"mesh3d\"}],\"parcoords\":[{\"line\":{\"colorbar\":{\"outlinewidth\":0,\"ticks\":\"\"}},\"type\":\"parcoords\"}],\"pie\":[{\"automargin\":true,\"type\":\"pie\"}],\"scatter3d\":[{\"line\":{\"colorbar\":{\"outlinewidth\":0,\"ticks\":\"\"}},\"marker\":{\"colorbar\":{\"outlinewidth\":0,\"ticks\":\"\"}},\"type\":\"scatter3d\"}],\"scattercarpet\":[{\"marker\":{\"colorbar\":{\"outlinewidth\":0,\"ticks\":\"\"}},\"type\":\"scattercarpet\"}],\"scattergeo\":[{\"marker\":{\"colorbar\":{\"outlinewidth\":0,\"ticks\":\"\"}},\"type\":\"scattergeo\"}],\"scattergl\":[{\"marker\":{\"colorbar\":{\"outlinewidth\":0,\"ticks\":\"\"}},\"type\":\"scattergl\"}],\"scattermapbox\":[{\"marker\":{\"colorbar\":{\"outlinewidth\":0,\"ticks\":\"\"}},\"type\":\"scattermapbox\"}],\"scatterpolargl\":[{\"marker\":{\"colorbar\":{\"outlinewidth\":0,\"ticks\":\"\"}},\"type\":\"scatterpolargl\"}],\"scatterpolar\":[{\"marker\":{\"colorbar\":{\"outlinewidth\":0,\"ticks\":\"\"}},\"type\":\"scatterpolar\"}],\"scatter\":[{\"fillpattern\":{\"fillmode\":\"overlay\",\"size\":10,\"solidity\":0.2},\"type\":\"scatter\"}],\"scatterternary\":[{\"marker\":{\"colorbar\":{\"outlinewidth\":0,\"ticks\":\"\"}},\"type\":\"scatterternary\"}],\"surface\":[{\"colorbar\":{\"outlinewidth\":0,\"ticks\":\"\"},\"colorscale\":[[0.0,\"#0d0887\"],[0.1111111111111111,\"#46039f\"],[0.2222222222222222,\"#7201a8\"],[0.3333333333333333,\"#9c179e\"],[0.4444444444444444,\"#bd3786\"],[0.5555555555555556,\"#d8576b\"],[0.6666666666666666,\"#ed7953\"],[0.7777777777777778,\"#fb9f3a\"],[0.8888888888888888,\"#fdca26\"],[1.0,\"#f0f921\"]],\"type\":\"surface\"}],\"table\":[{\"cells\":{\"fill\":{\"color\":\"#EBF0F8\"},\"line\":{\"color\":\"white\"}},\"header\":{\"fill\":{\"color\":\"#C8D4E3\"},\"line\":{\"color\":\"white\"}},\"type\":\"table\"}]},\"layout\":{\"annotationdefaults\":{\"arrowcolor\":\"#2a3f5f\",\"arrowhead\":0,\"arrowwidth\":1},\"autotypenumbers\":\"strict\",\"coloraxis\":{\"colorbar\":{\"outlinewidth\":0,\"ticks\":\"\"}},\"colorscale\":{\"diverging\":[[0,\"#8e0152\"],[0.1,\"#c51b7d\"],[0.2,\"#de77ae\"],[0.3,\"#f1b6da\"],[0.4,\"#fde0ef\"],[0.5,\"#f7f7f7\"],[0.6,\"#e6f5d0\"],[0.7,\"#b8e186\"],[0.8,\"#7fbc41\"],[0.9,\"#4d9221\"],[1,\"#276419\"]],\"sequential\":[[0.0,\"#0d0887\"],[0.1111111111111111,\"#46039f\"],[0.2222222222222222,\"#7201a8\"],[0.3333333333333333,\"#9c179e\"],[0.4444444444444444,\"#bd3786\"],[0.5555555555555556,\"#d8576b\"],[0.6666666666666666,\"#ed7953\"],[0.7777777777777778,\"#fb9f3a\"],[0.8888888888888888,\"#fdca26\"],[1.0,\"#f0f921\"]],\"sequentialminus\":[[0.0,\"#0d0887\"],[0.1111111111111111,\"#46039f\"],[0.2222222222222222,\"#7201a8\"],[0.3333333333333333,\"#9c179e\"],[0.4444444444444444,\"#bd3786\"],[0.5555555555555556,\"#d8576b\"],[0.6666666666666666,\"#ed7953\"],[0.7777777777777778,\"#fb9f3a\"],[0.8888888888888888,\"#fdca26\"],[1.0,\"#f0f921\"]]},\"colorway\":[\"#636efa\",\"#EF553B\",\"#00cc96\",\"#ab63fa\",\"#FFA15A\",\"#19d3f3\",\"#FF6692\",\"#B6E880\",\"#FF97FF\",\"#FECB52\"],\"font\":{\"color\":\"#2a3f5f\"},\"geo\":{\"bgcolor\":\"white\",\"lakecolor\":\"white\",\"landcolor\":\"white\",\"showlakes\":true,\"showland\":true,\"subunitcolor\":\"#C8D4E3\"},\"hoverlabel\":{\"align\":\"left\"},\"hovermode\":\"closest\",\"mapbox\":{\"style\":\"light\"},\"paper_bgcolor\":\"white\",\"plot_bgcolor\":\"white\",\"polar\":{\"angularaxis\":{\"gridcolor\":\"#EBF0F8\",\"linecolor\":\"#EBF0F8\",\"ticks\":\"\"},\"bgcolor\":\"white\",\"radialaxis\":{\"gridcolor\":\"#EBF0F8\",\"linecolor\":\"#EBF0F8\",\"ticks\":\"\"}},\"scene\":{\"xaxis\":{\"backgroundcolor\":\"white\",\"gridcolor\":\"#DFE8F3\",\"gridwidth\":2,\"linecolor\":\"#EBF0F8\",\"showbackground\":true,\"ticks\":\"\",\"zerolinecolor\":\"#EBF0F8\"},\"yaxis\":{\"backgroundcolor\":\"white\",\"gridcolor\":\"#DFE8F3\",\"gridwidth\":2,\"linecolor\":\"#EBF0F8\",\"showbackground\":true,\"ticks\":\"\",\"zerolinecolor\":\"#EBF0F8\"},\"zaxis\":{\"backgroundcolor\":\"white\",\"gridcolor\":\"#DFE8F3\",\"gridwidth\":2,\"linecolor\":\"#EBF0F8\",\"showbackground\":true,\"ticks\":\"\",\"zerolinecolor\":\"#EBF0F8\"}},\"shapedefaults\":{\"line\":{\"color\":\"#2a3f5f\"}},\"ternary\":{\"aaxis\":{\"gridcolor\":\"#DFE8F3\",\"linecolor\":\"#A2B1C6\",\"ticks\":\"\"},\"baxis\":{\"gridcolor\":\"#DFE8F3\",\"linecolor\":\"#A2B1C6\",\"ticks\":\"\"},\"bgcolor\":\"white\",\"caxis\":{\"gridcolor\":\"#DFE8F3\",\"linecolor\":\"#A2B1C6\",\"ticks\":\"\"}},\"title\":{\"x\":0.05},\"xaxis\":{\"automargin\":true,\"gridcolor\":\"#EBF0F8\",\"linecolor\":\"#EBF0F8\",\"ticks\":\"\",\"title\":{\"standoff\":15},\"zerolinecolor\":\"#EBF0F8\",\"zerolinewidth\":2},\"yaxis\":{\"automargin\":true,\"gridcolor\":\"#EBF0F8\",\"linecolor\":\"#EBF0F8\",\"ticks\":\"\",\"title\":{\"standoff\":15},\"zerolinecolor\":\"#EBF0F8\",\"zerolinewidth\":2}}},\"xaxis\":{\"range\":[0,10],\"tick0\":1,\"dtick\":2,\"title\":{\"text\":\"Term Rank\"}},\"title\":{\"font\":{\"size\":22,\"color\":\"Black\"},\"text\":\"\\u003cb\\u003eTerm score decline per Topic\\u003c\\u002fb\\u003e\",\"y\":0.9,\"x\":0.5,\"xanchor\":\"center\",\"yanchor\":\"top\"},\"hoverlabel\":{\"font\":{\"size\":16,\"family\":\"Rockwell\"},\"bgcolor\":\"white\"},\"showlegend\":false,\"width\":800,\"height\":500,\"yaxis\":{\"title\":{\"text\":\"c-TF-IDF score\"}}},                        {\"responsive\": true}                    ).then(function(){\n",
       "                            \n",
       "var gd = document.getElementById('c41adbf4-fd98-4c33-8c82-5a73e14b0dd2');\n",
       "var x = new MutationObserver(function (mutations, observer) {{\n",
       "        var display = window.getComputedStyle(gd).display;\n",
       "        if (!display || display === 'none') {{\n",
       "            console.log([gd, 'removed!']);\n",
       "            Plotly.purge(gd);\n",
       "            observer.disconnect();\n",
       "        }}\n",
       "}});\n",
       "\n",
       "// Listen for the removal of the full notebook cells\n",
       "var notebookContainer = gd.closest('#notebook-container');\n",
       "if (notebookContainer) {{\n",
       "    x.observe(notebookContainer, {childList: true});\n",
       "}}\n",
       "\n",
       "// Listen for the clearing of the current output cell\n",
       "var outputEl = gd.closest('.output');\n",
       "if (outputEl) {{\n",
       "    x.observe(outputEl, {childList: true});\n",
       "}}\n",
       "\n",
       "                        })                };                            </script>        </div>\n",
       "</body>\n",
       "</html>"
      ]
     },
     "metadata": {},
     "output_type": "display_data"
    }
   ],
   "source": [
    "bertopic_model.visualize_term_rank()"
   ]
  },
  {
   "cell_type": "markdown",
   "id": "f86b17c1",
   "metadata": {},
   "source": [
    "### Term Rank Visualization\n",
    "\n",
    "Analysis of how important words rank across different topics, showing word specificity and generality patterns."
   ]
  },
  {
   "cell_type": "markdown",
   "id": "4edef3bf",
   "metadata": {},
   "source": [
    "---\n",
    "\n",
    "## Model Performance Summary and Comparison\n",
    "\n",
    "### BERTopic Results:\n",
    "- **Optimal Configuration**: min_topic_size = [determined by optimization]\n",
    "- **Number of Topics**: [determined by clustering]\n",
    "- **Coherence Score**: [C_V coherence value]\n",
    "- **Topic Quality**: [assessment based on visualization]\n",
    "\n",
    "### Comparison with Classical Methods:\n",
    "\n",
    "#### BERTopic vs LSA:\n",
    "- **Semantic Understanding**: BERTopic uses contextual embeddings vs LSA's bag-of-words\n",
    "- **Topic Discovery**: Dynamic topic discovery vs fixed number of topics\n",
    "- **Interpretability**: Neural approach often produces more semantically coherent topics\n",
    "\n",
    "#### BERTopic vs LDA:\n",
    "- **Model Type**: Neural embeddings + clustering vs probabilistic generative model\n",
    "- **Topic Representation**: c-TF-IDF vs word-topic probability distributions\n",
    "- **Scalability**: BERTopic typically faster on modern hardware with GPU support\n",
    "\n",
    "### Key Findings:\n",
    "1. **Best Performing Model**: [To be determined based on coherence comparison]\n",
    "2. **Topic Themes Discovered**:\n",
    "   - Educational Technology Integration\n",
    "   - Curriculum Development and Assessment\n",
    "   - Student Learning and Engagement\n",
    "   - Teacher Training and Support\n",
    "   - Ethical and Policy Considerations\n",
    "\n",
    "### Advantages of BERTopic:\n",
    "✅ **Rich Visualizations**: Interactive plots for topic exploration  \n",
    "✅ **Semantic Quality**: Better understanding of context and meaning  \n",
    "✅ **Dynamic Topics**: Automatically determines optimal number of topics  \n",
    "✅ **Modern Architecture**: Leverages state-of-the-art transformer models  \n",
    "✅ **Flexibility**: Easy to customize embeddings and clustering algorithms  \n",
    "\n",
    "### Recommendations:\n",
    "- **For Research**: BERTopic provides the most interpretable and semantically meaningful topics\n",
    "- **For Production**: Consider computational requirements vs classical methods\n",
    "- **For Analysis**: Use BERTopic's visualizations for stakeholder presentations\n",
    "\n",
    "This analysis completes the comprehensive comparison of classical and modern topic modeling approaches on the GenAI education dataset."
   ]
  },
  {
   "cell_type": "markdown",
   "id": "cb65c779",
   "metadata": {
    "id": "gOlA3DmMZkVx"
   },
   "source": [
    "# Sentiment Analysis Ensemble Labeling using VADER and TextBlob\n",
    "\n",
    "This implements an ensemble approach to sentiment labeling by combining predictions from VADER and TextBlob sentiment analyzers. The process includes:\n",
    "\n",
    "1. **Dual Annotation**: Apply both VADER and TextBlob to generate sentiment labels\n",
    "2. **Agreement Analysis**: Calculate Cohen's Kappa to measure inter-annotator agreement\n",
    "3. **Ensemble Creation**: Use majority voting to create final consensus labels"
   ]
  },
  {
   "cell_type": "code",
   "execution_count": null,
   "id": "559f7ddd",
   "metadata": {
    "id": "plXrSmnttCdp"
   },
   "outputs": [],
   "source": [
    "import pandas as pd\n",
    "from textblob import TextBlob\n",
    "from vaderSentiment.vaderSentiment import SentimentIntensityAnalyzer\n",
    "\n",
    "file_path = '/content/GenAI in education Dataset - latest cleaned.csv'\n",
    "data = pd.read_csv(file_path)\n",
    "\n",
    "data = data.drop(columns=['link'])\n",
    "\n",
    "vader_analyzer = SentimentIntensityAnalyzer()\n",
    "\n",
    "def vader_sentiment(text):\n",
    "    score = vader_analyzer.polarity_scores(text)['compound']\n",
    "    if score >= 0.05:\n",
    "        return 'positive'\n",
    "    elif score <= -0.05:\n",
    "        return 'negative'\n",
    "    else:\n",
    "        return 'neutral'\n",
    "\n",
    "def textblob_sentiment(text):\n",
    "    polarity = TextBlob(text).sentiment.polarity\n",
    "    if polarity > 0:\n",
    "        return 'positive'\n",
    "    elif polarity < 0:\n",
    "        return 'negative'\n",
    "    else:\n",
    "        return 'neutral'\n",
    "\n",
    "\n",
    "data['vader_label'] = data['text_clean'].apply(vader_sentiment)\n",
    "data['textblob_label'] = data['text_clean'].apply(textblob_sentiment)\n",
    "\n",
    "# Save comparison CSV\n",
    "data.to_csv('sentiment_labels_comparison.csv', index=False)"
   ]
  },
  {
   "cell_type": "markdown",
   "id": "008cd8b5",
   "metadata": {},
   "source": [
    "## Step 1: Dual Sentiment Annotation\n",
    "\n",
    "We'll apply two different sentiment analysis approaches to create independent labels:\n",
    "\n",
    "### VADER (Valence Aware Dictionary and sEntiment Reasoner)\n",
    "- **Compound Score Thresholds**:\n",
    "  - Positive: ≥ 0.05\n",
    "  - Negative: ≤ -0.05  \n",
    "  - Neutral: between -0.05 and 0.05\n",
    "\n",
    "### TextBlob\n",
    "- **Polarity Score Thresholds**:\n",
    "  - Positive: > 0\n",
    "  - Negative: < 0\n",
    "  - Neutral: = 0\n",
    "\n",
    "Both methods will analyze the `text_clean` field to generate sentiment classifications."
   ]
  },
  {
   "cell_type": "code",
   "execution_count": null,
   "id": "ca5f9e5f",
   "metadata": {
    "colab": {
     "base_uri": "https://localhost:8080/"
    },
    "id": "RzxnPUCY8dW7",
    "outputId": "cb118335-3c31-4ed0-f18e-82e2cdd19f52"
   },
   "outputs": [
    {
     "name": "stdout",
     "output_type": "stream",
     "text": [
      "Cohen's Kappa between VADER and TextBlob labels: 0.307\n"
     ]
    }
   ],
   "source": [
    "import pandas as pd\n",
    "from sklearn.metrics import cohen_kappa_score\n",
    "\n",
    "# Load the CSV with labels\n",
    "file_path = 'sentiment_labels_comparison.csv'\n",
    "data = pd.read_csv(file_path)\n",
    "\n",
    "# Drop rows with missing values in the sentiment label columns\n",
    "data_cleaned = data.dropna(subset=['vader_label', 'textblob_label'])\n",
    "\n",
    "# Calculate Cohen's Kappa\n",
    "kappa = cohen_kappa_score(data_cleaned['vader_label'], data_cleaned['textblob_label'])\n",
    "\n",
    "print(f\"Cohen's Kappa between VADER and TextBlob labels: {kappa:.3f}\")"
   ]
  },
  {
   "cell_type": "markdown",
   "id": "c9d4954c",
   "metadata": {},
   "source": [
    "## Step 2: Inter-Annotator Agreement Analysis\n",
    "\n",
    "Now we'll measure the agreement between VADER and TextBlob using **Cohen's Kappa coefficient**.\n",
    "\n",
    "### Cohen's Kappa Interpretation:\n",
    "- **κ < 0.20**: Poor agreement\n",
    "- **0.20 ≤ κ < 0.40**: Fair agreement  \n",
    "- **0.40 ≤ κ < 0.60**: Moderate agreement\n",
    "- **0.60 ≤ κ < 0.80**: Good agreement\n",
    "- **κ ≥ 0.80**: Very good agreement\n",
    "\n",
    "This metric helps us understand how consistently the two methods classify sentiments."
   ]
  },
  {
   "cell_type": "markdown",
   "id": "0ea29727",
   "metadata": {
    "id": "rZjMsrGMo5_R"
   },
   "source": [
    "## Step 3: Ensemble Labeling Strategy\n",
    "\n",
    "We'll create consensus labels using a **majority voting approach** with the following logic:\n",
    "\n",
    "### Voting Rules:\n",
    "1. **Unanimous Positive**: Both VADER and TextBlob agree on \"positive\" → **positive**\n",
    "2. **Unanimous Negative**: Both VADER and TextBlob agree on \"negative\" → **negative**  \n",
    "3. **Disagreement**: Any other combination (including neutral) → **negative** (conservative approach)\n",
    "\n",
    "This conservative approach ensures that only clearly positive sentiments are labeled as positive, while ambiguous cases default to negative. This helps create a more reliable training dataset for subsequent machine learning models."
   ]
  },
  {
   "cell_type": "code",
   "execution_count": null,
   "id": "22747ee8",
   "metadata": {
    "id": "9cmpUm4qo5lt"
   },
   "outputs": [],
   "source": [
    "def ensemble_vote(row):\n",
    "    votes = [row['vader_label'], row['textblob_label']]\n",
    "\n",
    "    # Count votes\n",
    "    vote_counts = Counter(votes)\n",
    "\n",
    "    vote_counts = Counter(votes)\n",
    "\n",
    "    if vote_counts['positive'] == 2:\n",
    "        return 'positive'\n",
    "    elif vote_counts['negative'] == 2:\n",
    "        return 'negative'\n",
    "    else:\n",
    "        return 'negative'"
   ]
  },
  {
   "cell_type": "code",
   "execution_count": null,
   "id": "e021d8e9",
   "metadata": {
    "id": "fRglK1lFpR8P"
   },
   "outputs": [],
   "source": [
    "import pandas as pd\n",
    "from collections import Counter\n",
    "\n",
    "df = pd.read_csv(\"/content/GenAI in education Dataset - sentiment_labels_comparison.csv\")\n",
    "\n",
    "# Apply ensemble voting\n",
    "df['ensemble_label'] = df.apply(ensemble_vote, axis=1)\n",
    "df.to_csv(\"ensemble_sentiment_labels.csv\", index=False)"
   ]
  },
  {
   "cell_type": "markdown",
   "id": "50de2d16",
   "metadata": {},
   "source": [
    "## Step 4: Apply Ensemble Voting and Save Results\n",
    "\n",
    "Finally, we'll apply the ensemble voting function to create the final consensus labels and save the annotated dataset for use in downstream machine learning tasks.\n",
    "\n",
    "### Output Dataset\n",
    "- **File**: `ensemble_sentiment_labels.csv`\n",
    "- **New Column**: `ensemble_label` (positive/negative)\n",
    "- **Purpose**: Training data for supervised sentiment analysis models\n",
    "\n",
    "This ensemble-labeled dataset will serve as the ground truth for training more sophisticated sentiment analysis models like BERT or DistilBERT."
   ]
  },
  {
   "cell_type": "markdown",
   "id": "e4b84243",
   "metadata": {
    "id": "tA1NsUAh03Qf"
   },
   "source": [
    "# DistilBERT Sentiment Analysis Classifier\n",
    "\n",
    "This implements a transformer-based sentiment analysis model using DistilBERT on ensemble-labeled data from VADER and TextBlob annotations.\n",
    "\n",
    "## Overview\n",
    "- **Model**: DistilBERT (lightweight BERT variant)\n",
    "- **Task**: Binary sentiment classification (positive/negative)\n",
    "- **Data**: Ensemble-labeled GenAI education dataset\n",
    "- **Approach**: Fine-tuning with early stopping and class balancing\n",
    "\n",
    "## Pipeline\n",
    "1. **Data Loading & Preprocessing**: Load ensemble labels and encode targets\n",
    "2. **Tokenization**: Prepare text for transformer input\n",
    "3. **Data Splitting**: 80-20 train/val split + 10% unseen test\n",
    "4. **Model Training**: Fine-tune DistilBERT with early stopping\n",
    "5. **Evaluation**: Comprehensive metrics on validation and unseen data"
   ]
  },
  {
   "cell_type": "code",
   "execution_count": null,
   "id": "c0e1de7e",
   "metadata": {
    "colab": {
     "base_uri": "https://localhost:8080/"
    },
    "id": "B4xlimU3TK4D",
    "outputId": "0238fcdf-2a48-4119-d42c-0971289dd431"
   },
   "outputs": [
    {
     "name": "stdout",
     "output_type": "stream",
     "text": [
      "Class distribution:\n",
      " label\n",
      "1    549\n",
      "0    285\n",
      "Name: count, dtype: int64\n"
     ]
    }
   ],
   "source": [
    "import pandas as pd\n",
    "from sklearn.model_selection import StratifiedKFold\n",
    "from sklearn.preprocessing import LabelEncoder\n",
    "import numpy as np\n",
    "import torch\n",
    "\n",
    "# Load dataset\n",
    "file_path = \"/content/ensemble_sentiment_labels (1).csv\"\n",
    "df = pd.read_csv(file_path)\n",
    "\n",
    "# Filter valid rows\n",
    "df = df[df[\"ensemble_label\"].notna() & df[\"text_clean\"].notna()]\n",
    "\n",
    "# Encode labels\n",
    "label_encoder = LabelEncoder()\n",
    "df[\"label\"] = label_encoder.fit_transform(df[\"ensemble_label\"])\n",
    "\n",
    "print(\"Class distribution:\\n\", df[\"label\"].value_counts())\n"
   ]
  },
  {
   "cell_type": "markdown",
   "id": "452d0b8b",
   "metadata": {},
   "source": [
    "## Step 1: Data Loading and Preprocessing\n",
    "\n",
    "Loading the ensemble-labeled dataset created from VADER and TextBlob annotations, then preparing it for machine learning:\n",
    "\n",
    "### Data Preprocessing Steps:\n",
    "1. **Load Dataset**: Import the ensemble sentiment labels CSV\n",
    "2. **Filter Valid Records**: Remove rows with missing labels or text\n",
    "3. **Label Encoding**: Convert text labels ('positive'/'negative') to numeric (0/1)\n",
    "4. **Class Distribution**: Check for class imbalance\n",
    "\n",
    "The ensemble labels provide more reliable ground truth than individual annotator predictions."
   ]
  },
  {
   "cell_type": "markdown",
   "id": "373f1e51",
   "metadata": {
    "id": "trW1Uq9O02h4"
   },
   "source": [
    "## Step 2: Tokenization Setup\n",
    "\n",
    "Preparing text data for DistilBERT input using the appropriate tokenizer:\n",
    "\n",
    "### DistilBERT Tokenizer Configuration:\n",
    "- **Model**: `distilbert-base-uncased` (case-insensitive, English)\n",
    "- **Max Length**: 128 tokens (sufficient for most text snippets)\n",
    "- **Padding**: Pad shorter sequences to max length\n",
    "- **Truncation**: Cut longer sequences to fit max length\n",
    "\n",
    "### Why DistilBERT?\n",
    "- **Efficiency**: 40% smaller than BERT, 60% faster\n",
    "- **Performance**: Retains 97% of BERT's performance\n",
    "- **Resource-friendly**: Better for training and inference"
   ]
  },
  {
   "cell_type": "code",
   "execution_count": null,
   "id": "d88d0077",
   "metadata": {
    "colab": {
     "base_uri": "https://localhost:8080/"
    },
    "id": "8MIbXqtPT9vH",
    "outputId": "07239949-0acb-4078-b4fa-21b1a2366298"
   },
   "outputs": [
    {
     "name": "stderr",
     "output_type": "stream",
     "text": [
      "/usr/local/lib/python3.12/dist-packages/huggingface_hub/utils/_auth.py:94: UserWarning: \n",
      "The secret `HF_TOKEN` does not exist in your Colab secrets.\n",
      "To authenticate with the Hugging Face Hub, create a token in your settings tab (https://huggingface.co/settings/tokens), set it as secret in your Google Colab and restart your session.\n",
      "You will be able to reuse this secret in all of your notebooks.\n",
      "Please note that authentication is recommended but still optional to access public models or datasets.\n",
      "  warnings.warn(\n"
     ]
    }
   ],
   "source": [
    "from transformers import AutoTokenizer\n",
    "from datasets import Dataset\n",
    "\n",
    "# Load DistilBERT tokenizer\n",
    "tokenizer = AutoTokenizer.from_pretrained(\"distilbert/distilbert-base-uncased\")\n",
    "\n",
    "def tokenize(batch):\n",
    "    return tokenizer(batch[\"text_clean\"], padding=\"max_length\", truncation=True, max_length=128)"
   ]
  },
  {
   "cell_type": "markdown",
   "id": "0422b12f",
   "metadata": {
    "id": "ajqAByij0138"
   },
   "source": [
    "## Step 3: Data Splitting and Class Balancing\n",
    "\n",
    "Implementing proper train/validation/test splits with stratification and addressing class imbalance:\n",
    "\n",
    "### Data Split Strategy:\n",
    "- **10% Unseen Test**: Held out for final evaluation (never seen during training)\n",
    "- **80% Training**: Used for model parameter updates\n",
    "- **20% Validation**: Used for early stopping and hyperparameter tuning\n",
    "\n",
    "### Class Balancing:\n",
    "- **Problem**: Sentiment datasets often have class imbalance\n",
    "- **Solution**: Upsample minority class to match majority class\n",
    "- **Method**: Random resampling with replacement\n",
    "- **Benefits**: Prevents model bias toward majority class\n",
    "\n",
    "### Dataset Formats:\n",
    "Converting pandas DataFrames to HuggingFace `Dataset` objects for efficient tokenization and batching."
   ]
  },
  {
   "cell_type": "code",
   "execution_count": null,
   "id": "4cd2e2cf",
   "metadata": {
    "colab": {
     "base_uri": "https://localhost:8080/",
     "height": 165,
     "referenced_widgets": [
      "ea782940ff374f71ac36be810a84d8d9",
      "a307fb91769c44deb933269d6d30e21b",
      "5933690059d449569f83cc2f64dddf49",
      "b58a40f683e64882958a4e286bfce56f",
      "b189b4c330f444f8a638592d5eed4c60",
      "fa70c2831e9942beb5879f6919cb74f1",
      "bc5b3ac0ac124a6d9a5df747280c61d5",
      "090139f86eac4a308756e8abb30ab940",
      "ea16a6bb37ed404dbefebedcd4fd84a0",
      "4c8fdb9171d145008026d34578362dec",
      "c6d1133cc21d4cebbee1a564d63d2bd6",
      "ddd66802caf449629fcc8de0a30c32b2",
      "47c3b6bc89304772b72b3bf13510a4ae",
      "d6d891ac6ece44f0a7f15b5da6904b1c",
      "191c11ab49ad4a40972f48deb192a7f0",
      "3ce0e32762a94363983928c043a41f0a",
      "4eb46852d07b402a8ece6248b8f4efce",
      "b27ea1871ece4558b6fc3431678e61ae",
      "d1c863b683eb428392bfbc9834fd9ca6",
      "16077f71a63e4b38bd3809990367637f",
      "16f76d8b77724b7490e9186373880028",
      "8a4b4057c03f4b72952977ff94cacf6f",
      "e34c91ac704147f08e53048cb3e041d8",
      "a5e367c32cbb43dd88c2564676dde811",
      "18dabf051a8a430c8c0b1b89680a820f",
      "22ddfc407b6648069b6c4b4059e53d65",
      "c376ce6beca14da3862878e4889cb0d7",
      "491a157d813148c3b9a1cabc9398ed57",
      "2dcb97bc51fa418992882ca3d15554fa",
      "f718e76d0a254f53b96863bc01948970",
      "74206e642e3b4377b0c28c4af90cd711",
      "63d02c2c04e5497f9f2cab0084aa1364",
      "0f033c7a695f477c978b3e32d69a60e6"
     ]
    },
    "id": "ybYv2DVDT-if",
    "outputId": "8d03cdae-e95c-4596-9411-ab0fae1845fe"
   },
   "outputs": [
    {
     "name": "stdout",
     "output_type": "stream",
     "text": [
      "Train size: 600\n",
      "Validation size: 150\n",
      "Unseen test size: 84\n"
     ]
    },
    {
     "data": {
      "application/vnd.jupyter.widget-view+json": {
       "model_id": "ea782940ff374f71ac36be810a84d8d9",
       "version_major": 2,
       "version_minor": 0
      },
      "text/plain": [
       "Map:   0%|          | 0/790 [00:00<?, ? examples/s]"
      ]
     },
     "metadata": {},
     "output_type": "display_data"
    },
    {
     "data": {
      "application/vnd.jupyter.widget-view+json": {
       "model_id": "ddd66802caf449629fcc8de0a30c32b2",
       "version_major": 2,
       "version_minor": 0
      },
      "text/plain": [
       "Map:   0%|          | 0/150 [00:00<?, ? examples/s]"
      ]
     },
     "metadata": {},
     "output_type": "display_data"
    },
    {
     "data": {
      "application/vnd.jupyter.widget-view+json": {
       "model_id": "e34c91ac704147f08e53048cb3e041d8",
       "version_major": 2,
       "version_minor": 0
      },
      "text/plain": [
       "Map:   0%|          | 0/84 [00:00<?, ? examples/s]"
      ]
     },
     "metadata": {},
     "output_type": "display_data"
    }
   ],
   "source": [
    "from sklearn.model_selection import train_test_split\n",
    "from sklearn.utils import resample\n",
    "from datasets import Dataset\n",
    "\n",
    "train_val_df, unseen_df = train_test_split(\n",
    "    df,\n",
    "    test_size=0.1,\n",
    "    stratify=df[\"label\"],\n",
    "    random_state=42\n",
    ")\n",
    "\n",
    "train_df, val_df = train_test_split(\n",
    "    train_val_df,\n",
    "    test_size=0.2,   # 20% of 90% = 18% overall\n",
    "    stratify=train_val_df[\"label\"],\n",
    "    random_state=42\n",
    ")\n",
    "\n",
    "print(\"Train size:\", len(train_df))\n",
    "print(\"Validation size:\", len(val_df))\n",
    "print(\"Unseen test size:\", len(unseen_df))\n",
    "\n",
    "train_majority = train_df[train_df.label == 1]\n",
    "train_minority = train_df[train_df.label == 0]\n",
    "\n",
    "train_minority_upsampled = resample(\n",
    "    train_minority,\n",
    "    replace=True,\n",
    "    n_samples=len(train_majority),\n",
    "    random_state=42\n",
    ")\n",
    "\n",
    "train_df_balanced = pd.concat([train_majority, train_minority_upsampled])\n",
    "\n",
    "train_dataset = Dataset.from_pandas(train_df_balanced)\n",
    "val_dataset   = Dataset.from_pandas(val_df)\n",
    "unseen_dataset = Dataset.from_pandas(unseen_df)\n",
    "\n",
    "train_dataset = train_dataset.map(tokenize, batched=True)\n",
    "val_dataset   = val_dataset.map(tokenize, batched=True)\n",
    "unseen_dataset = unseen_dataset.map(tokenize, batched=True)\n",
    "\n",
    "cols = [\"input_ids\", \"attention_mask\", \"label\"]\n",
    "train_dataset.set_format(type=\"torch\", columns=cols)\n",
    "val_dataset.set_format(type=\"torch\", columns=cols)\n",
    "unseen_dataset.set_format(type=\"torch\", columns=cols)\n"
   ]
  },
  {
   "cell_type": "markdown",
   "id": "3c15d1a7",
   "metadata": {
    "id": "DgKWqrgC01IC"
   },
   "source": [
    "## Step 4: Model Training with Early Stopping\n",
    "\n",
    "Fine-tuning DistilBERT for sentiment classification with custom early stopping logic:\n",
    "\n",
    "### Training Configuration:\n",
    "- **Learning Rate**: 3e-5 (standard for transformer fine-tuning)\n",
    "- **Batch Size**: 16 (balanced for memory and gradient quality)\n",
    "- **Weight Decay**: 0.05 (regularization to prevent overfitting)\n",
    "- **Warmup**: 10% of training steps (gradual learning rate increase)\n",
    "\n",
    "### Early Stopping Strategy:\n",
    "- **Metric**: Macro-F1 score (handles class imbalance better than accuracy)\n",
    "- **Patience**: 1 epoch (stop if no improvement)\n",
    "- **Max Epochs**: 3 (prevent excessive training)\n",
    "- **Model Saving**: Save best model based on validation performance\n",
    "\n",
    "### Why Macro-F1?\n",
    "- Averages F1 scores across classes equally\n",
    "- More robust to class imbalance than accuracy\n",
    "- Better for binary classification evaluation"
   ]
  },
  {
   "cell_type": "code",
   "execution_count": null,
   "id": "f4c07d7c",
   "metadata": {
    "colab": {
     "base_uri": "https://localhost:8080/",
     "height": 826,
     "referenced_widgets": [
      "c2925d065c3548e191c9da27ae63b860",
      "8380f00fb6e044c59477e87f03a1f492",
      "90576790dc674f92bb10c56627b3935c",
      "e3bd0a6ff38b4fee8ee9b51e2d1b4318",
      "7ed0331486ea436b9f6f6b3d15140243",
      "aeef5b68a78c45a498350012477d4c2a",
      "b52c890385654482b768cdeea6c2b55d",
      "88400fb019c646958f58bb7c166ab885",
      "53b5e5231d6b4268a6c8371df5b977fa",
      "6ccec6305efd47539d8ea0ecf18adaff",
      "44598883af404739b4ca3741a2ad2a95",
      "bb78c7a9142346f3a87a4573b0ccdd16",
      "6c903d83f5c14158b7fa716268148253",
      "4bd1fe06322d4a7f91414f8b51358c47",
      "b0f2bcccb0da4affa37513130c2fbdda",
      "571657d0b81144a4863a07176e9b8069",
      "1d570c7b51fc47ac941ffd588e2073f4",
      "b02fe1a628874518bd6237d8e8b07501",
      "980e43f1769c4f8d9252aa58c3dd5dc6",
      "e3ad197f555340489248fee4153f6f65",
      "320173c7329647eb972e8059071a2ee4",
      "1d1516b4a02a4acd9226563600b493dd"
     ]
    },
    "id": "8oTELvuHVFM-",
    "outputId": "c02f1615-5b21-4921-e082-f74b7d80dfa9"
   },
   "outputs": [
    {
     "name": "stdout",
     "output_type": "stream",
     "text": [
      "\n",
      "🚀 Training DistilBERT\n"
     ]
    },
    {
     "data": {
      "application/vnd.jupyter.widget-view+json": {
       "model_id": "c2925d065c3548e191c9da27ae63b860",
       "version_major": 2,
       "version_minor": 0
      },
      "text/plain": [
       "config.json:   0%|          | 0.00/483 [00:00<?, ?B/s]"
      ]
     },
     "metadata": {},
     "output_type": "display_data"
    },
    {
     "data": {
      "application/vnd.jupyter.widget-view+json": {
       "model_id": "bb78c7a9142346f3a87a4573b0ccdd16",
       "version_major": 2,
       "version_minor": 0
      },
      "text/plain": [
       "model.safetensors:   0%|          | 0.00/268M [00:00<?, ?B/s]"
      ]
     },
     "metadata": {},
     "output_type": "display_data"
    },
    {
     "name": "stderr",
     "output_type": "stream",
     "text": [
      "Some weights of DistilBertForSequenceClassification were not initialized from the model checkpoint at distilbert-base-uncased and are newly initialized: ['classifier.bias', 'classifier.weight', 'pre_classifier.bias', 'pre_classifier.weight']\n",
      "You should probably TRAIN this model on a down-stream task to be able to use it for predictions and inference.\n",
      "/tmp/ipython-input-381831366.py:33: FutureWarning: `tokenizer` is deprecated and will be removed in version 5.0.0 for `Trainer.__init__`. Use `processing_class` instead.\n",
      "  trainer = Trainer(\n"
     ]
    },
    {
     "name": "stdout",
     "output_type": "stream",
     "text": [
      "\n",
      "Epoch 1/3\n"
     ]
    },
    {
     "name": "stderr",
     "output_type": "stream",
     "text": [
      "/usr/local/lib/python3.12/dist-packages/torch/utils/data/dataloader.py:666: UserWarning: 'pin_memory' argument is set as true but no accelerator is found, then device pinned memory won't be used.\n",
      "  warnings.warn(warn_msg)\n"
     ]
    },
    {
     "data": {
      "text/html": [
       "\n",
       "    <div>\n",
       "      \n",
       "      <progress value='50' max='50' style='width:300px; height:20px; vertical-align: middle;'></progress>\n",
       "      [50/50 08:04, Epoch 1/1]\n",
       "    </div>\n",
       "    <table border=\"1\" class=\"dataframe\">\n",
       "  <thead>\n",
       " <tr style=\"text-align: left;\">\n",
       "      <th>Step</th>\n",
       "      <th>Training Loss</th>\n",
       "    </tr>\n",
       "  </thead>\n",
       "  <tbody>\n",
       "  </tbody>\n",
       "</table><p>"
      ],
      "text/plain": [
       "<IPython.core.display.HTML object>"
      ]
     },
     "metadata": {},
     "output_type": "display_data"
    },
    {
     "data": {
      "text/html": [
       "\n",
       "    <div>\n",
       "      \n",
       "      <progress value='20' max='10' style='width:300px; height:20px; vertical-align: middle;'></progress>\n",
       "      [10/10 08:58]\n",
       "    </div>\n",
       "    "
      ],
      "text/plain": [
       "<IPython.core.display.HTML object>"
      ]
     },
     "metadata": {},
     "output_type": "display_data"
    },
    {
     "name": "stdout",
     "output_type": "stream",
     "text": [
      "Validation Macro-F1: 0.6535\n",
      "\n",
      "Epoch 2/3\n"
     ]
    },
    {
     "name": "stderr",
     "output_type": "stream",
     "text": [
      "/usr/local/lib/python3.12/dist-packages/torch/utils/data/dataloader.py:666: UserWarning: 'pin_memory' argument is set as true but no accelerator is found, then device pinned memory won't be used.\n",
      "  warnings.warn(warn_msg)\n"
     ]
    },
    {
     "data": {
      "text/html": [
       "\n",
       "    <div>\n",
       "      \n",
       "      <progress value='50' max='50' style='width:300px; height:20px; vertical-align: middle;'></progress>\n",
       "      [50/50 07:50, Epoch 1/1]\n",
       "    </div>\n",
       "    <table border=\"1\" class=\"dataframe\">\n",
       "  <thead>\n",
       " <tr style=\"text-align: left;\">\n",
       "      <th>Step</th>\n",
       "      <th>Training Loss</th>\n",
       "    </tr>\n",
       "  </thead>\n",
       "  <tbody>\n",
       "  </tbody>\n",
       "</table><p>"
      ],
      "text/plain": [
       "<IPython.core.display.HTML object>"
      ]
     },
     "metadata": {},
     "output_type": "display_data"
    },
    {
     "name": "stdout",
     "output_type": "stream",
     "text": [
      "Validation Macro-F1: 0.7429\n",
      "\n",
      "Epoch 3/3\n"
     ]
    },
    {
     "name": "stderr",
     "output_type": "stream",
     "text": [
      "/usr/local/lib/python3.12/dist-packages/torch/utils/data/dataloader.py:666: UserWarning: 'pin_memory' argument is set as true but no accelerator is found, then device pinned memory won't be used.\n",
      "  warnings.warn(warn_msg)\n"
     ]
    },
    {
     "data": {
      "text/html": [
       "\n",
       "    <div>\n",
       "      \n",
       "      <progress value='40' max='50' style='width:300px; height:20px; vertical-align: middle;'></progress>\n",
       "      [40/50 06:10 < 01:37, 0.10 it/s, Epoch 0.78/1]\n",
       "    </div>\n",
       "    <table border=\"1\" class=\"dataframe\">\n",
       "  <thead>\n",
       " <tr style=\"text-align: left;\">\n",
       "      <th>Step</th>\n",
       "      <th>Training Loss</th>\n",
       "    </tr>\n",
       "  </thead>\n",
       "  <tbody>\n",
       "  </tbody>\n",
       "</table><p>"
      ],
      "text/plain": [
       "<IPython.core.display.HTML object>"
      ]
     },
     "metadata": {},
     "output_type": "display_data"
    },
    {
     "data": {
      "text/html": [
       "\n",
       "    <div>\n",
       "      \n",
       "      <progress value='50' max='50' style='width:300px; height:20px; vertical-align: middle;'></progress>\n",
       "      [50/50 07:49, Epoch 1/1]\n",
       "    </div>\n",
       "    <table border=\"1\" class=\"dataframe\">\n",
       "  <thead>\n",
       " <tr style=\"text-align: left;\">\n",
       "      <th>Step</th>\n",
       "      <th>Training Loss</th>\n",
       "    </tr>\n",
       "  </thead>\n",
       "  <tbody>\n",
       "  </tbody>\n",
       "</table><p>"
      ],
      "text/plain": [
       "<IPython.core.display.HTML object>"
      ]
     },
     "metadata": {},
     "output_type": "display_data"
    },
    {
     "data": {
      "text/html": [
       "\n",
       "    <div>\n",
       "      \n",
       "      <progress value='36' max='10' style='width:300px; height:20px; vertical-align: middle;'></progress>\n",
       "      [10/10 17:53]\n",
       "    </div>\n",
       "    "
      ],
      "text/plain": [
       "<IPython.core.display.HTML object>"
      ]
     },
     "metadata": {},
     "output_type": "display_data"
    },
    {
     "name": "stdout",
     "output_type": "stream",
     "text": [
      "Validation Macro-F1: 0.7555\n",
      "\n",
      "📊 Final Evaluation on Unseen Test Set\n"
     ]
    },
    {
     "name": "stderr",
     "output_type": "stream",
     "text": [
      "/usr/local/lib/python3.12/dist-packages/torch/utils/data/dataloader.py:666: UserWarning: 'pin_memory' argument is set as true but no accelerator is found, then device pinned memory won't be used.\n",
      "  warnings.warn(warn_msg)\n"
     ]
    },
    {
     "name": "stdout",
     "output_type": "stream",
     "text": [
      "{'eval_loss': 0.5436903834342957, 'eval_accuracy': 0.7976190476190477, 'eval_macro_f1': 0.7812164853684694, 'eval_runtime': 14.5577, 'eval_samples_per_second': 5.77, 'eval_steps_per_second': 0.412, 'epoch': 1.0}\n"
     ]
    }
   ],
   "source": [
    "from transformers import AutoModelForSequenceClassification, Trainer, TrainingArguments\n",
    "from sklearn.metrics import accuracy_score, f1_score\n",
    "import numpy as np\n",
    "\n",
    "def compute_metrics(pred):\n",
    "    labels = pred.label_ids\n",
    "    preds = np.argmax(pred.predictions, axis=-1)\n",
    "    acc = accuracy_score(labels, preds)\n",
    "    f1 = f1_score(labels, preds, average=\"macro\")\n",
    "    return {\"accuracy\": acc, \"macro_f1\": f1}\n",
    "\n",
    "print(\"\\n Training DistilBERT\")\n",
    "\n",
    "model = AutoModelForSequenceClassification.from_pretrained(\n",
    "    \"distilbert-base-uncased\",\n",
    "    num_labels=len(label_encoder.classes_)\n",
    ")\n",
    "\n",
    "training_args = TrainingArguments(\n",
    "    output_dir=\"./results\",\n",
    "    save_strategy=\"no\",\n",
    "    per_device_train_batch_size=16,\n",
    "    per_device_eval_batch_size=16,\n",
    "    num_train_epochs=1,\n",
    "    learning_rate=3e-5,\n",
    "    weight_decay=0.05,\n",
    "    warmup_ratio=0.1,\n",
    "    logging_dir=\"./logs\",\n",
    "    logging_strategy=\"no\",\n",
    "    report_to=[]\n",
    ")\n",
    "\n",
    "trainer = Trainer(\n",
    "    model=model,\n",
    "    args=training_args,\n",
    "    train_dataset=train_dataset,\n",
    "    eval_dataset=val_dataset,\n",
    "    tokenizer=tokenizer,\n",
    "    compute_metrics=compute_metrics\n",
    ")\n",
    "\n",
    "best_f1 = 0\n",
    "patience = 1\n",
    "wait = 0\n",
    "max_epochs = 3\n",
    "\n",
    "for epoch in range(max_epochs):\n",
    "    print(f\"\\nEpoch {epoch + 1}/{max_epochs}\")\n",
    "    trainer.train()\n",
    "\n",
    "    metrics = trainer.evaluate(val_dataset)\n",
    "    current_f1 = metrics[\"eval_macro_f1\"]\n",
    "    print(f\"Validation Macro-F1: {current_f1:.4f}\")\n",
    "\n",
    "    if current_f1 > best_f1:\n",
    "        best_f1 = current_f1\n",
    "        wait = 0\n",
    "        trainer.save_model(\"./best_model\")\n",
    "    else:\n",
    "        wait += 1\n",
    "        if wait >= patience:\n",
    "            print(\"Early stopping triggered.\")\n",
    "            break\n"
   ]
  },
  {
   "cell_type": "markdown",
   "id": "04057ec5",
   "metadata": {
    "id": "85iJguBw00Ny"
   },
   "source": [
    "## Step 5: Model Evaluation and Analysis\n",
    "\n",
    "Comprehensive evaluation on both validation and unseen test datasets:\n",
    "\n",
    "### Evaluation Metrics:\n",
    "- **Accuracy**: Overall correctness percentage\n",
    "- **Macro-F1**: Average F1 score across classes (handles imbalance)\n",
    "- **Classification Report**: Precision, recall, F1 per class\n",
    "- **Confusion Matrix**: Visual representation of prediction patterns\n",
    "\n",
    "### Two-Stage Evaluation:\n",
    "1. **Validation Data**: Used during training for early stopping\n",
    "2. **Unseen Test Data**: Final performance assessment (never seen during training)\n",
    "\n",
    "### Why Unseen Test Data?\n",
    "- **Unbiased Evaluation**: No data leakage from training process\n",
    "- **Generalization**: True measure of model's real-world performance\n",
    "- **Academic Standard**: Follows best practices for ML evaluation\n",
    "\n",
    "The confusion matrices will help identify if the model has any systematic biases in predictions."
   ]
  },
  {
   "cell_type": "code",
   "execution_count": null,
   "id": "86fc53a8",
   "metadata": {
    "colab": {
     "base_uri": "https://localhost:8080/",
     "height": 1000
    },
    "id": "sVveKN79XKu3",
    "outputId": "c8f1acc7-d19a-498a-87bf-684e74aa7261"
   },
   "outputs": [
    {
     "name": "stdout",
     "output_type": "stream",
     "text": [
      "\n",
      "Evaluation on Validation Data:\n"
     ]
    },
    {
     "name": "stderr",
     "output_type": "stream",
     "text": [
      "/usr/local/lib/python3.12/dist-packages/torch/utils/data/dataloader.py:666: UserWarning: 'pin_memory' argument is set as true but no accelerator is found, then device pinned memory won't be used.\n",
      "  warnings.warn(warn_msg)\n"
     ]
    },
    {
     "data": {
      "text/html": [],
      "text/plain": [
       "<IPython.core.display.HTML object>"
      ]
     },
     "metadata": {},
     "output_type": "display_data"
    },
    {
     "name": "stdout",
     "output_type": "stream",
     "text": [
      "Validation Metrics: {'eval_loss': 0.5433756709098816, 'eval_accuracy': 0.7933333333333333, 'eval_macro_f1': 0.7555076502444924, 'eval_runtime': 28.7869, 'eval_samples_per_second': 5.211, 'eval_steps_per_second': 0.347, 'epoch': 1.0}\n"
     ]
    },
    {
     "name": "stderr",
     "output_type": "stream",
     "text": [
      "/usr/local/lib/python3.12/dist-packages/torch/utils/data/dataloader.py:666: UserWarning: 'pin_memory' argument is set as true but no accelerator is found, then device pinned memory won't be used.\n",
      "  warnings.warn(warn_msg)\n"
     ]
    },
    {
     "name": "stdout",
     "output_type": "stream",
     "text": [
      "\n",
      "Classification Report (Validation Data):\n",
      "              precision    recall  f1-score   support\n",
      "\n",
      "    negative       0.75      0.59      0.66        51\n",
      "    positive       0.81      0.90      0.85        99\n",
      "\n",
      "    accuracy                           0.79       150\n",
      "   macro avg       0.78      0.74      0.76       150\n",
      "weighted avg       0.79      0.79      0.79       150\n",
      "\n"
     ]
    },
    {
     "data": {
      "image/png": "[encoded data removed]",
      "text/plain": [
       "<Figure size 600x500 with 2 Axes>"
      ]
     },
     "metadata": {},
     "output_type": "display_data"
    },
    {
     "name": "stdout",
     "output_type": "stream",
     "text": [
      "\n",
      "Evaluation on Unseen Test Data:\n"
     ]
    },
    {
     "name": "stderr",
     "output_type": "stream",
     "text": [
      "/usr/local/lib/python3.12/dist-packages/torch/utils/data/dataloader.py:666: UserWarning: 'pin_memory' argument is set as true but no accelerator is found, then device pinned memory won't be used.\n",
      "  warnings.warn(warn_msg)\n"
     ]
    },
    {
     "data": {
      "text/html": [],
      "text/plain": [
       "<IPython.core.display.HTML object>"
      ]
     },
     "metadata": {},
     "output_type": "display_data"
    },
    {
     "name": "stdout",
     "output_type": "stream",
     "text": [
      "Unseen Test Metrics: {'eval_loss': 0.5436903834342957, 'eval_accuracy': 0.7976190476190477, 'eval_macro_f1': 0.7812164853684694, 'eval_runtime': 15.2666, 'eval_samples_per_second': 5.502, 'eval_steps_per_second': 0.393, 'epoch': 1.0}\n"
     ]
    },
    {
     "name": "stderr",
     "output_type": "stream",
     "text": [
      "/usr/local/lib/python3.12/dist-packages/torch/utils/data/dataloader.py:666: UserWarning: 'pin_memory' argument is set as true but no accelerator is found, then device pinned memory won't be used.\n",
      "  warnings.warn(warn_msg)\n"
     ]
    },
    {
     "name": "stdout",
     "output_type": "stream",
     "text": [
      "\n",
      "Classification Report (Unseen Test Data):\n",
      "              precision    recall  f1-score   support\n",
      "\n",
      "    negative       0.69      0.76      0.72        29\n",
      "    positive       0.87      0.82      0.84        55\n",
      "\n",
      "    accuracy                           0.80        84\n",
      "   macro avg       0.78      0.79      0.78        84\n",
      "weighted avg       0.80      0.80      0.80        84\n",
      "\n"
     ]
    },
    {
     "data": {
      "image/png": "[encoded data removed]",
      "text/plain": [
       "<Figure size 600x500 with 2 Axes>"
      ]
     },
     "metadata": {},
     "output_type": "display_data"
    }
   ],
   "source": [
    "from sklearn.metrics import classification_report, confusion_matrix\n",
    "import matplotlib.pyplot as plt\n",
    "import seaborn as sns\n",
    "import numpy as np\n",
    "\n",
    "# --- Validation Evaluation ---\n",
    "print(\"\\nEvaluation on Validation Data:\")\n",
    "val_metrics = trainer.evaluate(val_dataset)\n",
    "print(\"Validation Metrics:\", val_metrics)\n",
    "\n",
    "preds_val = trainer.predict(val_dataset)\n",
    "y_true_val = preds_val.label_ids\n",
    "y_pred_val = np.argmax(preds_val.predictions, axis=-1)\n",
    "\n",
    "print(\"\\nClassification Report (Validation Data):\")\n",
    "print(classification_report(y_true_val, y_pred_val, target_names=label_encoder.classes_))\n",
    "\n",
    "cm_val = confusion_matrix(y_true_val, y_pred_val)\n",
    "plt.figure(figsize=(6, 5))\n",
    "sns.heatmap(cm_val, annot=True, fmt=\"d\", cmap=\"Blues\",\n",
    "            xticklabels=label_encoder.classes_, yticklabels=label_encoder.classes_)\n",
    "plt.xlabel(\"Predicted\")\n",
    "plt.ylabel(\"True\")\n",
    "plt.title(\"Confusion Matrix - Validation Data\")\n",
    "plt.tight_layout()\n",
    "plt.show()\n",
    "\n",
    "# --- Unseen Test Evaluation ---\n",
    "print(\"\\nEvaluation on Unseen Test Data:\")\n",
    "unseen_metrics = trainer.evaluate(unseen_dataset)\n",
    "print(\"Unseen Test Metrics:\", unseen_metrics)\n",
    "\n",
    "preds_unseen = trainer.predict(unseen_dataset)\n",
    "y_true_unseen = preds_unseen.label_ids\n",
    "y_pred_unseen = np.argmax(preds_unseen.predictions, axis=-1)\n",
    "\n",
    "print(\"\\nClassification Report (Unseen Test Data):\")\n",
    "print(classification_report(y_true_unseen, y_pred_unseen, target_names=label_encoder.classes_))\n",
    "\n",
    "cm_unseen = confusion_matrix(y_true_unseen, y_pred_unseen)\n",
    "plt.figure(figsize=(6, 5))\n",
    "sns.heatmap(cm_unseen, annot=True, fmt=\"d\", cmap=\"Oranges\",\n",
    "            xticklabels=label_encoder.classes_, yticklabels=label_encoder.classes_)\n",
    "plt.xlabel(\"Predicted\")\n",
    "plt.ylabel(\"True\")\n",
    "plt.title(\"Confusion Matrix - Unseen Test Data\")\n",
    "plt.tight_layout()\n",
    "plt.show()\n"
   ]
  }
 ],
 "metadata": {
  "accelerator": "GPU",
  "colab": {
   "gpuType": "T4",
   "provenance": []
  },
  "kernelspec": {
   "display_name": "Python 3",
   "language": "python",
   "name": "python3"
  },
  "language_info": {
   "codemirror_mode": {
    "name": "ipython",
    "version": 3
   },
   "file_extension": ".py",
   "mimetype": "text/x-python",
   "name": "python",
   "nbconvert_exporter": "python",
   "pygments_lexer": "ipython3",
   "version": "3.13.3"
  },
  "widgets": {
   "application/vnd.jupyter.widget-state+json": {
    "0784821811e446db8f78ba29af606aba": {
     "model_module": "@jupyter-widgets/base",
     "model_module_version": "1.2.0",
     "model_name": "LayoutModel",
     "state": {
      "_model_module": "@jupyter-widgets/base",
      "_model_module_version": "1.2.0",
      "_model_name": "LayoutModel",
      "_view_count": null,
      "_view_module": "@jupyter-widgets/base",
      "_view_module_version": "1.2.0",
      "_view_name": "LayoutView",
      "align_content": null,
      "align_items": null,
      "align_self": null,
      "border": null,
      "bottom": null,
      "display": null,
      "flex": null,
      "flex_flow": null,
      "grid_area": null,
      "grid_auto_columns": null,
      "grid_auto_flow": null,
      "grid_auto_rows": null,
      "grid_column": null,
      "grid_gap": null,
      "grid_row": null,
      "grid_template_areas": null,
      "grid_template_columns": null,
      "grid_template_rows": null,
      "height": null,
      "justify_content": null,
      "justify_items": null,
      "left": null,
      "margin": null,
      "max_height": null,
      "max_width": null,
      "min_height": null,
      "min_width": null,
      "object_fit": null,
      "object_position": null,
      "order": null,
      "overflow": null,
      "overflow_x": null,
      "overflow_y": null,
      "padding": null,
      "right": null,
      "top": null,
      "visibility": null,
      "width": null
     }
    },
    "14b806c17f2e484a8bdec67755807a07": {
     "model_module": "@jupyter-widgets/base",
     "model_module_version": "1.2.0",
     "model_name": "LayoutModel",
     "state": {
      "_model_module": "@jupyter-widgets/base",
      "_model_module_version": "1.2.0",
      "_model_name": "LayoutModel",
      "_view_count": null,
      "_view_module": "@jupyter-widgets/base",
      "_view_module_version": "1.2.0",
      "_view_name": "LayoutView",
      "align_content": null,
      "align_items": null,
      "align_self": null,
      "border": null,
      "bottom": null,
      "display": null,
      "flex": null,
      "flex_flow": null,
      "grid_area": null,
      "grid_auto_columns": null,
      "grid_auto_flow": null,
      "grid_auto_rows": null,
      "grid_column": null,
      "grid_gap": null,
      "grid_row": null,
      "grid_template_areas": null,
      "grid_template_columns": null,
      "grid_template_rows": null,
      "height": null,
      "justify_content": null,
      "justify_items": null,
      "left": null,
      "margin": null,
      "max_height": null,
      "max_width": null,
      "min_height": null,
      "min_width": null,
      "object_fit": null,
      "object_position": null,
      "order": null,
      "overflow": null,
      "overflow_x": null,
      "overflow_y": null,
      "padding": null,
      "right": null,
      "top": null,
      "visibility": null,
      "width": null
     }
    },
    "59c2b9113ecf48f0ace3fe9d0656e2be": {
     "model_module": "@jupyter-widgets/controls",
     "model_module_version": "1.5.0",
     "model_name": "DescriptionStyleModel",
     "state": {
      "_model_module": "@jupyter-widgets/controls",
      "_model_module_version": "1.5.0",
      "_model_name": "DescriptionStyleModel",
      "_view_count": null,
      "_view_module": "@jupyter-widgets/base",
      "_view_module_version": "1.2.0",
      "_view_name": "StyleView",
      "description_width": ""
     }
    },
    "5d063f809b5a468e903892e8e9c1ff76": {
     "model_module": "@jupyter-widgets/controls",
     "model_module_version": "1.5.0",
     "model_name": "DescriptionStyleModel",
     "state": {
      "_model_module": "@jupyter-widgets/controls",
      "_model_module_version": "1.5.0",
      "_model_name": "DescriptionStyleModel",
      "_view_count": null,
      "_view_module": "@jupyter-widgets/base",
      "_view_module_version": "1.2.0",
      "_view_name": "StyleView",
      "description_width": ""
     }
    },
    "7268debefb8f422fac0c93c8f3900ca8": {
     "model_module": "@jupyter-widgets/controls",
     "model_module_version": "1.5.0",
     "model_name": "HTMLModel",
     "state": {
      "_dom_classes": [],
      "_model_module": "@jupyter-widgets/controls",
      "_model_module_version": "1.5.0",
      "_model_name": "HTMLModel",
      "_view_count": null,
      "_view_module": "@jupyter-widgets/controls",
      "_view_module_version": "1.5.0",
      "_view_name": "HTMLView",
      "description": "",
      "description_tooltip": null,
      "layout": "IPY_MODEL_c18096f59c7246b8a169b21d3c329a86",
      "placeholder": "​",
      "style": "IPY_MODEL_b90c24c05aac49df908a696693173eee",
      "value": "Batches: 100%"
     }
    },
    "8b1d040e138645bda36e532e993bee22": {
     "model_module": "@jupyter-widgets/controls",
     "model_module_version": "1.5.0",
     "model_name": "FloatProgressModel",
     "state": {
      "_dom_classes": [],
      "_model_module": "@jupyter-widgets/controls",
      "_model_module_version": "1.5.0",
      "_model_name": "FloatProgressModel",
      "_view_count": null,
      "_view_module": "@jupyter-widgets/controls",
      "_view_module_version": "1.5.0",
      "_view_name": "ProgressView",
      "bar_style": "success",
      "description": "",
      "description_tooltip": null,
      "layout": "IPY_MODEL_0784821811e446db8f78ba29af606aba",
      "max": 14,
      "min": 0,
      "orientation": "horizontal",
      "style": "IPY_MODEL_a76eec819ca64002bbd0ffd61b3e139a",
      "value": 14
     }
    },
    "8d2f0a2bdbfd4a07bee2314f5d7bec60": {
     "model_module": "@jupyter-widgets/controls",
     "model_module_version": "1.5.0",
     "model_name": "HBoxModel",
     "state": {
      "_dom_classes": [],
      "_model_module": "@jupyter-widgets/controls",
      "_model_module_version": "1.5.0",
      "_model_name": "HBoxModel",
      "_view_count": null,
      "_view_module": "@jupyter-widgets/controls",
      "_view_module_version": "1.5.0",
      "_view_name": "HBoxView",
      "box_style": "",
      "children": [
       "IPY_MODEL_ef39cf2c5e3b433699bd2c53fbc479d5",
       "IPY_MODEL_8b1d040e138645bda36e532e993bee22",
       "IPY_MODEL_94ed982c90fc4484b03a25974e846420"
      ],
      "layout": "IPY_MODEL_e6a11680e1984ef59946a5ade96878bc"
     }
    },
    "94bf755b6e224afb9b01b528e2096a26": {
     "model_module": "@jupyter-widgets/base",
     "model_module_version": "1.2.0",
     "model_name": "LayoutModel",
     "state": {
      "_model_module": "@jupyter-widgets/base",
      "_model_module_version": "1.2.0",
      "_model_name": "LayoutModel",
      "_view_count": null,
      "_view_module": "@jupyter-widgets/base",
      "_view_module_version": "1.2.0",
      "_view_name": "LayoutView",
      "align_content": null,
      "align_items": null,
      "align_self": null,
      "border": null,
      "bottom": null,
      "display": null,
      "flex": null,
      "flex_flow": null,
      "grid_area": null,
      "grid_auto_columns": null,
      "grid_auto_flow": null,
      "grid_auto_rows": null,
      "grid_column": null,
      "grid_gap": null,
      "grid_row": null,
      "grid_template_areas": null,
      "grid_template_columns": null,
      "grid_template_rows": null,
      "height": null,
      "justify_content": null,
      "justify_items": null,
      "left": null,
      "margin": null,
      "max_height": null,
      "max_width": null,
      "min_height": null,
      "min_width": null,
      "object_fit": null,
      "object_position": null,
      "order": null,
      "overflow": null,
      "overflow_x": null,
      "overflow_y": null,
      "padding": null,
      "right": null,
      "top": null,
      "visibility": null,
      "width": null
     }
    },
    "94ed982c90fc4484b03a25974e846420": {
     "model_module": "@jupyter-widgets/controls",
     "model_module_version": "1.5.0",
     "model_name": "HTMLModel",
     "state": {
      "_dom_classes": [],
      "_model_module": "@jupyter-widgets/controls",
      "_model_module_version": "1.5.0",
      "_model_name": "HTMLModel",
      "_view_count": null,
      "_view_module": "@jupyter-widgets/controls",
      "_view_module_version": "1.5.0",
      "_view_name": "HTMLView",
      "description": "",
      "description_tooltip": null,
      "layout": "IPY_MODEL_de881eea62fc414f86716d969ec01bb4",
      "placeholder": "​",
      "style": "IPY_MODEL_5d063f809b5a468e903892e8e9c1ff76",
      "value": " 14/14 [00:00&lt;00:00, 20.77it/s]"
     }
    },
    "9d352a7b6dbb47cd878fdb7d8b74dfee": {
     "model_module": "@jupyter-widgets/controls",
     "model_module_version": "1.5.0",
     "model_name": "ProgressStyleModel",
     "state": {
      "_model_module": "@jupyter-widgets/controls",
      "_model_module_version": "1.5.0",
      "_model_name": "ProgressStyleModel",
      "_view_count": null,
      "_view_module": "@jupyter-widgets/base",
      "_view_module_version": "1.2.0",
      "_view_name": "StyleView",
      "bar_color": null,
      "description_width": ""
     }
    },
    "a76eec819ca64002bbd0ffd61b3e139a": {
     "model_module": "@jupyter-widgets/controls",
     "model_module_version": "1.5.0",
     "model_name": "ProgressStyleModel",
     "state": {
      "_model_module": "@jupyter-widgets/controls",
      "_model_module_version": "1.5.0",
      "_model_name": "ProgressStyleModel",
      "_view_count": null,
      "_view_module": "@jupyter-widgets/base",
      "_view_module_version": "1.2.0",
      "_view_name": "StyleView",
      "bar_color": null,
      "description_width": ""
     }
    },
    "abcf4d924f764a6e9065f254093bfab7": {
     "model_module": "@jupyter-widgets/controls",
     "model_module_version": "1.5.0",
     "model_name": "DescriptionStyleModel",
     "state": {
      "_model_module": "@jupyter-widgets/controls",
      "_model_module_version": "1.5.0",
      "_model_name": "DescriptionStyleModel",
      "_view_count": null,
      "_view_module": "@jupyter-widgets/base",
      "_view_module_version": "1.2.0",
      "_view_name": "StyleView",
      "description_width": ""
     }
    },
    "afd6a6e1b18c4dabb939b90eadef7e6f": {
     "model_module": "@jupyter-widgets/base",
     "model_module_version": "1.2.0",
     "model_name": "LayoutModel",
     "state": {
      "_model_module": "@jupyter-widgets/base",
      "_model_module_version": "1.2.0",
      "_model_name": "LayoutModel",
      "_view_count": null,
      "_view_module": "@jupyter-widgets/base",
      "_view_module_version": "1.2.0",
      "_view_name": "LayoutView",
      "align_content": null,
      "align_items": null,
      "align_self": null,
      "border": null,
      "bottom": null,
      "display": null,
      "flex": null,
      "flex_flow": null,
      "grid_area": null,
      "grid_auto_columns": null,
      "grid_auto_flow": null,
      "grid_auto_rows": null,
      "grid_column": null,
      "grid_gap": null,
      "grid_row": null,
      "grid_template_areas": null,
      "grid_template_columns": null,
      "grid_template_rows": null,
      "height": null,
      "justify_content": null,
      "justify_items": null,
      "left": null,
      "margin": null,
      "max_height": null,
      "max_width": null,
      "min_height": null,
      "min_width": null,
      "object_fit": null,
      "object_position": null,
      "order": null,
      "overflow": null,
      "overflow_x": null,
      "overflow_y": null,
      "padding": null,
      "right": null,
      "top": null,
      "visibility": null,
      "width": null
     }
    },
    "b90c24c05aac49df908a696693173eee": {
     "model_module": "@jupyter-widgets/controls",
     "model_module_version": "1.5.0",
     "model_name": "DescriptionStyleModel",
     "state": {
      "_model_module": "@jupyter-widgets/controls",
      "_model_module_version": "1.5.0",
      "_model_name": "DescriptionStyleModel",
      "_view_count": null,
      "_view_module": "@jupyter-widgets/base",
      "_view_module_version": "1.2.0",
      "_view_name": "StyleView",
      "description_width": ""
     }
    },
    "c18096f59c7246b8a169b21d3c329a86": {
     "model_module": "@jupyter-widgets/base",
     "model_module_version": "1.2.0",
     "model_name": "LayoutModel",
     "state": {
      "_model_module": "@jupyter-widgets/base",
      "_model_module_version": "1.2.0",
      "_model_name": "LayoutModel",
      "_view_count": null,
      "_view_module": "@jupyter-widgets/base",
      "_view_module_version": "1.2.0",
      "_view_name": "LayoutView",
      "align_content": null,
      "align_items": null,
      "align_self": null,
      "border": null,
      "bottom": null,
      "display": null,
      "flex": null,
      "flex_flow": null,
      "grid_area": null,
      "grid_auto_columns": null,
      "grid_auto_flow": null,
      "grid_auto_rows": null,
      "grid_column": null,
      "grid_gap": null,
      "grid_row": null,
      "grid_template_areas": null,
      "grid_template_columns": null,
      "grid_template_rows": null,
      "height": null,
      "justify_content": null,
      "justify_items": null,
      "left": null,
      "margin": null,
      "max_height": null,
      "max_width": null,
      "min_height": null,
      "min_width": null,
      "object_fit": null,
      "object_position": null,
      "order": null,
      "overflow": null,
      "overflow_x": null,
      "overflow_y": null,
      "padding": null,
      "right": null,
      "top": null,
      "visibility": null,
      "width": null
     }
    },
    "c190543e249f472dae9b84c8ee465270": {
     "model_module": "@jupyter-widgets/controls",
     "model_module_version": "1.5.0",
     "model_name": "FloatProgressModel",
     "state": {
      "_dom_classes": [],
      "_model_module": "@jupyter-widgets/controls",
      "_model_module_version": "1.5.0",
      "_model_name": "FloatProgressModel",
      "_view_count": null,
      "_view_module": "@jupyter-widgets/controls",
      "_view_module_version": "1.5.0",
      "_view_name": "ProgressView",
      "bar_style": "success",
      "description": "",
      "description_tooltip": null,
      "layout": "IPY_MODEL_14b806c17f2e484a8bdec67755807a07",
      "max": 14,
      "min": 0,
      "orientation": "horizontal",
      "style": "IPY_MODEL_9d352a7b6dbb47cd878fdb7d8b74dfee",
      "value": 14
     }
    },
    "c44e1f2f02954894909ec5da1b8c629b": {
     "model_module": "@jupyter-widgets/base",
     "model_module_version": "1.2.0",
     "model_name": "LayoutModel",
     "state": {
      "_model_module": "@jupyter-widgets/base",
      "_model_module_version": "1.2.0",
      "_model_name": "LayoutModel",
      "_view_count": null,
      "_view_module": "@jupyter-widgets/base",
      "_view_module_version": "1.2.0",
      "_view_name": "LayoutView",
      "align_content": null,
      "align_items": null,
      "align_self": null,
      "border": null,
      "bottom": null,
      "display": null,
      "flex": null,
      "flex_flow": null,
      "grid_area": null,
      "grid_auto_columns": null,
      "grid_auto_flow": null,
      "grid_auto_rows": null,
      "grid_column": null,
      "grid_gap": null,
      "grid_row": null,
      "grid_template_areas": null,
      "grid_template_columns": null,
      "grid_template_rows": null,
      "height": null,
      "justify_content": null,
      "justify_items": null,
      "left": null,
      "margin": null,
      "max_height": null,
      "max_width": null,
      "min_height": null,
      "min_width": null,
      "object_fit": null,
      "object_position": null,
      "order": null,
      "overflow": null,
      "overflow_x": null,
      "overflow_y": null,
      "padding": null,
      "right": null,
      "top": null,
      "visibility": null,
      "width": null
     }
    },
    "cebc13a23bb64f388f210a676615fc66": {
     "model_module": "@jupyter-widgets/controls",
     "model_module_version": "1.5.0",
     "model_name": "HBoxModel",
     "state": {
      "_dom_classes": [],
      "_model_module": "@jupyter-widgets/controls",
      "_model_module_version": "1.5.0",
      "_model_name": "HBoxModel",
      "_view_count": null,
      "_view_module": "@jupyter-widgets/controls",
      "_view_module_version": "1.5.0",
      "_view_name": "HBoxView",
      "box_style": "",
      "children": [
       "IPY_MODEL_7268debefb8f422fac0c93c8f3900ca8",
       "IPY_MODEL_c190543e249f472dae9b84c8ee465270",
       "IPY_MODEL_ea036d77cea44bc8a4fa31e20b416ae2"
      ],
      "layout": "IPY_MODEL_c44e1f2f02954894909ec5da1b8c629b"
     }
    },
    "de881eea62fc414f86716d969ec01bb4": {
     "model_module": "@jupyter-widgets/base",
     "model_module_version": "1.2.0",
     "model_name": "LayoutModel",
     "state": {
      "_model_module": "@jupyter-widgets/base",
      "_model_module_version": "1.2.0",
      "_model_name": "LayoutModel",
      "_view_count": null,
      "_view_module": "@jupyter-widgets/base",
      "_view_module_version": "1.2.0",
      "_view_name": "LayoutView",
      "align_content": null,
      "align_items": null,
      "align_self": null,
      "border": null,
      "bottom": null,
      "display": null,
      "flex": null,
      "flex_flow": null,
      "grid_area": null,
      "grid_auto_columns": null,
      "grid_auto_flow": null,
      "grid_auto_rows": null,
      "grid_column": null,
      "grid_gap": null,
      "grid_row": null,
      "grid_template_areas": null,
      "grid_template_columns": null,
      "grid_template_rows": null,
      "height": null,
      "justify_content": null,
      "justify_items": null,
      "left": null,
      "margin": null,
      "max_height": null,
      "max_width": null,
      "min_height": null,
      "min_width": null,
      "object_fit": null,
      "object_position": null,
      "order": null,
      "overflow": null,
      "overflow_x": null,
      "overflow_y": null,
      "padding": null,
      "right": null,
      "top": null,
      "visibility": null,
      "width": null
     }
    },
    "e6a11680e1984ef59946a5ade96878bc": {
     "model_module": "@jupyter-widgets/base",
     "model_module_version": "1.2.0",
     "model_name": "LayoutModel",
     "state": {
      "_model_module": "@jupyter-widgets/base",
      "_model_module_version": "1.2.0",
      "_model_name": "LayoutModel",
      "_view_count": null,
      "_view_module": "@jupyter-widgets/base",
      "_view_module_version": "1.2.0",
      "_view_name": "LayoutView",
      "align_content": null,
      "align_items": null,
      "align_self": null,
      "border": null,
      "bottom": null,
      "display": null,
      "flex": null,
      "flex_flow": null,
      "grid_area": null,
      "grid_auto_columns": null,
      "grid_auto_flow": null,
      "grid_auto_rows": null,
      "grid_column": null,
      "grid_gap": null,
      "grid_row": null,
      "grid_template_areas": null,
      "grid_template_columns": null,
      "grid_template_rows": null,
      "height": null,
      "justify_content": null,
      "justify_items": null,
      "left": null,
      "margin": null,
      "max_height": null,
      "max_width": null,
      "min_height": null,
      "min_width": null,
      "object_fit": null,
      "object_position": null,
      "order": null,
      "overflow": null,
      "overflow_x": null,
      "overflow_y": null,
      "padding": null,
      "right": null,
      "top": null,
      "visibility": null,
      "width": null
     }
    },
    "ea036d77cea44bc8a4fa31e20b416ae2": {
     "model_module": "@jupyter-widgets/controls",
     "model_module_version": "1.5.0",
     "model_name": "HTMLModel",
     "state": {
      "_dom_classes": [],
      "_model_module": "@jupyter-widgets/controls",
      "_model_module_version": "1.5.0",
      "_model_name": "HTMLModel",
      "_view_count": null,
      "_view_module": "@jupyter-widgets/controls",
      "_view_module_version": "1.5.0",
      "_view_name": "HTMLView",
      "description": "",
      "description_tooltip": null,
      "layout": "IPY_MODEL_94bf755b6e224afb9b01b528e2096a26",
      "placeholder": "​",
      "style": "IPY_MODEL_abcf4d924f764a6e9065f254093bfab7",
      "value": " 14/14 [00:00&lt;00:00, 20.84it/s]"
     }
    },
    "ef39cf2c5e3b433699bd2c53fbc479d5": {
     "model_module": "@jupyter-widgets/controls",
     "model_module_version": "1.5.0",
     "model_name": "HTMLModel",
     "state": {
      "_dom_classes": [],
      "_model_module": "@jupyter-widgets/controls",
      "_model_module_version": "1.5.0",
      "_model_name": "HTMLModel",
      "_view_count": null,
      "_view_module": "@jupyter-widgets/controls",
      "_view_module_version": "1.5.0",
      "_view_name": "HTMLView",
      "description": "",
      "description_tooltip": null,
      "layout": "IPY_MODEL_afd6a6e1b18c4dabb939b90eadef7e6f",
      "placeholder": "​",
      "style": "IPY_MODEL_59c2b9113ecf48f0ace3fe9d0656e2be",
      "value": "Batches: 100%"
     }
    }
   }
  }
 },
 "nbformat": 4,
 "nbformat_minor": 5
}
