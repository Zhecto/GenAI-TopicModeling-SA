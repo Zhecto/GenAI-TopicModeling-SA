{
 "cells": [
  {
   "cell_type": "markdown",
   "id": "bb1cb227",
   "metadata": {},
   "source": [
    "# GenAI in Education — Cleaning & EDA\n",
    "Notebook to explore and clean the scraped dataset, then export a cleaned CSV.\n",
    "\n",
    "**Steps included**\n",
    "1. Load RAW dataset\n",
    "2. Explore (missing values, top sources, date distribution, text length)\n",
    "3. Cleaning pipeline (normalize text, standardize dates, fill/derive source names, validate links, deduplicate)\n",
    "4. Save cleaned CSV\n"
   ]
  },
  {
   "cell_type": "code",
   "execution_count": 20,
   "id": "afcc2826",
   "metadata": {},
   "outputs": [],
   "source": [
    "import re, unicodedata\n",
    "from urllib.parse import urlparse\n",
    "import pandas as pd\n",
    "import numpy as np\n",
    "import matplotlib.pyplot as plt\n",
    "\n",
    "INPUT_PATH = \"data/raw_genai-education_2023-2025.csv\"\n",
    "OUTPUT_PATH = \"data/clean_genai-education_2023-2025.csv\"\n",
    "\n",
    "pd.set_option(\"display.max_colwidth\", 200)"
   ]
  },
  {
   "cell_type": "code",
   "execution_count": 54,
   "id": "d1be45d2",
   "metadata": {},
   "outputs": [
    {
     "name": "stdout",
     "output_type": "stream",
     "text": [
      "Rows, Columns: (463, 4)\n"
     ]
    },
    {
     "data": {
      "text/html": [
       "<div>\n",
       "<style scoped>\n",
       "    .dataframe tbody tr th:only-of-type {\n",
       "        vertical-align: middle;\n",
       "    }\n",
       "\n",
       "    .dataframe tbody tr th {\n",
       "        vertical-align: top;\n",
       "    }\n",
       "\n",
       "    .dataframe thead th {\n",
       "        text-align: right;\n",
       "    }\n",
       "</style>\n",
       "<table border=\"1\" class=\"dataframe\">\n",
       "  <thead>\n",
       "    <tr style=\"text-align: right;\">\n",
       "      <th></th>\n",
       "      <th>source_name</th>\n",
       "      <th>date</th>\n",
       "      <th>text</th>\n",
       "      <th>link</th>\n",
       "    </tr>\n",
       "  </thead>\n",
       "  <tbody>\n",
       "    <tr>\n",
       "      <th>0</th>\n",
       "      <td>Reddit</td>\n",
       "      <td>May 2025</td>\n",
       "      <td>Generative AI, most notably ChatGPT, has and is continuing to change the landscape of education. But this also comes with negative side effects, especially students relying on AI to plagirize thei...</td>\n",
       "      <td>https://www.reddit.com/r/edtech/comments/1l5b9t0/thoughts_on_usage_of_ai_in_school_coursework/</td>\n",
       "    </tr>\n",
       "    <tr>\n",
       "      <th>1</th>\n",
       "      <td>Gizmodo</td>\n",
       "      <td>2025-08-16 12:00:42+00:00</td>\n",
       "      <td>Film Schools Are Embracing AI. Should They? Generative AI has come for America's film students. Jake Panek, a 20-year-old film major, says he’s had a great time at DePaul University in Chicago, an...</td>\n",
       "      <td>https://gizmodo.com/film-schools-are-embracing-ai-should-they-2000639311</td>\n",
       "    </tr>\n",
       "    <tr>\n",
       "      <th>2</th>\n",
       "      <td>Windows Central</td>\n",
       "      <td>2025-08-19 15:11:27+00:00</td>\n",
       "      <td>Ex-Google GenAI founder says \"AI is going to be gone by the time you finish a PhD\" — higher education degrees can't keep up Jad Tarifi, founder of Google’s first generative AI team, says pursuing ...</td>\n",
       "      <td>https://www.windowscentral.com/artificial-intelligence/ex-google-genai-founder-ai-gone-by-the-time-you-finish-phd</td>\n",
       "    </tr>\n",
       "  </tbody>\n",
       "</table>\n",
       "</div>"
      ],
      "text/plain": [
       "       source_name                       date  \\\n",
       "0           Reddit                   May 2025   \n",
       "1          Gizmodo  2025-08-16 12:00:42+00:00   \n",
       "2  Windows Central  2025-08-19 15:11:27+00:00   \n",
       "\n",
       "                                                                                                                                                                                                      text  \\\n",
       "0  Generative AI, most notably ChatGPT, has and is continuing to change the landscape of education. But this also comes with negative side effects, especially students relying on AI to plagirize thei...   \n",
       "1  Film Schools Are Embracing AI. Should They? Generative AI has come for America's film students. Jake Panek, a 20-year-old film major, says he’s had a great time at DePaul University in Chicago, an...   \n",
       "2  Ex-Google GenAI founder says \"AI is going to be gone by the time you finish a PhD\" — higher education degrees can't keep up Jad Tarifi, founder of Google’s first generative AI team, says pursuing ...   \n",
       "\n",
       "                                                                                                                link  \n",
       "0                     https://www.reddit.com/r/edtech/comments/1l5b9t0/thoughts_on_usage_of_ai_in_school_coursework/  \n",
       "1                                           https://gizmodo.com/film-schools-are-embracing-ai-should-they-2000639311  \n",
       "2  https://www.windowscentral.com/artificial-intelligence/ex-google-genai-founder-ai-gone-by-the-time-you-finish-phd  "
      ]
     },
     "execution_count": 54,
     "metadata": {},
     "output_type": "execute_result"
    }
   ],
   "source": [
    "df = pd.read_csv(INPUT_PATH)\n",
    "print(\"Rows, Columns:\", df.shape)\n",
    "df.head(3)"
   ]
  },
  {
   "cell_type": "code",
   "execution_count": 22,
   "id": "048c7a60",
   "metadata": {},
   "outputs": [
    {
     "data": {
      "text/html": [
       "<div>\n",
       "<style scoped>\n",
       "    .dataframe tbody tr th:only-of-type {\n",
       "        vertical-align: middle;\n",
       "    }\n",
       "\n",
       "    .dataframe tbody tr th {\n",
       "        vertical-align: top;\n",
       "    }\n",
       "\n",
       "    .dataframe thead th {\n",
       "        text-align: right;\n",
       "    }\n",
       "</style>\n",
       "<table border=\"1\" class=\"dataframe\">\n",
       "  <thead>\n",
       "    <tr style=\"text-align: right;\">\n",
       "      <th></th>\n",
       "      <th>missing_count</th>\n",
       "    </tr>\n",
       "  </thead>\n",
       "  <tbody>\n",
       "    <tr>\n",
       "      <th>source_name</th>\n",
       "      <td>1</td>\n",
       "    </tr>\n",
       "    <tr>\n",
       "      <th>date</th>\n",
       "      <td>6</td>\n",
       "    </tr>\n",
       "    <tr>\n",
       "      <th>text</th>\n",
       "      <td>0</td>\n",
       "    </tr>\n",
       "    <tr>\n",
       "      <th>link</th>\n",
       "      <td>1</td>\n",
       "    </tr>\n",
       "  </tbody>\n",
       "</table>\n",
       "</div>"
      ],
      "text/plain": [
       "             missing_count\n",
       "source_name              1\n",
       "date                     6\n",
       "text                     0\n",
       "link                     1"
      ]
     },
     "execution_count": 22,
     "metadata": {},
     "output_type": "execute_result"
    }
   ],
   "source": [
    "df.isnull().sum().to_frame(\"missing_count\")"
   ]
  },
  {
   "cell_type": "code",
   "execution_count": 23,
   "id": "dba987b7",
   "metadata": {},
   "outputs": [
    {
     "data": {
      "image/png": "[encoded data removed]",
      "text/plain": [
       "<Figure size 1200x600 with 1 Axes>"
      ]
     },
     "metadata": {},
     "output_type": "display_data"
    },
    {
     "name": "stdout",
     "output_type": "stream",
     "text": [
      "Dataset completeness: 99.6%\n"
     ]
    }
   ],
   "source": [
    "# Visualize missing data patterns\n",
    "import seaborn as sns\n",
    "plt.figure(figsize=(12, 6))\n",
    "\n",
    "# Missing data percentage by column\n",
    "plt.subplot(1, 2, 2)\n",
    "missing_pct = (df.isnull().sum() / len(df)) * 100\n",
    "missing_pct.plot(kind='bar', color='skyblue')\n",
    "plt.title('Missing Data Percentage by Column')\n",
    "plt.ylabel('Percentage Missing (%)')\n",
    "plt.xticks(rotation=45)\n",
    "plt.tight_layout()\n",
    "plt.show()\n",
    "\n",
    "print(f\"Dataset completeness: {((1 - df.isnull().sum().sum() / (df.shape[0] * df.shape[1])) * 100):.1f}%\")"
   ]
  },
  {
   "cell_type": "code",
   "execution_count": 24,
   "id": "0d45eeb0",
   "metadata": {},
   "outputs": [],
   "source": [
    "URL_RE = re.compile(r'https?://\\S+|www\\.\\S+')\n",
    "EMAIL_RE = re.compile(r'\\b[\\w\\.-]+@[\\w\\.-]+\\.\\w+\\b')\n",
    "TRUNCATION_RE = re.compile(r\"\\.\\s*\\[\\+\\d+\\s*chars\\]\", flags=re.IGNORECASE)  # e.g., \"... [+7735 chars]\"\n",
    "\n",
    "def is_valid_url(url: str) -> bool:\n",
    "    if not isinstance(url, str) or not url.strip():\n",
    "        return False\n",
    "    try:\n",
    "        u = urlparse(url)\n",
    "        return bool(u.scheme and u.netloc)\n",
    "    except Exception:\n",
    "        return False\n",
    "\n",
    "def normalize_confusables(text: str) -> str:\n",
    "    \"\"\"\n",
    "    Normalize Unicode punctuation likely to be confused in source text.\n",
    "    NOTE: You asked specifically to treat U+2019 (’ right single quote)\n",
    "    as the ASCII backtick U+0060 (`), since that's more common in your source.\n",
    "    \"\"\"\n",
    "    if not isinstance(text, str):\n",
    "        return text\n",
    "    # First do NFKC normalization to reduce odd forms\n",
    "    text = unicodedata.normalize(\"NFKC\", text)\n",
    "\n",
    "    # Map of confusables -> target ASCII\n",
    "    # You can extend this mapping to include more punctuation if needed.\n",
    "    confusables_map = {\n",
    "        \"\\u2019\": \"`\",  # RIGHT SINGLE QUOTATION MARK ’ -> backtick `\n",
    "        \"\\u2018\": \"`\",  # LEFT SINGLE QUOTATION MARK ‘ -> backtick `\n",
    "        \"\\u201C\": '\"',  # LEFT DOUBLE QUOTATION MARK “ -> \"\n",
    "        \"\\u201D\": '\"',  # RIGHT DOUBLE QUOTATION MARK ” -> \"\n",
    "        \"\\u00B4\": \"`\",  # ACUTE ACCENT ´ -> `\n",
    "        \"\\u2032\": \"'\",  # PRIME ′ -> '\n",
    "        \"\\u2033\": '\"',  # DOUBLE PRIME ″ -> \"\n",
    "        \"\\u2014\": \"-\",  # EM DASH — -> -\n",
    "        \"\\u2013\": \"-\",  # EN DASH – -> -\n",
    "        \"\\u00A0\": \" \",  # NO-BREAK SPACE -> regular space\n",
    "    }\n",
    "    # Translate using a table\n",
    "    trans_table = str.maketrans(confusables_map)\n",
    "    text = text.translate(trans_table)\n",
    "\n",
    "    # Collapse excessive whitespace\n",
    "    text = \" \".join(text.split())\n",
    "    return text\n",
    "\n",
    "def replace_specials(text: str) -> str:\n",
    "    \"\"\"Replace URLs/emails inside text with placeholders (keep semantics).\"\"\"\n",
    "    if not isinstance(text, str):\n",
    "        return text\n",
    "    text = URL_RE.sub(\"<URL>\", text)\n",
    "    text = EMAIL_RE.sub(\"<EMAIL>\", text)\n",
    "    return text\n",
    "\n",
    "def coerce_date_any(x):\n",
    "    \"\"\"\n",
    "    Robust date parsing:\n",
    "    - Try pandas to_datetime (handles ISO and many formats).\n",
    "    - If fail, try Month Year (e.g., 'May 2025').\n",
    "    Returns timezone-aware UTC timestamps or NaT.\n",
    "    \"\"\"\n",
    "    if pd.isna(x):\n",
    "        return pd.NaT\n",
    "    dt = pd.to_datetime(x, errors=\"coerce\", utc=True)\n",
    "    if pd.isna(dt):\n",
    "        try:\n",
    "            dt = pd.to_datetime(str(x), format=\"%B %Y\", utc=True)\n",
    "        except Exception:\n",
    "            dt = pd.NaT\n",
    "    return dt\n",
    "\n",
    "def impute_missing_dates(series_dt: pd.Series, group_keys=None) -> pd.Series:\n",
    "    \"\"\"\n",
    "    Impute NaT dates.\n",
    "    Strategy:\n",
    "      1) If group_keys provided (e.g., by source), impute with group median.\n",
    "      2) Fallback to global median.\n",
    "      3) If all missing, keep as NaT.\n",
    "    \"\"\"\n",
    "    s = series_dt.copy()\n",
    "\n",
    "    # Helper to compute safe median for datetime64[ns, UTC]\n",
    "    def _median_datetime(x: pd.Series):\n",
    "        x = x.dropna()\n",
    "        if x.empty:\n",
    "            return pd.NaT\n",
    "        # Convert to int64 ns to compute median, then back\n",
    "        vals = x.view(\"int64\").sort_values().to_numpy()\n",
    "        med = np.median(vals)\n",
    "        try:\n",
    "            return pd.to_datetime(int(med), utc=True)\n",
    "        except Exception:\n",
    "            return pd.NaT\n",
    "\n",
    "    if group_keys is not None:\n",
    "        med_by_group = s.groupby(group_keys, dropna=False).transform(_median_datetime)\n",
    "        s = s.fillna(med_by_group)\n",
    "\n",
    "    global_med = _median_datetime(s)\n",
    "    if pd.isna(global_med):\n",
    "        # nothing to impute with; return as-is\n",
    "        return s\n",
    "\n",
    "    s = s.fillna(global_med)\n",
    "    return s\n",
    "\n",
    "def std_source_name(name: str) -> str:\n",
    "    \"\"\"\n",
    "    Standardize source name:\n",
    "    - Strip whitespace\n",
    "    - Handle None/NaN values gracefully\n",
    "    - Maintain case for ALL CAPS names\n",
    "    - Title case for other names\n",
    "    \"\"\"\n",
    "    if not isinstance(name, str) or not name.strip():\n",
    "        return None\n",
    "        \n",
    "    name = name.strip()\n",
    "    \n",
    "    # If name is all uppercase, keep it that way\n",
    "    if name.isupper():\n",
    "        return name\n",
    "    \n",
    "    # Otherwise title case (capitalize first letter of each word)\n",
    "    return name.title()"
   ]
  },
  {
   "cell_type": "code",
   "execution_count": 45,
   "id": "0d45eeb0",
   "metadata": {},
   "outputs": [
    {
     "data": {
      "text/plain": [
       "source_name_norm\n",
       "Universityofliverpool    143\n",
       "Reddit                   106\n",
       "Zenodo                    61\n",
       "X                         33\n",
       "Aimultiple                10\n",
       "Presbooks                 10\n",
       "Stratxsimulations          8\n",
       "Fullestop Blog             8\n",
       "Youtube                    8\n",
       "Nafsa                      7\n",
       "Nationalcentreforai        7\n",
       "Weforum                    6\n",
       "Eklavvya Blog              6\n",
       "Educationhorizons          5\n",
       "Inside Higher Ed           4\n",
       "Cyberbullying . Org        4\n",
       "Kasigaschool               3\n",
       "Windows Central            3\n",
       "Ed Week                    2\n",
       "Gizmodo                    2\n",
       "Name: count, dtype: int64"
      ]
     },
     "execution_count": 45,
     "metadata": {},
     "output_type": "execute_result"
    }
   ],
   "source": [
    "df['source_name_norm'] = df['source_name'].apply(std_source_name)\n",
    "df['source_name_norm'].fillna(\"Unknown\").value_counts().head(20)"
   ]
  },
  {
   "cell_type": "code",
   "execution_count": null,
   "id": "c9861092",
   "metadata": {},
   "outputs": [
    {
     "data": {
      "text/plain": [
       "Text(0.5, 1.0, 'Source Distribution (Top 10 + Others)')"
      ]
     },
     "execution_count": 44,
     "metadata": {},
     "output_type": "execute_result"
    },
    {
     "data": {
      "image/png": "[encoded data removed]",
      "text/plain": [
       "<Figure size 640x480 with 1 Axes>"
      ]
     },
     "metadata": {},
     "output_type": "display_data"
    }
   ],
   "source": [
    "# Source distribution pie chart (top 10 + others)\n",
    "plt.plot(2, 2, 2)\n",
    "top_10_sources = df['source_name_norm'].fillna(\"Unknown\").value_counts().head(10)\n",
    "others_count = df['source_name_norm'].fillna(\"Unknown\").value_counts().iloc[10:].sum()\n",
    "pie_data = top_10_sources.copy()\n",
    "if others_count > 0:\n",
    "    pie_data['Others'] = others_count\n",
    "\n",
    "colors = plt.cm.Set3(range(len(pie_data)))\n",
    "plt.pie(pie_data.values, labels=pie_data.index, autopct='%1.1f%%', \n",
    "        startangle=90, colors=colors)\n",
    "\n"
   ]
  },
  {
   "cell_type": "code",
   "execution_count": null,
   "id": "1baa409e",
   "metadata": {},
   "outputs": [
    {
     "name": "stdout",
     "output_type": "stream",
     "text": [
      "Total unique sources: 45\n",
      "Sources with unknown names: 1\n",
      "Top 10 sources cover 85.1% of all articles\n"
     ]
    }
   ],
   "source": [
    "print(f\"Total unique sources: {df['source_name_norm'].nunique()}\")\n",
    "print(f\"Sources with unknown names: {df['source_name_norm'].isnull().sum()}\")\n",
    "print(f\"Top 10 sources cover {top_10_sources.sum() / len(df) * 100:.1f}% of all articles\")"
   ]
  },
  {
   "cell_type": "code",
   "execution_count": 46,
   "id": "ca01c6ea",
   "metadata": {},
   "outputs": [
    {
     "name": "stdout",
     "output_type": "stream",
     "text": [
      "Parsed date coverage: 0.978401727861771\n"
     ]
    },
    {
     "name": "stderr",
     "output_type": "stream",
     "text": [
      "/var/folders/4d/c9fb2t_j5znf_ftgytncz11h0000gp/T/ipykernel_97658/1175482285.py:6: UserWarning: Converting to PeriodArray/Index representation will drop timezone information.\n",
      "  monthly['year_month'] = monthly['_date_parsed'].dt.to_period('M').astype(str)\n"
     ]
    },
    {
     "data": {
      "image/png": "[encoded data removed]",
      "text/plain": [
       "<Figure size 640x480 with 1 Axes>"
      ]
     },
     "metadata": {},
     "output_type": "display_data"
    }
   ],
   "source": [
    "df['_date_parsed'] = df['date'].apply(coerce_date_any)\n",
    "print(\"Parsed date coverage:\", df['_date_parsed'].notna().mean())\n",
    "\n",
    "monthly = df.dropna(subset=['_date_parsed']).copy()\n",
    "if not monthly.empty:\n",
    "    monthly['year_month'] = monthly['_date_parsed'].dt.to_period('M').astype(str)\n",
    "    counts = monthly['year_month'].value_counts().sort_index()\n",
    "    counts.plot(kind='bar', rot=45, title='Items per Month')"
   ]
  },
  {
   "cell_type": "code",
   "execution_count": 32,
   "id": "d49efa53",
   "metadata": {},
   "outputs": [
    {
     "data": {
      "text/plain": [
       "count     463.000000\n",
       "mean      357.928726\n",
       "std       478.808321\n",
       "min        33.000000\n",
       "50%       221.000000\n",
       "90%       723.200000\n",
       "95%      1044.100000\n",
       "99%      1983.300000\n",
       "max      7081.000000\n",
       "Name: text_len, dtype: float64"
      ]
     },
     "execution_count": 32,
     "metadata": {},
     "output_type": "execute_result"
    }
   ],
   "source": [
    "df['text_len'] = df['text'].astype(str).str.len()\n",
    "df['text_len'].describe(percentiles=[.5,.9,.95,.99])"
   ]
  },
  {
   "cell_type": "code",
   "execution_count": 33,
   "id": "62b121d0",
   "metadata": {},
   "outputs": [
    {
     "data": {
      "text/plain": [
       "<Axes: title={'center': 'Text Length Distribution'}, ylabel='Frequency'>"
      ]
     },
     "execution_count": 33,
     "metadata": {},
     "output_type": "execute_result"
    },
    {
     "data": {
      "image/png": "[encoded data removed]",
      "text/plain": [
       "<Figure size 640x480 with 1 Axes>"
      ]
     },
     "metadata": {},
     "output_type": "display_data"
    }
   ],
   "source": [
    "df['text_len'].dropna().plot(kind='hist', bins=30, title='Text Length Distribution')"
   ]
  },
  {
   "cell_type": "markdown",
   "id": "19f74034",
   "metadata": {},
   "source": [
    "## Cleaning Pipeline"
   ]
  },
  {
   "cell_type": "code",
   "execution_count": 35,
   "id": "94112816",
   "metadata": {},
   "outputs": [
    {
     "name": "stdout",
     "output_type": "stream",
     "text": [
      "No empty text fields found.\n",
      "Removed 4 exact duplicates on (link, text_clean).\n"
     ]
    },
    {
     "name": "stderr",
     "output_type": "stream",
     "text": [
      "/var/folders/4d/c9fb2t_j5znf_ftgytncz11h0000gp/T/ipykernel_97658/2304314127.py:31: UserWarning: This pattern is interpreted as a regular expression, and has match groups. To actually get the groups, use str.extract.\n",
      "  clean[\"suspicious_repetition\"] = clean[\"text_norm\"].astype(str).str.contains(r'(.)\\\\1{4,}')  # 5+ repeated chars\n"
     ]
    },
    {
     "name": "stdout",
     "output_type": "stream",
     "text": [
      "Removed 3 fuzzy duplicates with threshold 0.9\n"
     ]
    }
   ],
   "source": [
    "clean = df.copy()\n",
    "\n",
    "# 0) Basic trims; keep missing source names (do NOT drop)\n",
    "for col in [\"source_name\", \"text\", \"link\", \"date\"]:\n",
    "    if col in clean.columns:\n",
    "        clean[col] = clean[col].apply(lambda x: x if not isinstance(x, str) else x.strip())\n",
    "\n",
    "# 0.5) Remove rows with empty text fields\n",
    "before_empty = len(clean)\n",
    "# Check for None, NaN, empty strings, or whitespace-only strings\n",
    "empty_text_mask = clean[\"text\"].isna() | (clean[\"text\"].astype(str).str.strip() == \"\")\n",
    "if empty_text_mask.any():\n",
    "    clean = clean[~empty_text_mask].copy()\n",
    "    print(f\"Removed {before_empty - len(clean)} rows with empty text fields.\")\n",
    "else:\n",
    "    print(\"No empty text fields found.\")\n",
    "\n",
    "# 1) Normalize confusables (e.g., ’ -> `), collapse whitespace\n",
    "clean[\"text_norm\"] = clean[\"text\"].apply(normalize_confusables)\n",
    "\n",
    "# 1.5) Improve text quality filtering\n",
    "MIN_TEXT_LENGTH = 20\n",
    "mask_short = clean[\"text_norm\"].astype(str).str.len() < MIN_TEXT_LENGTH\n",
    "if mask_short.any():\n",
    "    print(f\"Removing {mask_short.sum()} entries with text shorter than {MIN_TEXT_LENGTH} chars.\")\n",
    "    clean = clean[~mask_short].copy()\n",
    "\n",
    "# Add text metrics\n",
    "clean[\"word_count\"] = clean[\"text_norm\"].astype(str).str.split().apply(len)\n",
    "clean[\"all_caps\"] = clean[\"text_norm\"].astype(str).str.isupper()\n",
    "clean[\"suspicious_repetition\"] = clean[\"text_norm\"].astype(str).str.contains(r'(.)\\\\1{4,}')  # 5+ repeated chars\n",
    "\n",
    "# 2) Replace specials (URLs/emails) but keep semantics\n",
    "clean[\"text_clean\"] = clean[\"text_norm\"].apply(replace_specials)\n",
    "\n",
    "# 3) Drop rows where text contains truncation markers like \"... [+7735 chars]\"\n",
    "mask_trunc = clean[\"text_clean\"].astype(str).str.contains(TRUNCATION_RE)\n",
    "clean = clean[~mask_trunc].copy()\n",
    "\n",
    "# 4) Validate link (keep rows even if link missing/invalid; we just flag it)\n",
    "clean[\"link_valid\"] = clean[\"link\"].apply(is_valid_url)\n",
    "\n",
    "# 5) Parse dates, then IMPUTE missing dates (do not drop)\n",
    "clean[\"date_parsed\"] = clean[\"date\"].apply(coerce_date_any)\n",
    "\n",
    "# Impute by source_name first (preserving missing source names by treating NaN as its own group),\n",
    "# then fallback to global median.\n",
    "clean[\"date_imputed\"] = impute_missing_dates(clean[\"date_parsed\"], group_keys=clean[\"source_name\"])\n",
    "\n",
    "# 6) Deduplicate:\n",
    "#    Keep rows with the same link UNLESS the text is different.\n",
    "#    That means we remove *exact* duplicates only when both 'link' and 'text_clean' match.\n",
    "before = len(clean)\n",
    "clean = clean.drop_duplicates(subset=[\"link\", \"text_clean\"], keep=\"first\")\n",
    "after = len(clean)\n",
    "print(f\"Removed {before - after} exact duplicates on (link, text_clean).\")\n",
    "\n",
    "# 6.5) Fuzzy deduplication (for small datasets)\n",
    "from difflib import SequenceMatcher\n",
    "def fuzzy_dedupe(df, text_col, threshold=0.9):\n",
    "    texts = df[text_col].tolist()\n",
    "    n = len(texts)\n",
    "    duplicates = set()\n",
    "    for i in range(n):\n",
    "        if i in duplicates:\n",
    "            continue\n",
    "        for j in range(i+1, n):\n",
    "            if j in duplicates:\n",
    "                continue\n",
    "            if len(texts[i]) > 100 and len(texts[j]) > 100:\n",
    "                similarity = SequenceMatcher(None, texts[i][:500], texts[j][:500]).ratio()\n",
    "                if similarity >= threshold:\n",
    "                    duplicates.add(j)\n",
    "    keep_mask = ~df.index.isin([df.index[list(duplicates)]]) if duplicates else [True]*n\n",
    "    print(f\"Removed {len(duplicates)} fuzzy duplicates with threshold {threshold}\")\n",
    "    return df[keep_mask].copy() if duplicates else df\n",
    "\n",
    "if len(clean) < 1000:\n",
    "    clean = fuzzy_dedupe(clean, \"text_clean\", threshold=0.9)"
   ]
  },
  {
   "cell_type": "code",
   "execution_count": 52,
   "id": "ca3ceae8",
   "metadata": {},
   "outputs": [],
   "source": [
    "# 7) Final selection (do NOT drop missing source names)\n",
    "out = clean.copy()\n",
    "out = out.rename(columns={\"date_imputed\": \"date_clean\"})\n",
    "# Derive missing source names from URLs\n",
    "def domain_from_url(url):\n",
    "    if not isinstance(url, str) or not url.strip():\n",
    "        return None\n",
    "    try:\n",
    "        parsed = urlparse(url)\n",
    "        domain = parsed.netloc.lower()\n",
    "        domain = re.sub(r'^www\\\\.', '', domain)\n",
    "        return domain\n",
    "    except Exception:\n",
    "        return None\n",
    "out[\"source_domain\"] = out[\"link\"].apply(domain_from_url)\n",
    "out[\"source_name\"] = out[\"source_name\"].fillna(out[\"source_domain\"])\n",
    "# Keep both original and cleaned variants for auditability if you like; otherwise select minimal columns:\n",
    "out = out[[\n",
    "    \"source_name\",       # filled from domain if missing\n",
    "    \"date_clean\",        # imputed date (never NaT if median existed)\n",
    "    \"text_clean\",        # normalized + placeholders\n",
    "    \"link\",\n",
    "]].reset_index(drop=True)\n",
    "\n",
    "out.to_csv(OUTPUT_PATH, index=False)"
   ]
  },
  {
   "cell_type": "code",
   "execution_count": 38,
   "id": "4114bd1f",
   "metadata": {},
   "outputs": [
    {
     "data": {
      "text/plain": [
       "source_name\n",
       "universityofliverpool    143\n",
       "Reddit                   106\n",
       "Zenodo                    60\n",
       "X                         30\n",
       "AIMultiple                10\n",
       "PresBooks                 10\n",
       "Fullestop Blog             8\n",
       "stratxsimulations          8\n",
       "Youtube                    8\n",
       "nationalcentreforai        7\n",
       "Name: count, dtype: int64"
      ]
     },
     "execution_count": 38,
     "metadata": {},
     "output_type": "execute_result"
    }
   ],
   "source": [
    "out['source_name'].fillna('Unknown').value_counts().head(10)"
   ]
  }
 ],
 "metadata": {
  "kernelspec": {
   "display_name": "3.12.3",
   "language": "python",
   "name": "python3"
  },
  "language_info": {
   "codemirror_mode": {
    "name": "ipython",
    "version": 3
   },
   "file_extension": ".py",
   "mimetype": "text/x-python",
   "name": "python",
   "nbconvert_exporter": "python",
   "pygments_lexer": "ipython3",
   "version": "3.12.3"
  }
 },
 "nbformat": 4,
 "nbformat_minor": 5
}
