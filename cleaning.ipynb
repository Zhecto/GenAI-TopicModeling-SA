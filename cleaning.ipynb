{
 "cells": [
  {
   "cell_type": "markdown",
   "id": "bb1cb227",
   "metadata": {},
   "source": [
    "# GenAI in Education — Cleaning & EDA\n",
    "Notebook to explore and clean the scraped dataset, then export a cleaned CSV.\n",
    "\n",
    "**Steps included**\n",
    "1. Load RAW dataset\n",
    "2. Explore (missing values, top sources, date distribution, text length)\n",
    "3. Cleaning pipeline (normalize text, standardize dates, fill/derive source names, validate links, deduplicate)\n",
    "4. Save cleaned CSV\n"
   ]
  },
  {
   "cell_type": "code",
   "execution_count": 19,
   "id": "afcc2826",
   "metadata": {},
   "outputs": [],
   "source": [
    "import re, unicodedata\n",
    "from urllib.parse import urlparse\n",
    "import pandas as pd\n",
    "import numpy as np\n",
    "import matplotlib.pyplot as plt\n",
    "\n",
    "INPUT_PATH = \"data/raw_genai-education_2023-2025.csv\"\n",
    "OUTPUT_PATH = \"data/clean_genai-education_2023-2025.csv\"\n",
    "\n",
    "pd.set_option(\"display.max_colwidth\", 200)"
   ]
  },
  {
   "cell_type": "code",
   "execution_count": 20,
   "id": "d1be45d2",
   "metadata": {},
   "outputs": [
    {
     "name": "stdout",
     "output_type": "stream",
     "text": [
      "Rows, Columns: (1433, 4)\n"
     ]
    },
    {
     "data": {
      "text/html": [
       "<div>\n",
       "<style scoped>\n",
       "    .dataframe tbody tr th:only-of-type {\n",
       "        vertical-align: middle;\n",
       "    }\n",
       "\n",
       "    .dataframe tbody tr th {\n",
       "        vertical-align: top;\n",
       "    }\n",
       "\n",
       "    .dataframe thead th {\n",
       "        text-align: right;\n",
       "    }\n",
       "</style>\n",
       "<table border=\"1\" class=\"dataframe\">\n",
       "  <thead>\n",
       "    <tr style=\"text-align: right;\">\n",
       "      <th></th>\n",
       "      <th>source_name</th>\n",
       "      <th>date</th>\n",
       "      <th>text</th>\n",
       "      <th>link</th>\n",
       "    </tr>\n",
       "  </thead>\n",
       "  <tbody>\n",
       "    <tr>\n",
       "      <th>0</th>\n",
       "      <td>Reddit</td>\n",
       "      <td>May 2025</td>\n",
       "      <td>Generative AI, most notably ChatGPT, has and is continuing to change the landscape of education. But this also comes with negative side effects, especially students relying on AI to plagirize thei...</td>\n",
       "      <td>https://www.reddit.com/r/edtech/comments/1l5b9t0/thoughts_on_usage_of_ai_in_school_coursework/</td>\n",
       "    </tr>\n",
       "    <tr>\n",
       "      <th>1</th>\n",
       "      <td>Gizmodo</td>\n",
       "      <td>2025-08-16 12:00:42+00:00</td>\n",
       "      <td>Film Schools Are Embracing AI. Should They? Generative AI has come for America's film students. Jake Panek, a 20-year-old film major, says he’s had a great time at DePaul University in Chicago, an...</td>\n",
       "      <td>https://gizmodo.com/film-schools-are-embracing-ai-should-they-2000639311</td>\n",
       "    </tr>\n",
       "    <tr>\n",
       "      <th>2</th>\n",
       "      <td>Windows Central</td>\n",
       "      <td>2025-08-19 15:11:27+00:00</td>\n",
       "      <td>Ex-Google GenAI founder says \"AI is going to be gone by the time you finish a PhD\" — higher education degrees can't keep up Jad Tarifi, founder of Google’s first generative AI team, says pursuing ...</td>\n",
       "      <td>https://www.windowscentral.com/artificial-intelligence/ex-google-genai-founder-ai-gone-by-the-time-you-finish-phd</td>\n",
       "    </tr>\n",
       "  </tbody>\n",
       "</table>\n",
       "</div>"
      ],
      "text/plain": [
       "       source_name                       date  \\\n",
       "0           Reddit                   May 2025   \n",
       "1          Gizmodo  2025-08-16 12:00:42+00:00   \n",
       "2  Windows Central  2025-08-19 15:11:27+00:00   \n",
       "\n",
       "                                                                                                                                                                                                      text  \\\n",
       "0  Generative AI, most notably ChatGPT, has and is continuing to change the landscape of education. But this also comes with negative side effects, especially students relying on AI to plagirize thei...   \n",
       "1  Film Schools Are Embracing AI. Should They? Generative AI has come for America's film students. Jake Panek, a 20-year-old film major, says he’s had a great time at DePaul University in Chicago, an...   \n",
       "2  Ex-Google GenAI founder says \"AI is going to be gone by the time you finish a PhD\" — higher education degrees can't keep up Jad Tarifi, founder of Google’s first generative AI team, says pursuing ...   \n",
       "\n",
       "                                                                                                                link  \n",
       "0                     https://www.reddit.com/r/edtech/comments/1l5b9t0/thoughts_on_usage_of_ai_in_school_coursework/  \n",
       "1                                           https://gizmodo.com/film-schools-are-embracing-ai-should-they-2000639311  \n",
       "2  https://www.windowscentral.com/artificial-intelligence/ex-google-genai-founder-ai-gone-by-the-time-you-finish-phd  "
      ]
     },
     "execution_count": 20,
     "metadata": {},
     "output_type": "execute_result"
    }
   ],
   "source": [
    "df = pd.read_csv(INPUT_PATH)\n",
    "print(\"Rows, Columns:\", df.shape)\n",
    "df.head(3)"
   ]
  },
  {
   "cell_type": "code",
   "execution_count": 21,
   "id": "048c7a60",
   "metadata": {},
   "outputs": [
    {
     "data": {
      "text/html": [
       "<div>\n",
       "<style scoped>\n",
       "    .dataframe tbody tr th:only-of-type {\n",
       "        vertical-align: middle;\n",
       "    }\n",
       "\n",
       "    .dataframe tbody tr th {\n",
       "        vertical-align: top;\n",
       "    }\n",
       "\n",
       "    .dataframe thead th {\n",
       "        text-align: right;\n",
       "    }\n",
       "</style>\n",
       "<table border=\"1\" class=\"dataframe\">\n",
       "  <thead>\n",
       "    <tr style=\"text-align: right;\">\n",
       "      <th></th>\n",
       "      <th>missing_count</th>\n",
       "    </tr>\n",
       "  </thead>\n",
       "  <tbody>\n",
       "    <tr>\n",
       "      <th>source_name</th>\n",
       "      <td>1</td>\n",
       "    </tr>\n",
       "    <tr>\n",
       "      <th>date</th>\n",
       "      <td>6</td>\n",
       "    </tr>\n",
       "    <tr>\n",
       "      <th>text</th>\n",
       "      <td>28</td>\n",
       "    </tr>\n",
       "    <tr>\n",
       "      <th>link</th>\n",
       "      <td>1</td>\n",
       "    </tr>\n",
       "  </tbody>\n",
       "</table>\n",
       "</div>"
      ],
      "text/plain": [
       "             missing_count\n",
       "source_name              1\n",
       "date                     6\n",
       "text                    28\n",
       "link                     1"
      ]
     },
     "execution_count": 21,
     "metadata": {},
     "output_type": "execute_result"
    }
   ],
   "source": [
    "df.isnull().sum().to_frame(\"missing_count\")"
   ]
  },
  {
   "cell_type": "code",
   "execution_count": 22,
   "id": "9de94120",
   "metadata": {},
   "outputs": [],
   "source": [
    "URL_RE = re.compile(r'https?://\\S+|www\\.\\S+')\n",
    "EMAIL_RE = re.compile(r'\\b[\\w\\.-]+@[\\w\\.-]+\\.\\w+\\b')\n",
    "TRUNCATION_RE = re.compile(r\"\\.\\s*\\[\\+\\d+\\s*chars\\]\", flags=re.IGNORECASE)  # e.g., \"... [+7735 chars]\"\n",
    "\n",
    "def is_valid_url(url: str) -> bool:\n",
    "    if not isinstance(url, str) or not url.strip():\n",
    "        return False\n",
    "    try:\n",
    "        u = urlparse(url)\n",
    "        return bool(u.scheme and u.netloc)\n",
    "    except Exception:\n",
    "        return False\n",
    "\n",
    "def normalize_confusables(text: str) -> str:\n",
    "    \"\"\"\n",
    "    Normalize Unicode punctuation likely to be confused in source text.\n",
    "    NOTE: You asked specifically to treat U+2019 (’ right single quote)\n",
    "    as the ASCII backtick U+0060 (`), since that's more common in your source.\n",
    "    \"\"\"\n",
    "    if not isinstance(text, str):\n",
    "        return text\n",
    "    # First do NFKC normalization to reduce odd forms\n",
    "    text = unicodedata.normalize(\"NFKC\", text)\n",
    "\n",
    "    # Map of confusables -> target ASCII\n",
    "    # You can extend this mapping to include more punctuation if needed.\n",
    "    confusables_map = {\n",
    "        \"\\u2019\": \"`\",  # RIGHT SINGLE QUOTATION MARK ’ -> backtick `\n",
    "        \"\\u2018\": \"`\",  # LEFT SINGLE QUOTATION MARK ‘ -> backtick `\n",
    "        \"\\u201C\": '\"',  # LEFT DOUBLE QUOTATION MARK “ -> \"\n",
    "        \"\\u201D\": '\"',  # RIGHT DOUBLE QUOTATION MARK ” -> \"\n",
    "        \"\\u00B4\": \"`\",  # ACUTE ACCENT ´ -> `\n",
    "        \"\\u2032\": \"'\",  # PRIME ′ -> '\n",
    "        \"\\u2033\": '\"',  # DOUBLE PRIME ″ -> \"\n",
    "        \"\\u2014\": \"-\",  # EM DASH — -> -\n",
    "        \"\\u2013\": \"-\",  # EN DASH – -> -\n",
    "        \"\\u00A0\": \" \",  # NO-BREAK SPACE -> regular space\n",
    "    }\n",
    "    # Translate using a table\n",
    "    trans_table = str.maketrans(confusables_map)\n",
    "    text = text.translate(trans_table)\n",
    "\n",
    "    # Collapse excessive whitespace\n",
    "    text = \" \".join(text.split())\n",
    "    return text\n",
    "\n",
    "def replace_specials(text: str) -> str:\n",
    "    \"\"\"Replace URLs/emails inside text with placeholders (keep semantics).\"\"\"\n",
    "    if not isinstance(text, str):\n",
    "        return text\n",
    "    text = URL_RE.sub(\"<URL>\", text)\n",
    "    text = EMAIL_RE.sub(\"<EMAIL>\", text)\n",
    "    return text\n",
    "\n",
    "def coerce_date_any(x):\n",
    "    \"\"\"\n",
    "    Robust date parsing:\n",
    "    - Try pandas to_datetime (handles ISO and many formats).\n",
    "    - If fail, try Month Year (e.g., 'May 2025').\n",
    "    Returns timezone-aware UTC timestamps or NaT.\n",
    "    \"\"\"\n",
    "    if pd.isna(x):\n",
    "        return pd.NaT\n",
    "    dt = pd.to_datetime(x, errors=\"coerce\", utc=True)\n",
    "    if pd.isna(dt):\n",
    "        try:\n",
    "            dt = pd.to_datetime(str(x), format=\"%B %Y\", utc=True)\n",
    "        except Exception:\n",
    "            dt = pd.NaT\n",
    "    return dt\n",
    "\n",
    "def impute_missing_dates(series_dt: pd.Series, group_keys=None) -> pd.Series:\n",
    "    \"\"\"\n",
    "    Impute NaT dates.\n",
    "    Strategy:\n",
    "      1) If group_keys provided (e.g., by source), impute with group median.\n",
    "      2) Fallback to global median.\n",
    "      3) If all missing, keep as NaT.\n",
    "    \"\"\"\n",
    "    s = series_dt.copy()\n",
    "\n",
    "    # Helper to compute safe median for datetime64[ns, UTC]\n",
    "    def _median_datetime(x: pd.Series):\n",
    "        x = x.dropna()\n",
    "        if x.empty:\n",
    "            return pd.NaT\n",
    "        # Convert to int64 ns to compute median, then back\n",
    "        vals = x.view(\"int64\").sort_values().to_numpy()\n",
    "        med = np.median(vals)\n",
    "        try:\n",
    "            return pd.to_datetime(int(med), utc=True)\n",
    "        except Exception:\n",
    "            return pd.NaT\n",
    "\n",
    "    if group_keys is not None:\n",
    "        med_by_group = s.groupby(group_keys, dropna=False).transform(_median_datetime)\n",
    "        s = s.fillna(med_by_group)\n",
    "\n",
    "    global_med = _median_datetime(s)\n",
    "    if pd.isna(global_med):\n",
    "        # nothing to impute with; return as-is\n",
    "        return s\n",
    "\n",
    "    s = s.fillna(global_med)\n",
    "    return s\n",
    "\n",
    "def std_source_name(name: str) -> str:\n",
    "    \"\"\"\n",
    "    Standardize source name:\n",
    "    - Strip whitespace\n",
    "    - Handle None/NaN values gracefully\n",
    "    - Maintain case for ALL CAPS names\n",
    "    - Title case for other names\n",
    "    \"\"\"\n",
    "    if not isinstance(name, str) or not name.strip():\n",
    "        return None\n",
    "        \n",
    "    name = name.strip()\n",
    "    \n",
    "    # If name is all uppercase, keep it that way\n",
    "    if name.isupper():\n",
    "        return name\n",
    "    \n",
    "    # Otherwise title case (capitalize first letter of each word)\n",
    "    return name.title()"
   ]
  },
  {
   "cell_type": "code",
   "execution_count": 23,
   "id": "0d45eeb0",
   "metadata": {},
   "outputs": [
    {
     "data": {
      "text/plain": [
       "source_name_norm\n",
       "Universityofliverpool    1113\n",
       "Reddit                    106\n",
       "Zenodo                     61\n",
       "X                          33\n",
       "Aimultiple                 10\n",
       "Presbooks                  10\n",
       "Stratxsimulations           8\n",
       "Fullestop Blog              8\n",
       "Youtube                     8\n",
       "Nafsa                       7\n",
       "Nationalcentreforai         7\n",
       "Weforum                     6\n",
       "Eklavvya Blog               6\n",
       "Educationhorizons           5\n",
       "Inside Higher Ed            4\n",
       "Cyberbullying . Org         4\n",
       "Kasigaschool                3\n",
       "Windows Central             3\n",
       "Ed Week                     2\n",
       "Gizmodo                     2\n",
       "Name: count, dtype: int64"
      ]
     },
     "execution_count": 23,
     "metadata": {},
     "output_type": "execute_result"
    }
   ],
   "source": [
    "df['source_name_norm'] = df['source_name'].apply(std_source_name)\n",
    "df['source_name_norm'].fillna(\"Unknown\").value_counts().head(20)"
   ]
  },
  {
   "cell_type": "code",
   "execution_count": 24,
   "id": "ca01c6ea",
   "metadata": {},
   "outputs": [
    {
     "name": "stdout",
     "output_type": "stream",
     "text": [
      "Parsed date coverage: 0.9930216329378926\n",
      " 0.9930216329378926\n"
     ]
    },
    {
     "name": "stderr",
     "output_type": "stream",
     "text": [
      "/var/folders/4d/c9fb2t_j5znf_ftgytncz11h0000gp/T/ipykernel_92928/1175482285.py:6: UserWarning: Converting to PeriodArray/Index representation will drop timezone information.\n",
      "  monthly['year_month'] = monthly['_date_parsed'].dt.to_period('M').astype(str)\n"
     ]
    },
    {
     "data": {
      "image/png": "[encoded data removed]",
      "text/plain": [
       "<Figure size 640x480 with 1 Axes>"
      ]
     },
     "metadata": {},
     "output_type": "display_data"
    }
   ],
   "source": [
    "df['_date_parsed'] = df['date'].apply(coerce_date_any)\n",
    "print(\"Parsed date coverage:\", df['_date_parsed'].notna().mean())\n",
    "\n",
    "monthly = df.dropna(subset=['_date_parsed']).copy()\n",
    "if not monthly.empty:\n",
    "    monthly['year_month'] = monthly['_date_parsed'].dt.to_period('M').astype(str)\n",
    "    counts = monthly['year_month'].value_counts().sort_index()\n",
    "    counts.plot(kind='bar', rot=45, title='Items per Month')"
   ]
  },
  {
   "cell_type": "code",
   "execution_count": 25,
   "id": "d49efa53",
   "metadata": {},
   "outputs": [
    {
     "data": {
      "text/plain": [
       "count    1433.000000\n",
       "mean      176.506629\n",
       "std       310.737405\n",
       "min         1.000000\n",
       "50%       101.000000\n",
       "90%       359.000000\n",
       "95%       537.400000\n",
       "99%      1473.360000\n",
       "max      7239.000000\n",
       "Name: text_len, dtype: float64"
      ]
     },
     "execution_count": 25,
     "metadata": {},
     "output_type": "execute_result"
    }
   ],
   "source": [
    "df['text_len'] = df['text'].astype(str).str.len()\n",
    "df['text_len'].describe(percentiles=[.5,.9,.95,.99])"
   ]
  },
  {
   "cell_type": "code",
   "execution_count": 26,
   "id": "62b121d0",
   "metadata": {},
   "outputs": [
    {
     "data": {
      "text/plain": [
       "<Axes: title={'center': 'Text Length Distribution'}, ylabel='Frequency'>"
      ]
     },
     "execution_count": 26,
     "metadata": {},
     "output_type": "execute_result"
    },
    {
     "data": {
      "image/png": "[encoded data removed]",
      "text/plain": [
       "<Figure size 640x480 with 1 Axes>"
      ]
     },
     "metadata": {},
     "output_type": "display_data"
    }
   ],
   "source": [
    "df['text_len'].dropna().plot(kind='hist', bins=30, title='Text Length Distribution')"
   ]
  },
  {
   "cell_type": "markdown",
   "id": "19f74034",
   "metadata": {},
   "source": [
    "## Cleaning Pipeline"
   ]
  },
  {
   "cell_type": "code",
   "execution_count": 27,
   "id": "94112816",
   "metadata": {},
   "outputs": [
    {
     "name": "stdout",
     "output_type": "stream",
     "text": [
      "Removed 28 rows with empty text fields.\n",
      "Removing 132 entries with text shorter than 20 chars.\n"
     ]
    },
    {
     "name": "stderr",
     "output_type": "stream",
     "text": [
      "/var/folders/4d/c9fb2t_j5znf_ftgytncz11h0000gp/T/ipykernel_92928/2304314127.py:31: UserWarning: This pattern is interpreted as a regular expression, and has match groups. To actually get the groups, use str.extract.\n",
      "  clean[\"suspicious_repetition\"] = clean[\"text_norm\"].astype(str).str.contains(r'(.)\\\\1{4,}')  # 5+ repeated chars\n"
     ]
    },
    {
     "name": "stdout",
     "output_type": "stream",
     "text": [
      "Removed 6 exact duplicates on (link, text_clean).\n"
     ]
    }
   ],
   "source": [
    "clean = df.copy()\n",
    "\n",
    "# 0) Basic trims; keep missing source names (do NOT drop)\n",
    "for col in [\"source_name\", \"text\", \"link\", \"date\"]:\n",
    "    if col in clean.columns:\n",
    "        clean[col] = clean[col].apply(lambda x: x if not isinstance(x, str) else x.strip())\n",
    "\n",
    "# 0.5) Remove rows with empty text fields\n",
    "before_empty = len(clean)\n",
    "# Check for None, NaN, empty strings, or whitespace-only strings\n",
    "empty_text_mask = clean[\"text\"].isna() | (clean[\"text\"].astype(str).str.strip() == \"\")\n",
    "if empty_text_mask.any():\n",
    "    clean = clean[~empty_text_mask].copy()\n",
    "    print(f\"Removed {before_empty - len(clean)} rows with empty text fields.\")\n",
    "else:\n",
    "    print(\"No empty text fields found.\")\n",
    "\n",
    "# 1) Normalize confusables (e.g., ’ -> `), collapse whitespace\n",
    "clean[\"text_norm\"] = clean[\"text\"].apply(normalize_confusables)\n",
    "\n",
    "# 1.5) Improve text quality filtering\n",
    "MIN_TEXT_LENGTH = 20\n",
    "mask_short = clean[\"text_norm\"].astype(str).str.len() < MIN_TEXT_LENGTH\n",
    "if mask_short.any():\n",
    "    print(f\"Removing {mask_short.sum()} entries with text shorter than {MIN_TEXT_LENGTH} chars.\")\n",
    "    clean = clean[~mask_short].copy()\n",
    "\n",
    "# Add text metrics\n",
    "clean[\"word_count\"] = clean[\"text_norm\"].astype(str).str.split().apply(len)\n",
    "clean[\"all_caps\"] = clean[\"text_norm\"].astype(str).str.isupper()\n",
    "clean[\"suspicious_repetition\"] = clean[\"text_norm\"].astype(str).str.contains(r'(.)\\\\1{4,}')  # 5+ repeated chars\n",
    "\n",
    "# 2) Replace specials (URLs/emails) but keep semantics\n",
    "clean[\"text_clean\"] = clean[\"text_norm\"].apply(replace_specials)\n",
    "\n",
    "# 3) Drop rows where text contains truncation markers like \"... [+7735 chars]\"\n",
    "mask_trunc = clean[\"text_clean\"].astype(str).str.contains(TRUNCATION_RE)\n",
    "clean = clean[~mask_trunc].copy()\n",
    "\n",
    "# 4) Validate link (keep rows even if link missing/invalid; we just flag it)\n",
    "clean[\"link_valid\"] = clean[\"link\"].apply(is_valid_url)\n",
    "\n",
    "# 5) Parse dates, then IMPUTE missing dates (do not drop)\n",
    "clean[\"date_parsed\"] = clean[\"date\"].apply(coerce_date_any)\n",
    "\n",
    "# Impute by source_name first (preserving missing source names by treating NaN as its own group),\n",
    "# then fallback to global median.\n",
    "clean[\"date_imputed\"] = impute_missing_dates(clean[\"date_parsed\"], group_keys=clean[\"source_name\"])\n",
    "\n",
    "# 6) Deduplicate:\n",
    "#    Keep rows with the same link UNLESS the text is different.\n",
    "#    That means we remove *exact* duplicates only when both 'link' and 'text_clean' match.\n",
    "before = len(clean)\n",
    "clean = clean.drop_duplicates(subset=[\"link\", \"text_clean\"], keep=\"first\")\n",
    "after = len(clean)\n",
    "print(f\"Removed {before - after} exact duplicates on (link, text_clean).\")\n",
    "\n",
    "# 6.5) Fuzzy deduplication (for small datasets)\n",
    "from difflib import SequenceMatcher\n",
    "def fuzzy_dedupe(df, text_col, threshold=0.9):\n",
    "    texts = df[text_col].tolist()\n",
    "    n = len(texts)\n",
    "    duplicates = set()\n",
    "    for i in range(n):\n",
    "        if i in duplicates:\n",
    "            continue\n",
    "        for j in range(i+1, n):\n",
    "            if j in duplicates:\n",
    "                continue\n",
    "            if len(texts[i]) > 100 and len(texts[j]) > 100:\n",
    "                similarity = SequenceMatcher(None, texts[i][:500], texts[j][:500]).ratio()\n",
    "                if similarity >= threshold:\n",
    "                    duplicates.add(j)\n",
    "    keep_mask = ~df.index.isin([df.index[list(duplicates)]]) if duplicates else [True]*n\n",
    "    print(f\"Removed {len(duplicates)} fuzzy duplicates with threshold {threshold}\")\n",
    "    return df[keep_mask].copy() if duplicates else df\n",
    "\n",
    "if len(clean) < 1000:\n",
    "    clean = fuzzy_dedupe(clean, \"text_clean\", threshold=0.9)"
   ]
  },
  {
   "cell_type": "code",
   "execution_count": 28,
   "id": "ca3ceae8",
   "metadata": {},
   "outputs": [
    {
     "data": {
      "text/html": [
       "<div>\n",
       "<style scoped>\n",
       "    .dataframe tbody tr th:only-of-type {\n",
       "        vertical-align: middle;\n",
       "    }\n",
       "\n",
       "    .dataframe tbody tr th {\n",
       "        vertical-align: top;\n",
       "    }\n",
       "\n",
       "    .dataframe thead th {\n",
       "        text-align: right;\n",
       "    }\n",
       "</style>\n",
       "<table border=\"1\" class=\"dataframe\">\n",
       "  <thead>\n",
       "    <tr style=\"text-align: right;\">\n",
       "      <th></th>\n",
       "      <th>source_name</th>\n",
       "      <th>date_clean</th>\n",
       "      <th>text_clean</th>\n",
       "      <th>link</th>\n",
       "    </tr>\n",
       "  </thead>\n",
       "  <tbody>\n",
       "    <tr>\n",
       "      <th>0</th>\n",
       "      <td>Reddit</td>\n",
       "      <td>2025-05-01 00:00:00+00:00</td>\n",
       "      <td>Generative AI, most notably ChatGPT, has and is continuing to change the landscape of education. But this also comes with negative side effects, especially students relying on AI to plagirize thei...</td>\n",
       "      <td>https://www.reddit.com/r/edtech/comments/1l5b9t0/thoughts_on_usage_of_ai_in_school_coursework/</td>\n",
       "    </tr>\n",
       "    <tr>\n",
       "      <th>1</th>\n",
       "      <td>Reddit</td>\n",
       "      <td>2025-05-09 20:18:16+00:00</td>\n",
       "      <td>As a parent with two children (8yo and 9yo) in elementary school, this is a huge concern of mine. Thankfully, they only do pencil on paper writing assignments for now. I don`t give them access to ...</td>\n",
       "      <td>https://www.reddit.com/r/education/comments/1kim0ss/ai_is_ruining_education/mrh7sgn/</td>\n",
       "    </tr>\n",
       "    <tr>\n",
       "      <th>2</th>\n",
       "      <td>Reddit</td>\n",
       "      <td>2025-05-13 17:59:59+00:00</td>\n",
       "      <td>teaching kids how to use AI to better prepare for future job markets ≠ letting kids use AI for every single task and domain you possibly can in a classroom. have AI classes. teach kids how LLMs ac...</td>\n",
       "      <td>https://www.reddit.com/r/education/comments/1kim0ss/ai_is_ruining_education/ms4pik8/</td>\n",
       "    </tr>\n",
       "    <tr>\n",
       "      <th>3</th>\n",
       "      <td>Reddit</td>\n",
       "      <td>2025-04-29 09:32:21+00:00</td>\n",
       "      <td>Seeking Global Perspectives on AI Integration in Education Hello everyone, I'm interested in engaging in a global dialogue about the integration of generative AI in education. I`ll start by sharin...</td>\n",
       "      <td>https://www.reddit.com/r/edtech/comments/1kajtwe/seeking_global_perspectives_on_ai_integration_in/</td>\n",
       "    </tr>\n",
       "    <tr>\n",
       "      <th>4</th>\n",
       "      <td>Reddit</td>\n",
       "      <td>2024-10-23 23:34:20+00:00</td>\n",
       "      <td>Took this course back in April &amp; even as a tech coach who has kept up with AI, felt it was worthwhile enough to suggest to my admin to offer our staff PD, here's the email I sent them: Hey all - a...</td>\n",
       "      <td>https://www.reddit.com/r/edtech/comments/1gab8d7/experiences_with_the_google_generative_ai_for/ltfecux/</td>\n",
       "    </tr>\n",
       "    <tr>\n",
       "      <th>5</th>\n",
       "      <td>Reddit</td>\n",
       "      <td>2024-01-23 18:32:59+00:00</td>\n",
       "      <td>Seeking Collaboration with Education Researchers on AI Platform Data Review and Distribution Hello all! I'm reaching out to this community as I`m looking for researchers interested in the intersec...</td>\n",
       "      <td>https://www.reddit.com/r/education/comments/19dvakj/seeking_collaboration_with_education_researchers/</td>\n",
       "    </tr>\n",
       "    <tr>\n",
       "      <th>6</th>\n",
       "      <td>Reddit</td>\n",
       "      <td>2023-05-14 16:47:18+00:00</td>\n",
       "      <td>G-7 education ministers confirm need to curb risks from generative AI</td>\n",
       "      <td>https://www.reddit.com/r/technology/comments/13hh2jq/g7_education_ministers_confirm_need_to_curb_risks/</td>\n",
       "    </tr>\n",
       "    <tr>\n",
       "      <th>7</th>\n",
       "      <td>Reddit</td>\n",
       "      <td>2023-05-15 00:21:58+00:00</td>\n",
       "      <td>I celebrate the end of writing boring essays. But on the other hand I understand that they were trying to teach reading comprehension and communication skills. If students already have those skill...</td>\n",
       "      <td>https://www.reddit.com/r/technology/comments/13hh2jq/g7_education_ministers_confirm_need_to_curb_risks/jk6jg2d/</td>\n",
       "    </tr>\n",
       "    <tr>\n",
       "      <th>8</th>\n",
       "      <td>Reddit</td>\n",
       "      <td>2023-05-15 01:20:54+00:00</td>\n",
       "      <td>&gt;If students already have those skills it's fine if they use generative AI. It could have a crippling effect on those that don't have those skills and will never develop them. That is the point. W...</td>\n",
       "      <td>https://www.reddit.com/r/technology/comments/13hh2jq/g7_education_ministers_confirm_need_to_curb_risks/jk6q8f9/</td>\n",
       "    </tr>\n",
       "    <tr>\n",
       "      <th>9</th>\n",
       "      <td>Reddit</td>\n",
       "      <td>2023-08-14 23:28:01+00:00</td>\n",
       "      <td>Videos of recent \"AI in Education\" meeting The Rocky Mountain AI Interest Group (RMAIIG) held a hybrid in-person/online meeting on Aug 8, 2023 on the topic of \"AI in Education.\" I'm sharing the vi...</td>\n",
       "      <td>https://www.reddit.com/r/edtech/comments/15ravmx/videos_of_recent_ai_in_education_meeting/</td>\n",
       "    </tr>\n",
       "  </tbody>\n",
       "</table>\n",
       "</div>"
      ],
      "text/plain": [
       "  source_name                date_clean  \\\n",
       "0      Reddit 2025-05-01 00:00:00+00:00   \n",
       "1      Reddit 2025-05-09 20:18:16+00:00   \n",
       "2      Reddit 2025-05-13 17:59:59+00:00   \n",
       "3      Reddit 2025-04-29 09:32:21+00:00   \n",
       "4      Reddit 2024-10-23 23:34:20+00:00   \n",
       "5      Reddit 2024-01-23 18:32:59+00:00   \n",
       "6      Reddit 2023-05-14 16:47:18+00:00   \n",
       "7      Reddit 2023-05-15 00:21:58+00:00   \n",
       "8      Reddit 2023-05-15 01:20:54+00:00   \n",
       "9      Reddit 2023-08-14 23:28:01+00:00   \n",
       "\n",
       "                                                                                                                                                                                                text_clean  \\\n",
       "0  Generative AI, most notably ChatGPT, has and is continuing to change the landscape of education. But this also comes with negative side effects, especially students relying on AI to plagirize thei...   \n",
       "1  As a parent with two children (8yo and 9yo) in elementary school, this is a huge concern of mine. Thankfully, they only do pencil on paper writing assignments for now. I don`t give them access to ...   \n",
       "2  teaching kids how to use AI to better prepare for future job markets ≠ letting kids use AI for every single task and domain you possibly can in a classroom. have AI classes. teach kids how LLMs ac...   \n",
       "3  Seeking Global Perspectives on AI Integration in Education Hello everyone, I'm interested in engaging in a global dialogue about the integration of generative AI in education. I`ll start by sharin...   \n",
       "4  Took this course back in April & even as a tech coach who has kept up with AI, felt it was worthwhile enough to suggest to my admin to offer our staff PD, here's the email I sent them: Hey all - a...   \n",
       "5  Seeking Collaboration with Education Researchers on AI Platform Data Review and Distribution Hello all! I'm reaching out to this community as I`m looking for researchers interested in the intersec...   \n",
       "6                                                                                                                                    G-7 education ministers confirm need to curb risks from generative AI   \n",
       "7  I celebrate the end of writing boring essays. But on the other hand I understand that they were trying to teach reading comprehension and communication skills. If students already have those skill...   \n",
       "8  >If students already have those skills it's fine if they use generative AI. It could have a crippling effect on those that don't have those skills and will never develop them. That is the point. W...   \n",
       "9  Videos of recent \"AI in Education\" meeting The Rocky Mountain AI Interest Group (RMAIIG) held a hybrid in-person/online meeting on Aug 8, 2023 on the topic of \"AI in Education.\" I'm sharing the vi...   \n",
       "\n",
       "                                                                                                              link  \n",
       "0                   https://www.reddit.com/r/edtech/comments/1l5b9t0/thoughts_on_usage_of_ai_in_school_coursework/  \n",
       "1                             https://www.reddit.com/r/education/comments/1kim0ss/ai_is_ruining_education/mrh7sgn/  \n",
       "2                             https://www.reddit.com/r/education/comments/1kim0ss/ai_is_ruining_education/ms4pik8/  \n",
       "3               https://www.reddit.com/r/edtech/comments/1kajtwe/seeking_global_perspectives_on_ai_integration_in/  \n",
       "4          https://www.reddit.com/r/edtech/comments/1gab8d7/experiences_with_the_google_generative_ai_for/ltfecux/  \n",
       "5            https://www.reddit.com/r/education/comments/19dvakj/seeking_collaboration_with_education_researchers/  \n",
       "6          https://www.reddit.com/r/technology/comments/13hh2jq/g7_education_ministers_confirm_need_to_curb_risks/  \n",
       "7  https://www.reddit.com/r/technology/comments/13hh2jq/g7_education_ministers_confirm_need_to_curb_risks/jk6jg2d/  \n",
       "8  https://www.reddit.com/r/technology/comments/13hh2jq/g7_education_ministers_confirm_need_to_curb_risks/jk6q8f9/  \n",
       "9                       https://www.reddit.com/r/edtech/comments/15ravmx/videos_of_recent_ai_in_education_meeting/  "
      ]
     },
     "execution_count": 28,
     "metadata": {},
     "output_type": "execute_result"
    }
   ],
   "source": [
    "# 7) Final selection (do NOT drop missing source names)\n",
    "out = clean.copy()\n",
    "out = out.rename(columns={\"date_imputed\": \"date_clean\"})\n",
    "# Derive missing source names from URLs\n",
    "def domain_from_url(url):\n",
    "    if not isinstance(url, str) or not url.strip():\n",
    "        return None\n",
    "    try:\n",
    "        parsed = urlparse(url)\n",
    "        domain = parsed.netloc.lower()\n",
    "        domain = re.sub(r'^www\\\\.', '', domain)\n",
    "        return domain\n",
    "    except Exception:\n",
    "        return None\n",
    "out[\"source_domain\"] = out[\"link\"].apply(domain_from_url)\n",
    "out[\"source_name\"] = out[\"source_name\"].fillna(out[\"source_domain\"])\n",
    "# Keep both original and cleaned variants for auditability if you like; otherwise select minimal columns:\n",
    "out = out[[\n",
    "    \"source_name\",       # filled from domain if missing\n",
    "    \"date_clean\",        # imputed date (never NaT if median existed)\n",
    "    \"text_clean\",        # normalized + placeholders\n",
    "    \"link\",\n",
    "]].reset_index(drop=True)\n",
    "\n",
    "out.to_csv(OUTPUT_PATH, index=False)\n",
    "out.head(10)"
   ]
  },
  {
   "cell_type": "code",
   "execution_count": 29,
   "id": "4114bd1f",
   "metadata": {},
   "outputs": [
    {
     "data": {
      "text/plain": [
       "source_name\n",
       "universityofliverpool    951\n",
       "Reddit                   106\n",
       "Zenodo                    60\n",
       "X                         30\n",
       "AIMultiple                10\n",
       "PresBooks                 10\n",
       "Fullestop Blog             8\n",
       "stratxsimulations          8\n",
       "Youtube                    8\n",
       "nationalcentreforai        7\n",
       "Name: count, dtype: int64"
      ]
     },
     "execution_count": 29,
     "metadata": {},
     "output_type": "execute_result"
    }
   ],
   "source": [
    "out['source_name'].fillna('Unknown').value_counts().head(10)"
   ]
  }
 ],
 "metadata": {
  "kernelspec": {
   "display_name": "3.12.3",
   "language": "python",
   "name": "python3"
  },
  "language_info": {
   "codemirror_mode": {
    "name": "ipython",
    "version": 3
   },
   "file_extension": ".py",
   "mimetype": "text/x-python",
   "name": "python",
   "nbconvert_exporter": "python",
   "pygments_lexer": "ipython3",
   "version": "3.12.3"
  }
 },
 "nbformat": 4,
 "nbformat_minor": 5
}
